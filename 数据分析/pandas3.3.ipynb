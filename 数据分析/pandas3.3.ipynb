{
 "cells": [
  {
   "cell_type": "code",
   "execution_count": 1,
   "id": "b0559981",
   "metadata": {},
   "outputs": [],
   "source": [
    "import pandas  as pd"
   ]
  },
  {
   "cell_type": "code",
   "execution_count": 2,
   "id": "cfe258d3",
   "metadata": {},
   "outputs": [],
   "source": [
    "s = pd.Series(['a','b','c'])"
   ]
  },
  {
   "cell_type": "code",
   "execution_count": 5,
   "id": "a16089ef",
   "metadata": {},
   "outputs": [
    {
     "data": {
      "text/plain": [
       "0    a\n",
       "1    b\n",
       "2    c\n",
       "dtype: object"
      ]
     },
     "execution_count": 5,
     "metadata": {},
     "output_type": "execute_result"
    }
   ],
   "source": [
    "s"
   ]
  },
  {
   "cell_type": "code",
   "execution_count": 6,
   "id": "061e3d1f",
   "metadata": {},
   "outputs": [
    {
     "data": {
      "text/plain": [
       "0    a\n",
       "1    b\n",
       "2    c\n",
       "dtype: string"
      ]
     },
     "execution_count": 6,
     "metadata": {},
     "output_type": "execute_result"
    }
   ],
   "source": [
    "s.astype(\"string\")"
   ]
  },
  {
   "cell_type": "code",
   "execution_count": 8,
   "id": "4ea01b09",
   "metadata": {},
   "outputs": [
    {
     "data": {
      "text/plain": [
       "str"
      ]
     },
     "execution_count": 8,
     "metadata": {},
     "output_type": "execute_result"
    }
   ],
   "source": [
    "type(s[0])"
   ]
  },
  {
   "cell_type": "code",
   "execution_count": 1,
   "id": "39985bce",
   "metadata": {},
   "outputs": [],
   "source": [
    "import pandas as pd\n",
    "import numpy as np"
   ]
  },
  {
   "cell_type": "code",
   "execution_count": 6,
   "id": "af98c50b",
   "metadata": {},
   "outputs": [],
   "source": [
    "import statsmodels.api as sm\n",
    "import statsmodels.formula.api as smf\n",
    "def dnorm(mean,variance,size=1):\n",
    "    if isinstance(size,int):\n",
    "        size=size\n",
    "        \n",
    "    return mean + np.sqrt(variance)*np.random.randn(size)\n",
    "np.random.seed(12345)\n",
    "n = 100\n",
    "x = np.c_[\n",
    "    dnorm(0,0.4,size=n),\n",
    "    dnorm(0,0.6,size=n),\n",
    "    dnorm(0,0.2,size=n)\n",
    "]"
   ]
  },
  {
   "cell_type": "code",
   "execution_count": 7,
   "id": "99c3aee9",
   "metadata": {},
   "outputs": [
    {
     "data": {
      "text/plain": [
       "array([[-1.29468492e-01, -1.21275292e+00,  5.04224878e-01],\n",
       "       [ 3.02910364e-01, -4.35741756e-01, -2.54179861e-01],\n",
       "       [-3.28521889e-01, -2.53015334e-02,  1.38350968e-01],\n",
       "       [-3.51474705e-01, -7.19605110e-01, -2.58214633e-01],\n",
       "       [ 1.24326880e+00, -3.73799164e-01, -5.22629046e-01],\n",
       "       [ 8.81267227e-01, -2.80898544e-02, -3.68960148e-01],\n",
       "       [ 5.87601006e-02,  8.48485492e-01, -1.18261588e+00],\n",
       "       [ 1.78191913e-01,  7.59823931e-01, -6.84173312e-02],\n",
       "       [ 4.86372577e-01, -4.56615198e-01, -3.36269295e-01],\n",
       "       [ 7.88314544e-01,  1.22517962e+00, -5.93046604e-02],\n",
       "       [ 6.37002481e-01, -4.09556235e-01,  6.51724241e-01],\n",
       "       [-8.19802211e-01,  3.53992127e-01,  2.72581984e-01],\n",
       "       [ 1.73919980e-01,  7.20350703e-01, -2.20824797e-01],\n",
       "       [ 1.44777217e-01, -1.21555178e+00,  5.54535862e-01],\n",
       "       [ 8.55659737e-01, -7.92015008e-01, -6.06967863e-02],\n",
       "       [ 5.60627140e-01, -3.12028394e-01,  6.39534138e-01],\n",
       "       [-1.26594659e+00,  1.70788390e-01, -3.78723930e-01],\n",
       "       [-2.35173870e-01, -1.49807854e-01,  2.69795970e-01],\n",
       "       [ 1.05558429e+00,  5.18327819e-01,  5.65086692e-01],\n",
       "       [-2.77375856e-01, -1.27729815e+00, -1.14258850e-01],\n",
       "       [-3.41362463e-01, -1.74500924e+00, -1.99317903e-01],\n",
       "       [ 3.01671809e-01, -9.03824348e-01,  2.09459948e-01],\n",
       "       [ 2.05481256e+00,  2.73902883e-01, -4.30042348e-01],\n",
       "       [-6.45880997e-01,  5.43852200e-01, -8.15943234e-01],\n",
       "       [-3.64982057e-01, -2.12680391e-01,  2.79699975e-01],\n",
       "       [ 7.85011874e-02, -1.07779075e-01,  4.57442437e-01],\n",
       "       [ 1.91389621e-01,  8.33909252e-02,  4.95255337e-01],\n",
       "       [ 3.31262542e-01, -4.69827834e-01,  4.06683027e-02],\n",
       "       [ 5.94683881e-04, -3.23056701e-01, -1.56573351e-01],\n",
       "       [ 8.49899938e-01, -1.31735941e-02,  9.74733410e-02],\n",
       "       [-4.51284841e-01, -9.48218860e-01, -4.00172597e-01],\n",
       "       [-5.25667654e-01, -1.39492460e+00, -7.78819773e-01],\n",
       "       [-1.49906612e+00,  1.26626122e+00, -4.70583073e-01],\n",
       "       [-1.17684845e+00,  7.66082537e-01,  6.42468297e-01],\n",
       "       [-5.44390778e-01,  3.54718910e-01, -2.57687777e-01],\n",
       "       [ 3.54266989e-01,  4.30020757e-01, -1.08238857e+00],\n",
       "       [-8.00647272e-01,  1.01218075e+00, -4.75088253e-01],\n",
       "       [ 7.57853279e-02, -3.41251328e-01,  1.06156103e-01],\n",
       "       [-6.72624331e-01, -2.33424923e-01,  4.28148461e-04],\n",
       "       [ 2.10533515e-01,  3.86362227e-01,  2.91821096e-02],\n",
       "       [-1.49222748e+00, -6.38260715e-01, -6.11575372e-01],\n",
       "       [-1.26202046e-01,  1.02290590e+00, -1.35416509e-02],\n",
       "       [-9.75243602e-01,  3.93467831e-01,  4.20599611e-01],\n",
       "       [-6.13947298e-01, -5.06150647e-01, -2.87306449e-01],\n",
       "       [-8.26638513e-01,  1.44833709e-01,  4.65182301e-01],\n",
       "       [ 1.81103482e-01, -3.03429073e-01, -4.84297556e-01],\n",
       "       [ 2.39058142e-01, -2.10917232e-01,  1.91950152e-01],\n",
       "       [-4.76799709e-01, -1.32776989e-02, -1.05642436e-01],\n",
       "       [ 2.09523442e-01,  5.26974186e-01,  2.87029653e-01],\n",
       "       [ 8.53651930e-01,  4.92265755e-01, -1.48323110e-01],\n",
       "       [ 4.41938984e-02, -5.86506397e-01,  6.23448053e-01],\n",
       "       [ 1.56010405e-01,  5.56226896e-01, -4.81533636e-01],\n",
       "       [-7.50193522e-03, -2.35688911e-01, -8.60734038e-02],\n",
       "       [ 6.35498649e-01, -1.29961074e+00, -3.89606962e-01],\n",
       "       [ 8.39391576e-01,  3.30741999e-01,  1.88210735e-01],\n",
       "       [-5.81392058e-01, -1.21126768e+00, -5.41759499e-01],\n",
       "       [-9.79740937e-01, -2.84654610e-01, -1.15768803e-01],\n",
       "       [ 1.40307721e-02,  8.10160365e-01, -2.60120379e-01],\n",
       "       [ 4.79630966e-01,  9.44972588e-01, -5.63677241e-01],\n",
       "       [-4.17752265e-01, -1.91866910e-01,  2.07764164e-01],\n",
       "       [ 5.45543545e-01, -3.22412023e-01, -4.78626284e-01],\n",
       "       [-6.34473197e-03, -9.04318406e-02,  3.59659324e-01],\n",
       "       [ 3.16286938e-02, -1.42896634e+00, -7.00942499e-02],\n",
       "       [ 4.23881560e-01,  1.60241421e+00,  8.99073745e-01],\n",
       "       [ 5.39462453e-01, -6.01836417e-01, -3.96725162e-01],\n",
       "       [-6.04544544e-01,  1.11554846e+00, -4.37346379e-01],\n",
       "       [-1.48584806e-02, -8.56373625e-02, -1.19503232e-01],\n",
       "       [-1.45732546e+00,  9.50729878e-01,  2.16155245e-01],\n",
       "       [-4.12657528e-01,  1.48783309e+00, -1.79034241e-01],\n",
       "       [-7.70521825e-01,  5.78184545e-01,  2.01192638e-01],\n",
       "       [-8.42816382e-01,  1.72321391e+00,  1.78703849e-01],\n",
       "       [ 6.79651065e-01, -5.26261295e-01, -6.77863130e-02],\n",
       "       [ 4.57671073e-01,  5.63417436e-01, -1.14394289e+00],\n",
       "       [ 4.36395489e-01, -6.72915933e-01,  7.19150055e-02],\n",
       "       [ 6.33431691e-01, -9.40244868e-01,  3.42230507e-02],\n",
       "       [-3.18180404e-01, -3.64549152e-01, -1.32913744e-01],\n",
       "       [-3.93560776e-01, -7.12041557e-01, -5.78816940e-01],\n",
       "       [-5.82598182e-01, -6.49752359e-01, -3.95864536e-01],\n",
       "       [-4.59297741e-01,  3.37069850e-01, -8.38509956e-02],\n",
       "       [ 1.40971521e-01, -4.32073676e-01, -2.20726742e-01],\n",
       "       [ 3.24551519e-02, -4.39548653e-01, -5.16142466e-02],\n",
       "       [-7.32206081e-01, -2.88646906e-01, -1.56857757e-01],\n",
       "       [ 5.16530820e-01, -7.17707890e-01,  1.99892744e-02],\n",
       "       [ 2.74238794e-01,  1.35950111e+00, -4.01488830e-01],\n",
       "       [ 6.39246173e-01,  9.37114786e-01,  3.98410742e-01],\n",
       "       [ 1.15415242e+00,  9.83756927e-01, -5.14825657e-01],\n",
       "       [-6.30885934e-01, -7.54750051e-01, -1.16825729e+00],\n",
       "       [ 5.37961046e-01, -4.91643675e-01,  5.10382601e-01],\n",
       "       [-8.32169818e-02, -3.06508485e-01, -3.87794796e-01],\n",
       "       [ 5.77061378e-01, -2.24196084e-01,  1.71543648e-01],\n",
       "       [ 1.19034886e-01, -5.68784066e-01, -1.95445831e-01],\n",
       "       [ 1.37208789e+00, -5.64297298e-01,  1.55401720e-01],\n",
       "       [-7.26869788e-02,  6.49712378e-01, -5.50152791e-01],\n",
       "       [ 1.26724948e+00,  2.06734594e-01,  2.55393908e-01],\n",
       "       [ 1.87271046e-02,  5.58634733e-01,  2.68601909e-02],\n",
       "       [ 5.02962258e-01,  7.05644120e-01, -1.00857396e-01],\n",
       "       [ 7.46991671e-02, -7.90787764e-01,  6.03615880e-01],\n",
       "       [-4.73412919e-01, -1.09482736e+00,  6.03872399e-01],\n",
       "       [ 3.69967347e-01,  1.00434812e+00, -1.72916622e-01],\n",
       "       [ 9.65611431e-02,  1.95411537e-01,  3.87282297e-01]])"
      ]
     },
     "execution_count": 7,
     "metadata": {},
     "output_type": "execute_result"
    }
   ],
   "source": [
    "x"
   ]
  },
  {
   "cell_type": "code",
   "execution_count": 10,
   "id": "64b5edda",
   "metadata": {},
   "outputs": [],
   "source": [
    "df = pd.DataFrame(x,columns=['a','b','c'])"
   ]
  },
  {
   "cell_type": "code",
   "execution_count": 11,
   "id": "b5c2e096",
   "metadata": {},
   "outputs": [
    {
     "data": {
      "text/html": [
       "<div>\n",
       "<style scoped>\n",
       "    .dataframe tbody tr th:only-of-type {\n",
       "        vertical-align: middle;\n",
       "    }\n",
       "\n",
       "    .dataframe tbody tr th {\n",
       "        vertical-align: top;\n",
       "    }\n",
       "\n",
       "    .dataframe thead th {\n",
       "        text-align: right;\n",
       "    }\n",
       "</style>\n",
       "<table border=\"1\" class=\"dataframe\">\n",
       "  <thead>\n",
       "    <tr style=\"text-align: right;\">\n",
       "      <th></th>\n",
       "      <th>a</th>\n",
       "      <th>b</th>\n",
       "      <th>c</th>\n",
       "    </tr>\n",
       "  </thead>\n",
       "  <tbody>\n",
       "    <tr>\n",
       "      <th>0</th>\n",
       "      <td>-0.129468</td>\n",
       "      <td>-1.212753</td>\n",
       "      <td>0.504225</td>\n",
       "    </tr>\n",
       "    <tr>\n",
       "      <th>1</th>\n",
       "      <td>0.302910</td>\n",
       "      <td>-0.435742</td>\n",
       "      <td>-0.254180</td>\n",
       "    </tr>\n",
       "    <tr>\n",
       "      <th>2</th>\n",
       "      <td>-0.328522</td>\n",
       "      <td>-0.025302</td>\n",
       "      <td>0.138351</td>\n",
       "    </tr>\n",
       "    <tr>\n",
       "      <th>3</th>\n",
       "      <td>-0.351475</td>\n",
       "      <td>-0.719605</td>\n",
       "      <td>-0.258215</td>\n",
       "    </tr>\n",
       "    <tr>\n",
       "      <th>4</th>\n",
       "      <td>1.243269</td>\n",
       "      <td>-0.373799</td>\n",
       "      <td>-0.522629</td>\n",
       "    </tr>\n",
       "    <tr>\n",
       "      <th>...</th>\n",
       "      <td>...</td>\n",
       "      <td>...</td>\n",
       "      <td>...</td>\n",
       "    </tr>\n",
       "    <tr>\n",
       "      <th>95</th>\n",
       "      <td>0.502962</td>\n",
       "      <td>0.705644</td>\n",
       "      <td>-0.100857</td>\n",
       "    </tr>\n",
       "    <tr>\n",
       "      <th>96</th>\n",
       "      <td>0.074699</td>\n",
       "      <td>-0.790788</td>\n",
       "      <td>0.603616</td>\n",
       "    </tr>\n",
       "    <tr>\n",
       "      <th>97</th>\n",
       "      <td>-0.473413</td>\n",
       "      <td>-1.094827</td>\n",
       "      <td>0.603872</td>\n",
       "    </tr>\n",
       "    <tr>\n",
       "      <th>98</th>\n",
       "      <td>0.369967</td>\n",
       "      <td>1.004348</td>\n",
       "      <td>-0.172917</td>\n",
       "    </tr>\n",
       "    <tr>\n",
       "      <th>99</th>\n",
       "      <td>0.096561</td>\n",
       "      <td>0.195412</td>\n",
       "      <td>0.387282</td>\n",
       "    </tr>\n",
       "  </tbody>\n",
       "</table>\n",
       "<p>100 rows × 3 columns</p>\n",
       "</div>"
      ],
      "text/plain": [
       "           a         b         c\n",
       "0  -0.129468 -1.212753  0.504225\n",
       "1   0.302910 -0.435742 -0.254180\n",
       "2  -0.328522 -0.025302  0.138351\n",
       "3  -0.351475 -0.719605 -0.258215\n",
       "4   1.243269 -0.373799 -0.522629\n",
       "..       ...       ...       ...\n",
       "95  0.502962  0.705644 -0.100857\n",
       "96  0.074699 -0.790788  0.603616\n",
       "97 -0.473413 -1.094827  0.603872\n",
       "98  0.369967  1.004348 -0.172917\n",
       "99  0.096561  0.195412  0.387282\n",
       "\n",
       "[100 rows x 3 columns]"
      ]
     },
     "execution_count": 11,
     "metadata": {},
     "output_type": "execute_result"
    }
   ],
   "source": [
    "df"
   ]
  },
  {
   "cell_type": "code",
   "execution_count": 13,
   "id": "69319b85",
   "metadata": {},
   "outputs": [
    {
     "data": {
      "text/html": [
       "<div>\n",
       "<style scoped>\n",
       "    .dataframe tbody tr th:only-of-type {\n",
       "        vertical-align: middle;\n",
       "    }\n",
       "\n",
       "    .dataframe tbody tr th {\n",
       "        vertical-align: top;\n",
       "    }\n",
       "\n",
       "    .dataframe thead th {\n",
       "        text-align: right;\n",
       "    }\n",
       "</style>\n",
       "<table border=\"1\" class=\"dataframe\">\n",
       "  <thead>\n",
       "    <tr style=\"text-align: right;\">\n",
       "      <th></th>\n",
       "      <th>a</th>\n",
       "      <th>b</th>\n",
       "      <th>c</th>\n",
       "    </tr>\n",
       "  </thead>\n",
       "  <tbody>\n",
       "    <tr>\n",
       "      <th>count</th>\n",
       "      <td>100.000000</td>\n",
       "      <td>100.000000</td>\n",
       "      <td>100.000000</td>\n",
       "    </tr>\n",
       "    <tr>\n",
       "      <th>mean</th>\n",
       "      <td>0.021260</td>\n",
       "      <td>-0.027562</td>\n",
       "      <td>-0.075545</td>\n",
       "    </tr>\n",
       "    <tr>\n",
       "      <th>std</th>\n",
       "      <td>0.657943</td>\n",
       "      <td>0.752054</td>\n",
       "      <td>0.427408</td>\n",
       "    </tr>\n",
       "    <tr>\n",
       "      <th>min</th>\n",
       "      <td>-1.499066</td>\n",
       "      <td>-1.745009</td>\n",
       "      <td>-1.182616</td>\n",
       "    </tr>\n",
       "    <tr>\n",
       "      <th>25%</th>\n",
       "      <td>-0.453288</td>\n",
       "      <td>-0.535770</td>\n",
       "      <td>-0.388248</td>\n",
       "    </tr>\n",
       "    <tr>\n",
       "      <th>50%</th>\n",
       "      <td>0.066730</td>\n",
       "      <td>-0.170837</td>\n",
       "      <td>-0.084962</td>\n",
       "    </tr>\n",
       "    <tr>\n",
       "      <th>75%</th>\n",
       "      <td>0.481316</td>\n",
       "      <td>0.546946</td>\n",
       "      <td>0.208188</td>\n",
       "    </tr>\n",
       "    <tr>\n",
       "      <th>max</th>\n",
       "      <td>2.054813</td>\n",
       "      <td>1.723214</td>\n",
       "      <td>0.899074</td>\n",
       "    </tr>\n",
       "  </tbody>\n",
       "</table>\n",
       "</div>"
      ],
      "text/plain": [
       "                a           b           c\n",
       "count  100.000000  100.000000  100.000000\n",
       "mean     0.021260   -0.027562   -0.075545\n",
       "std      0.657943    0.752054    0.427408\n",
       "min     -1.499066   -1.745009   -1.182616\n",
       "25%     -0.453288   -0.535770   -0.388248\n",
       "50%      0.066730   -0.170837   -0.084962\n",
       "75%      0.481316    0.546946    0.208188\n",
       "max      2.054813    1.723214    0.899074"
      ]
     },
     "execution_count": 13,
     "metadata": {},
     "output_type": "execute_result"
    }
   ],
   "source": [
    "df.describe()"
   ]
  },
  {
   "cell_type": "code",
   "execution_count": 16,
   "id": "69542fb7",
   "metadata": {},
   "outputs": [
    {
     "data": {
      "text/plain": [
       "a    0\n",
       "b    0\n",
       "c    0\n",
       "dtype: int64"
      ]
     },
     "execution_count": 16,
     "metadata": {},
     "output_type": "execute_result"
    }
   ],
   "source": [
    "df.isnull().sum()"
   ]
  },
  {
   "cell_type": "code",
   "execution_count": 17,
   "id": "7e41811e",
   "metadata": {},
   "outputs": [],
   "source": [
    "df[80:] = np.nan"
   ]
  },
  {
   "cell_type": "code",
   "execution_count": 18,
   "id": "9a052286",
   "metadata": {},
   "outputs": [
    {
     "data": {
      "text/html": [
       "<div>\n",
       "<style scoped>\n",
       "    .dataframe tbody tr th:only-of-type {\n",
       "        vertical-align: middle;\n",
       "    }\n",
       "\n",
       "    .dataframe tbody tr th {\n",
       "        vertical-align: top;\n",
       "    }\n",
       "\n",
       "    .dataframe thead th {\n",
       "        text-align: right;\n",
       "    }\n",
       "</style>\n",
       "<table border=\"1\" class=\"dataframe\">\n",
       "  <thead>\n",
       "    <tr style=\"text-align: right;\">\n",
       "      <th></th>\n",
       "      <th>a</th>\n",
       "      <th>b</th>\n",
       "      <th>c</th>\n",
       "    </tr>\n",
       "  </thead>\n",
       "  <tbody>\n",
       "    <tr>\n",
       "      <th>0</th>\n",
       "      <td>-0.129468</td>\n",
       "      <td>-1.212753</td>\n",
       "      <td>0.504225</td>\n",
       "    </tr>\n",
       "    <tr>\n",
       "      <th>1</th>\n",
       "      <td>0.302910</td>\n",
       "      <td>-0.435742</td>\n",
       "      <td>-0.254180</td>\n",
       "    </tr>\n",
       "    <tr>\n",
       "      <th>2</th>\n",
       "      <td>-0.328522</td>\n",
       "      <td>-0.025302</td>\n",
       "      <td>0.138351</td>\n",
       "    </tr>\n",
       "    <tr>\n",
       "      <th>3</th>\n",
       "      <td>-0.351475</td>\n",
       "      <td>-0.719605</td>\n",
       "      <td>-0.258215</td>\n",
       "    </tr>\n",
       "    <tr>\n",
       "      <th>4</th>\n",
       "      <td>1.243269</td>\n",
       "      <td>-0.373799</td>\n",
       "      <td>-0.522629</td>\n",
       "    </tr>\n",
       "    <tr>\n",
       "      <th>...</th>\n",
       "      <td>...</td>\n",
       "      <td>...</td>\n",
       "      <td>...</td>\n",
       "    </tr>\n",
       "    <tr>\n",
       "      <th>95</th>\n",
       "      <td>NaN</td>\n",
       "      <td>NaN</td>\n",
       "      <td>NaN</td>\n",
       "    </tr>\n",
       "    <tr>\n",
       "      <th>96</th>\n",
       "      <td>NaN</td>\n",
       "      <td>NaN</td>\n",
       "      <td>NaN</td>\n",
       "    </tr>\n",
       "    <tr>\n",
       "      <th>97</th>\n",
       "      <td>NaN</td>\n",
       "      <td>NaN</td>\n",
       "      <td>NaN</td>\n",
       "    </tr>\n",
       "    <tr>\n",
       "      <th>98</th>\n",
       "      <td>NaN</td>\n",
       "      <td>NaN</td>\n",
       "      <td>NaN</td>\n",
       "    </tr>\n",
       "    <tr>\n",
       "      <th>99</th>\n",
       "      <td>NaN</td>\n",
       "      <td>NaN</td>\n",
       "      <td>NaN</td>\n",
       "    </tr>\n",
       "  </tbody>\n",
       "</table>\n",
       "<p>100 rows × 3 columns</p>\n",
       "</div>"
      ],
      "text/plain": [
       "           a         b         c\n",
       "0  -0.129468 -1.212753  0.504225\n",
       "1   0.302910 -0.435742 -0.254180\n",
       "2  -0.328522 -0.025302  0.138351\n",
       "3  -0.351475 -0.719605 -0.258215\n",
       "4   1.243269 -0.373799 -0.522629\n",
       "..       ...       ...       ...\n",
       "95       NaN       NaN       NaN\n",
       "96       NaN       NaN       NaN\n",
       "97       NaN       NaN       NaN\n",
       "98       NaN       NaN       NaN\n",
       "99       NaN       NaN       NaN\n",
       "\n",
       "[100 rows x 3 columns]"
      ]
     },
     "execution_count": 18,
     "metadata": {},
     "output_type": "execute_result"
    }
   ],
   "source": [
    "df"
   ]
  },
  {
   "cell_type": "code",
   "execution_count": 22,
   "id": "f6635604",
   "metadata": {},
   "outputs": [],
   "source": [
    "df.c[20]=np.nan"
   ]
  },
  {
   "cell_type": "code",
   "execution_count": 25,
   "id": "77112d0e",
   "metadata": {},
   "outputs": [
    {
     "data": {
      "text/html": [
       "<div>\n",
       "<style scoped>\n",
       "    .dataframe tbody tr th:only-of-type {\n",
       "        vertical-align: middle;\n",
       "    }\n",
       "\n",
       "    .dataframe tbody tr th {\n",
       "        vertical-align: top;\n",
       "    }\n",
       "\n",
       "    .dataframe thead th {\n",
       "        text-align: right;\n",
       "    }\n",
       "</style>\n",
       "<table border=\"1\" class=\"dataframe\">\n",
       "  <thead>\n",
       "    <tr style=\"text-align: right;\">\n",
       "      <th></th>\n",
       "      <th>a</th>\n",
       "      <th>b</th>\n",
       "      <th>c</th>\n",
       "    </tr>\n",
       "  </thead>\n",
       "  <tbody>\n",
       "    <tr>\n",
       "      <th>0</th>\n",
       "      <td>-0.129468</td>\n",
       "      <td>-1.212753</td>\n",
       "      <td>0.504225</td>\n",
       "    </tr>\n",
       "    <tr>\n",
       "      <th>1</th>\n",
       "      <td>0.302910</td>\n",
       "      <td>-0.435742</td>\n",
       "      <td>-0.254180</td>\n",
       "    </tr>\n",
       "    <tr>\n",
       "      <th>2</th>\n",
       "      <td>-0.328522</td>\n",
       "      <td>-0.025302</td>\n",
       "      <td>0.138351</td>\n",
       "    </tr>\n",
       "    <tr>\n",
       "      <th>3</th>\n",
       "      <td>-0.351475</td>\n",
       "      <td>-0.719605</td>\n",
       "      <td>-0.258215</td>\n",
       "    </tr>\n",
       "    <tr>\n",
       "      <th>4</th>\n",
       "      <td>1.243269</td>\n",
       "      <td>-0.373799</td>\n",
       "      <td>-0.522629</td>\n",
       "    </tr>\n",
       "    <tr>\n",
       "      <th>5</th>\n",
       "      <td>0.881267</td>\n",
       "      <td>-0.028090</td>\n",
       "      <td>-0.368960</td>\n",
       "    </tr>\n",
       "    <tr>\n",
       "      <th>6</th>\n",
       "      <td>0.058760</td>\n",
       "      <td>0.848485</td>\n",
       "      <td>-1.182616</td>\n",
       "    </tr>\n",
       "    <tr>\n",
       "      <th>7</th>\n",
       "      <td>0.178192</td>\n",
       "      <td>0.759824</td>\n",
       "      <td>-0.068417</td>\n",
       "    </tr>\n",
       "    <tr>\n",
       "      <th>8</th>\n",
       "      <td>0.486373</td>\n",
       "      <td>-0.456615</td>\n",
       "      <td>-0.336269</td>\n",
       "    </tr>\n",
       "    <tr>\n",
       "      <th>9</th>\n",
       "      <td>0.788315</td>\n",
       "      <td>1.225180</td>\n",
       "      <td>-0.059305</td>\n",
       "    </tr>\n",
       "    <tr>\n",
       "      <th>10</th>\n",
       "      <td>0.637002</td>\n",
       "      <td>-0.409556</td>\n",
       "      <td>0.651724</td>\n",
       "    </tr>\n",
       "    <tr>\n",
       "      <th>11</th>\n",
       "      <td>-0.819802</td>\n",
       "      <td>0.353992</td>\n",
       "      <td>0.272582</td>\n",
       "    </tr>\n",
       "    <tr>\n",
       "      <th>12</th>\n",
       "      <td>0.173920</td>\n",
       "      <td>0.720351</td>\n",
       "      <td>-0.220825</td>\n",
       "    </tr>\n",
       "    <tr>\n",
       "      <th>13</th>\n",
       "      <td>0.144777</td>\n",
       "      <td>-1.215552</td>\n",
       "      <td>0.554536</td>\n",
       "    </tr>\n",
       "    <tr>\n",
       "      <th>14</th>\n",
       "      <td>0.855660</td>\n",
       "      <td>-0.792015</td>\n",
       "      <td>-0.060697</td>\n",
       "    </tr>\n",
       "    <tr>\n",
       "      <th>15</th>\n",
       "      <td>0.560627</td>\n",
       "      <td>-0.312028</td>\n",
       "      <td>0.639534</td>\n",
       "    </tr>\n",
       "    <tr>\n",
       "      <th>16</th>\n",
       "      <td>-1.265947</td>\n",
       "      <td>0.170788</td>\n",
       "      <td>-0.378724</td>\n",
       "    </tr>\n",
       "    <tr>\n",
       "      <th>17</th>\n",
       "      <td>-0.235174</td>\n",
       "      <td>-0.149808</td>\n",
       "      <td>0.269796</td>\n",
       "    </tr>\n",
       "    <tr>\n",
       "      <th>18</th>\n",
       "      <td>1.055584</td>\n",
       "      <td>0.518328</td>\n",
       "      <td>0.565087</td>\n",
       "    </tr>\n",
       "    <tr>\n",
       "      <th>19</th>\n",
       "      <td>-0.277376</td>\n",
       "      <td>-1.277298</td>\n",
       "      <td>-0.114259</td>\n",
       "    </tr>\n",
       "    <tr>\n",
       "      <th>20</th>\n",
       "      <td>-0.341362</td>\n",
       "      <td>-1.745009</td>\n",
       "      <td>NaN</td>\n",
       "    </tr>\n",
       "  </tbody>\n",
       "</table>\n",
       "</div>"
      ],
      "text/plain": [
       "           a         b         c\n",
       "0  -0.129468 -1.212753  0.504225\n",
       "1   0.302910 -0.435742 -0.254180\n",
       "2  -0.328522 -0.025302  0.138351\n",
       "3  -0.351475 -0.719605 -0.258215\n",
       "4   1.243269 -0.373799 -0.522629\n",
       "5   0.881267 -0.028090 -0.368960\n",
       "6   0.058760  0.848485 -1.182616\n",
       "7   0.178192  0.759824 -0.068417\n",
       "8   0.486373 -0.456615 -0.336269\n",
       "9   0.788315  1.225180 -0.059305\n",
       "10  0.637002 -0.409556  0.651724\n",
       "11 -0.819802  0.353992  0.272582\n",
       "12  0.173920  0.720351 -0.220825\n",
       "13  0.144777 -1.215552  0.554536\n",
       "14  0.855660 -0.792015 -0.060697\n",
       "15  0.560627 -0.312028  0.639534\n",
       "16 -1.265947  0.170788 -0.378724\n",
       "17 -0.235174 -0.149808  0.269796\n",
       "18  1.055584  0.518328  0.565087\n",
       "19 -0.277376 -1.277298 -0.114259\n",
       "20 -0.341362 -1.745009       NaN"
      ]
     },
     "execution_count": 25,
     "metadata": {},
     "output_type": "execute_result"
    }
   ],
   "source": [
    "df.head(21)"
   ]
  },
  {
   "cell_type": "code",
   "execution_count": 30,
   "id": "e49f0023",
   "metadata": {},
   "outputs": [
    {
     "data": {
      "text/plain": [
       "21"
      ]
     },
     "execution_count": 30,
     "metadata": {},
     "output_type": "execute_result"
    }
   ],
   "source": [
    "df['c'].isna().sum()"
   ]
  },
  {
   "cell_type": "code",
   "execution_count": 31,
   "id": "95cc8c0b",
   "metadata": {},
   "outputs": [
    {
     "data": {
      "text/plain": [
       "80"
      ]
     },
     "execution_count": 31,
     "metadata": {},
     "output_type": "execute_result"
    }
   ],
   "source": [
    "df['b'].notna().sum()"
   ]
  },
  {
   "cell_type": "code",
   "execution_count": 32,
   "id": "1414d885",
   "metadata": {},
   "outputs": [],
   "source": [
    "statistics = df.describe()"
   ]
  },
  {
   "cell_type": "code",
   "execution_count": 37,
   "id": "c11a0096",
   "metadata": {},
   "outputs": [
    {
     "data": {
      "text/plain": [
       "a    10.142370\n",
       "b    10.072564\n",
       "c     9.847982\n",
       "dtype: float64"
      ]
     },
     "execution_count": 37,
     "metadata": {},
     "output_type": "execute_result"
    }
   ],
   "source": [
    "statistics.mean()"
   ]
  },
  {
   "cell_type": "code",
   "execution_count": 41,
   "id": "f43de111",
   "metadata": {},
   "outputs": [],
   "source": [
    "df1 = df['a'].fillna(statistics.mean().a)"
   ]
  },
  {
   "cell_type": "code",
   "execution_count": 42,
   "id": "13a35c3e",
   "metadata": {},
   "outputs": [
    {
     "data": {
      "text/plain": [
       "0     -0.129468\n",
       "1      0.302910\n",
       "2     -0.328522\n",
       "3     -0.351475\n",
       "4      1.243269\n",
       "        ...    \n",
       "95    10.142370\n",
       "96    10.142370\n",
       "97    10.142370\n",
       "98    10.142370\n",
       "99    10.142370\n",
       "Name: a, Length: 100, dtype: float64"
      ]
     },
     "execution_count": 42,
     "metadata": {},
     "output_type": "execute_result"
    }
   ],
   "source": [
    "df1"
   ]
  },
  {
   "cell_type": "code",
   "execution_count": 55,
   "id": "040a556a",
   "metadata": {},
   "outputs": [
    {
     "data": {
      "text/plain": [
       "'df2 = pd.concat([df1,df])'"
      ]
     },
     "execution_count": 55,
     "metadata": {},
     "output_type": "execute_result"
    }
   ],
   "source": [
    "\"\"\"df2 = pd.concat([df1,df])\"\"\""
   ]
  },
  {
   "cell_type": "code",
   "execution_count": 56,
   "id": "9c182706",
   "metadata": {},
   "outputs": [
    {
     "data": {
      "text/html": [
       "<div>\n",
       "<style scoped>\n",
       "    .dataframe tbody tr th:only-of-type {\n",
       "        vertical-align: middle;\n",
       "    }\n",
       "\n",
       "    .dataframe tbody tr th {\n",
       "        vertical-align: top;\n",
       "    }\n",
       "\n",
       "    .dataframe thead th {\n",
       "        text-align: right;\n",
       "    }\n",
       "</style>\n",
       "<table border=\"1\" class=\"dataframe\">\n",
       "  <thead>\n",
       "    <tr style=\"text-align: right;\">\n",
       "      <th></th>\n",
       "      <th>0</th>\n",
       "      <th>a</th>\n",
       "      <th>b</th>\n",
       "      <th>c</th>\n",
       "    </tr>\n",
       "  </thead>\n",
       "  <tbody>\n",
       "    <tr>\n",
       "      <th>0</th>\n",
       "      <td>-0.129468</td>\n",
       "      <td>NaN</td>\n",
       "      <td>NaN</td>\n",
       "      <td>NaN</td>\n",
       "    </tr>\n",
       "    <tr>\n",
       "      <th>1</th>\n",
       "      <td>0.302910</td>\n",
       "      <td>NaN</td>\n",
       "      <td>NaN</td>\n",
       "      <td>NaN</td>\n",
       "    </tr>\n",
       "    <tr>\n",
       "      <th>2</th>\n",
       "      <td>-0.328522</td>\n",
       "      <td>NaN</td>\n",
       "      <td>NaN</td>\n",
       "      <td>NaN</td>\n",
       "    </tr>\n",
       "    <tr>\n",
       "      <th>3</th>\n",
       "      <td>-0.351475</td>\n",
       "      <td>NaN</td>\n",
       "      <td>NaN</td>\n",
       "      <td>NaN</td>\n",
       "    </tr>\n",
       "    <tr>\n",
       "      <th>4</th>\n",
       "      <td>1.243269</td>\n",
       "      <td>NaN</td>\n",
       "      <td>NaN</td>\n",
       "      <td>NaN</td>\n",
       "    </tr>\n",
       "    <tr>\n",
       "      <th>...</th>\n",
       "      <td>...</td>\n",
       "      <td>...</td>\n",
       "      <td>...</td>\n",
       "      <td>...</td>\n",
       "    </tr>\n",
       "    <tr>\n",
       "      <th>95</th>\n",
       "      <td>NaN</td>\n",
       "      <td>NaN</td>\n",
       "      <td>NaN</td>\n",
       "      <td>NaN</td>\n",
       "    </tr>\n",
       "    <tr>\n",
       "      <th>96</th>\n",
       "      <td>NaN</td>\n",
       "      <td>NaN</td>\n",
       "      <td>NaN</td>\n",
       "      <td>NaN</td>\n",
       "    </tr>\n",
       "    <tr>\n",
       "      <th>97</th>\n",
       "      <td>NaN</td>\n",
       "      <td>NaN</td>\n",
       "      <td>NaN</td>\n",
       "      <td>NaN</td>\n",
       "    </tr>\n",
       "    <tr>\n",
       "      <th>98</th>\n",
       "      <td>NaN</td>\n",
       "      <td>NaN</td>\n",
       "      <td>NaN</td>\n",
       "      <td>NaN</td>\n",
       "    </tr>\n",
       "    <tr>\n",
       "      <th>99</th>\n",
       "      <td>NaN</td>\n",
       "      <td>NaN</td>\n",
       "      <td>NaN</td>\n",
       "      <td>NaN</td>\n",
       "    </tr>\n",
       "  </tbody>\n",
       "</table>\n",
       "<p>200 rows × 4 columns</p>\n",
       "</div>"
      ],
      "text/plain": [
       "           0   a   b   c\n",
       "0  -0.129468 NaN NaN NaN\n",
       "1   0.302910 NaN NaN NaN\n",
       "2  -0.328522 NaN NaN NaN\n",
       "3  -0.351475 NaN NaN NaN\n",
       "4   1.243269 NaN NaN NaN\n",
       "..       ...  ..  ..  ..\n",
       "95       NaN NaN NaN NaN\n",
       "96       NaN NaN NaN NaN\n",
       "97       NaN NaN NaN NaN\n",
       "98       NaN NaN NaN NaN\n",
       "99       NaN NaN NaN NaN\n",
       "\n",
       "[200 rows x 4 columns]"
      ]
     },
     "execution_count": 56,
     "metadata": {},
     "output_type": "execute_result"
    }
   ],
   "source": [
    "df2"
   ]
  },
  {
   "cell_type": "code",
   "execution_count": 54,
   "id": "6cbc4554",
   "metadata": {},
   "outputs": [
    {
     "data": {
      "text/html": [
       "<div>\n",
       "<style scoped>\n",
       "    .dataframe tbody tr th:only-of-type {\n",
       "        vertical-align: middle;\n",
       "    }\n",
       "\n",
       "    .dataframe tbody tr th {\n",
       "        vertical-align: top;\n",
       "    }\n",
       "\n",
       "    .dataframe thead th {\n",
       "        text-align: right;\n",
       "    }\n",
       "</style>\n",
       "<table border=\"1\" class=\"dataframe\">\n",
       "  <thead>\n",
       "    <tr style=\"text-align: right;\">\n",
       "      <th></th>\n",
       "      <th>a</th>\n",
       "      <th>b</th>\n",
       "      <th>c</th>\n",
       "    </tr>\n",
       "  </thead>\n",
       "  <tbody>\n",
       "    <tr>\n",
       "      <th>0</th>\n",
       "      <td>-0.129468</td>\n",
       "      <td>-1.212753</td>\n",
       "      <td>0.504225</td>\n",
       "    </tr>\n",
       "    <tr>\n",
       "      <th>1</th>\n",
       "      <td>0.302910</td>\n",
       "      <td>-0.435742</td>\n",
       "      <td>-0.254180</td>\n",
       "    </tr>\n",
       "    <tr>\n",
       "      <th>2</th>\n",
       "      <td>-0.328522</td>\n",
       "      <td>-0.025302</td>\n",
       "      <td>0.138351</td>\n",
       "    </tr>\n",
       "    <tr>\n",
       "      <th>3</th>\n",
       "      <td>-0.351475</td>\n",
       "      <td>-0.719605</td>\n",
       "      <td>-0.258215</td>\n",
       "    </tr>\n",
       "    <tr>\n",
       "      <th>4</th>\n",
       "      <td>1.243269</td>\n",
       "      <td>-0.373799</td>\n",
       "      <td>-0.522629</td>\n",
       "    </tr>\n",
       "    <tr>\n",
       "      <th>...</th>\n",
       "      <td>...</td>\n",
       "      <td>...</td>\n",
       "      <td>...</td>\n",
       "    </tr>\n",
       "    <tr>\n",
       "      <th>95</th>\n",
       "      <td>NaN</td>\n",
       "      <td>NaN</td>\n",
       "      <td>NaN</td>\n",
       "    </tr>\n",
       "    <tr>\n",
       "      <th>96</th>\n",
       "      <td>NaN</td>\n",
       "      <td>NaN</td>\n",
       "      <td>NaN</td>\n",
       "    </tr>\n",
       "    <tr>\n",
       "      <th>97</th>\n",
       "      <td>NaN</td>\n",
       "      <td>NaN</td>\n",
       "      <td>NaN</td>\n",
       "    </tr>\n",
       "    <tr>\n",
       "      <th>98</th>\n",
       "      <td>NaN</td>\n",
       "      <td>NaN</td>\n",
       "      <td>NaN</td>\n",
       "    </tr>\n",
       "    <tr>\n",
       "      <th>99</th>\n",
       "      <td>NaN</td>\n",
       "      <td>NaN</td>\n",
       "      <td>NaN</td>\n",
       "    </tr>\n",
       "  </tbody>\n",
       "</table>\n",
       "<p>100 rows × 3 columns</p>\n",
       "</div>"
      ],
      "text/plain": [
       "           a         b         c\n",
       "0  -0.129468 -1.212753  0.504225\n",
       "1   0.302910 -0.435742 -0.254180\n",
       "2  -0.328522 -0.025302  0.138351\n",
       "3  -0.351475 -0.719605 -0.258215\n",
       "4   1.243269 -0.373799 -0.522629\n",
       "..       ...       ...       ...\n",
       "95       NaN       NaN       NaN\n",
       "96       NaN       NaN       NaN\n",
       "97       NaN       NaN       NaN\n",
       "98       NaN       NaN       NaN\n",
       "99       NaN       NaN       NaN\n",
       "\n",
       "[100 rows x 3 columns]"
      ]
     },
     "execution_count": 54,
     "metadata": {},
     "output_type": "execute_result"
    }
   ],
   "source": [
    "df"
   ]
  },
  {
   "cell_type": "code",
   "execution_count": 57,
   "id": "3c2f1f51",
   "metadata": {},
   "outputs": [
    {
     "data": {
      "text/plain": [
       "'merge\\nconcat\\ncombine_first'"
      ]
     },
     "execution_count": 57,
     "metadata": {},
     "output_type": "execute_result"
    }
   ],
   "source": [
    "\"\"\"merge\n",
    "concat\n",
    "combine_first\"\"\""
   ]
  },
  {
   "cell_type": "code",
   "execution_count": 68,
   "id": "2615be1f",
   "metadata": {},
   "outputs": [
    {
     "data": {
      "text/plain": [
       "0     0.504225\n",
       "1    -0.254180\n",
       "2     0.138351\n",
       "3    -0.258215\n",
       "4    -0.522629\n",
       "        ...   \n",
       "75   -0.132914\n",
       "76   -0.578817\n",
       "77   -0.395865\n",
       "78   -0.083851\n",
       "79   -0.220727\n",
       "Name: c, Length: 79, dtype: float64"
      ]
     },
     "execution_count": 68,
     "metadata": {},
     "output_type": "execute_result"
    }
   ],
   "source": [
    "df[\"c\"].dropna()"
   ]
  },
  {
   "cell_type": "code",
   "execution_count": 69,
   "id": "c255a7f5",
   "metadata": {},
   "outputs": [
    {
     "ename": "SyntaxError",
     "evalue": "(unicode error) 'unicodeescape' codec can't decode bytes in position 2-3: truncated \\UXXXXXXXX escape (Temp/ipykernel_11560/3391837037.py, line 1)",
     "output_type": "error",
     "traceback": [
      "\u001b[1;36m  File \u001b[1;32m\"C:\\Users\\59972\\AppData\\Local\\Temp/ipykernel_11560/3391837037.py\"\u001b[1;36m, line \u001b[1;32m1\u001b[0m\n\u001b[1;33m    trian = pd.read_csv(\"C:\\Users\\59972\\Desktop\\data\\Titanic\\train.csv\")\u001b[0m\n\u001b[1;37m                                                                       ^\u001b[0m\n\u001b[1;31mSyntaxError\u001b[0m\u001b[1;31m:\u001b[0m (unicode error) 'unicodeescape' codec can't decode bytes in position 2-3: truncated \\UXXXXXXXX escape\n"
     ]
    }
   ],
   "source": [
    "trian = pd.read_csv(\"C:\\Users\\59972\\Desktop\\data\\Titanic\\train.csv\")\n",
    "test = pd.read_csv(\"C:\\Users\\59972\\Desktop\\data\\Titanic\\test.csv\")\n",
    "gender = pd.read_csv(\"C:\\Users\\59972\\Desktop\\data\\Titanic\\gender_submission.csv\")"
   ]
  },
  {
   "cell_type": "code",
   "execution_count": null,
   "id": "41776c0f",
   "metadata": {},
   "outputs": [],
   "source": []
  }
 ],
 "metadata": {
  "kernelspec": {
   "display_name": "Python 3 (ipykernel)",
   "language": "python",
   "name": "python3"
  },
  "language_info": {
   "codemirror_mode": {
    "name": "ipython",
    "version": 3
   },
   "file_extension": ".py",
   "mimetype": "text/x-python",
   "name": "python",
   "nbconvert_exporter": "python",
   "pygments_lexer": "ipython3",
   "version": "3.9.7"
  }
 },
 "nbformat": 4,
 "nbformat_minor": 5
}
