{
 "cells": [
  {
   "cell_type": "code",
   "execution_count": 2,
   "id": "fbd11715",
   "metadata": {},
   "outputs": [
    {
     "data": {
      "text/plain": [
       "<generator object countdown at 0x000002542077AA50>"
      ]
     },
     "execution_count": 2,
     "metadata": {},
     "output_type": "execute_result"
    }
   ],
   "source": [
    "def countdown(n):\n",
    "    print(\"start!\")\n",
    "    while n > 0:\n",
    "        yield n\n",
    "        n -= 1\n",
    "    print(\"done!\")\n",
    "\n",
    "c = countdown(3)\n",
    "c"
   ]
  },
  {
   "cell_type": "code",
   "execution_count": 3,
   "id": "5b0b0287",
   "metadata": {},
   "outputs": [
    {
     "name": "stdout",
     "output_type": "stream",
     "text": [
      "start!\n"
     ]
    },
    {
     "data": {
      "text/plain": [
       "3"
      ]
     },
     "execution_count": 3,
     "metadata": {},
     "output_type": "execute_result"
    }
   ],
   "source": [
    "next(c)"
   ]
  },
  {
   "cell_type": "code",
   "execution_count": 4,
   "id": "f6878981",
   "metadata": {},
   "outputs": [
    {
     "data": {
      "text/plain": [
       "2"
      ]
     },
     "execution_count": 4,
     "metadata": {},
     "output_type": "execute_result"
    }
   ],
   "source": [
    "next(c)"
   ]
  },
  {
   "cell_type": "code",
   "execution_count": 5,
   "id": "393f0c2e",
   "metadata": {},
   "outputs": [
    {
     "data": {
      "text/plain": [
       "1"
      ]
     },
     "execution_count": 5,
     "metadata": {},
     "output_type": "execute_result"
    }
   ],
   "source": [
    "next(c)"
   ]
  },
  {
   "cell_type": "code",
   "execution_count": 6,
   "id": "8d616b4c",
   "metadata": {},
   "outputs": [
    {
     "name": "stdout",
     "output_type": "stream",
     "text": [
      "done!\n"
     ]
    },
    {
     "ename": "StopIteration",
     "evalue": "",
     "output_type": "error",
     "traceback": [
      "\u001b[1;31m---------------------------------------------------------------------------\u001b[0m",
      "\u001b[1;31mStopIteration\u001b[0m                             Traceback (most recent call last)",
      "\u001b[1;32m~\\AppData\\Local\\Temp/ipykernel_10288/1173204873.py\u001b[0m in \u001b[0;36m<module>\u001b[1;34m\u001b[0m\n\u001b[1;32m----> 1\u001b[1;33m \u001b[0mnext\u001b[0m\u001b[1;33m(\u001b[0m\u001b[0mc\u001b[0m\u001b[1;33m)\u001b[0m\u001b[1;33m\u001b[0m\u001b[1;33m\u001b[0m\u001b[0m\n\u001b[0m",
      "\u001b[1;31mStopIteration\u001b[0m: "
     ]
    }
   ],
   "source": [
    "next(c)"
   ]
  },
  {
   "cell_type": "code",
   "execution_count": 8,
   "id": "3c7d445c",
   "metadata": {},
   "outputs": [
    {
     "name": "stdout",
     "output_type": "stream",
     "text": [
      "frist carry out......\n",
      "starting......\n",
      "2\n",
      "****************************************************************************************************\n",
      "second carry out......\n",
      "res: None\n",
      "2\n",
      "^^^^^^^^^^^^^^^^^^^^^^^^^^^^^^^^^^^^^^^^^^^^^^^^^^^^^^^^^^^^^^^^^^^^^^^^^^^^^^^^^^^^^^^^^^^^^^^^^^^^\n",
      "res: None\n",
      "2\n"
     ]
    }
   ],
   "source": [
    "def foo():\n",
    "    print(\"starting......\")\n",
    "    while True:\n",
    "        res = yield 2\n",
    "        #遇到yield函数暂停运行等待next（）方法的调用，函数继续运行\n",
    "        print(\"res:\",res)\n",
    "        #yield是返回值而不能进行赋值\n",
    "        \n",
    "g = foo()\n",
    "print(\"frist carry out......\")\n",
    "print(next(g))\n",
    "print(\"*\"*100)\n",
    "\n",
    "print(\"second carry out......\")\n",
    "print(next(g))\n",
    "print(\"^\"*100)\n",
    "print(next(g))"
   ]
  },
  {
   "cell_type": "code",
   "execution_count": null,
   "id": "085d2ea4",
   "metadata": {},
   "outputs": [],
   "source": []
  }
 ],
 "metadata": {
  "kernelspec": {
   "display_name": "Python 3 (ipykernel)",
   "language": "python",
   "name": "python3"
  },
  "language_info": {
   "codemirror_mode": {
    "name": "ipython",
    "version": 3
   },
   "file_extension": ".py",
   "mimetype": "text/x-python",
   "name": "python",
   "nbconvert_exporter": "python",
   "pygments_lexer": "ipython3",
   "version": "3.9.5"
  }
 },
 "nbformat": 4,
 "nbformat_minor": 5
}
