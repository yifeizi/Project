{
 "cells": [
  {
   "cell_type": "markdown",
   "id": "07f9b2dd",
   "metadata": {},
   "source": [
    "1、明确要解决问题的类型，以及知道解决该类型问题所对应的算法。\n",
    "2、从scikit-learn中调用相应算法构建模型即可。"
   ]
  },
  {
   "cell_type": "code",
   "execution_count": null,
   "id": "068e92a5",
   "metadata": {},
   "outputs": [],
   "source": []
  }
 ],
 "metadata": {
  "kernelspec": {
   "display_name": "Python 3 (ipykernel)",
   "language": "python",
   "name": "python3"
  },
  "language_info": {
   "codemirror_mode": {
    "name": "ipython",
    "version": 3
   },
   "file_extension": ".py",
   "mimetype": "text/x-python",
   "name": "python",
   "nbconvert_exporter": "python",
   "pygments_lexer": "ipython3",
   "version": "3.9.7"
  }
 },
 "nbformat": 4,
 "nbformat_minor": 5
}
