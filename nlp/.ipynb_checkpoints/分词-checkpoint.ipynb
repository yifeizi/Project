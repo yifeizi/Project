{
 "cells": [
  {
   "cell_type": "code",
   "execution_count": 11,
   "id": "573c50c0",
   "metadata": {},
   "outputs": [
    {
     "name": "stdout",
     "output_type": "stream",
     "text": [
      "['研究-----', '生命-----', '的-----', '起源-----']\n",
      "None\n"
     ]
    }
   ],
   "source": [
    "class RMM:\n",
    "    def __init__(self):\n",
    "        self.window_size = 3\n",
    "    def cut(self,text):\n",
    "        result = []\n",
    "        index = len(text)\n",
    "        dic = [\"研究\",\"研究生\",\"生命\",\"命\",\"的\",\"起源\"]\n",
    "        while index > 0:\n",
    "            for size in range(index-self.window_size,index):\n",
    "                piece = text[size:index]\n",
    "                if piece in dic:\n",
    "                    index = size+1\n",
    "                    break\n",
    "            index = index - 1\n",
    "            result.append(piece+\"-----\")\n",
    "        result.reverse()\n",
    "        print(result)\n",
    "            \n",
    "    if __name__ == \"__main__\":\n",
    "        text = \"研究生命的起源\"\n",
    "        tokenizer = RMM()\n",
    "        print(tokenizer.cut(text))"
   ]
  },
  {
   "cell_type": "code",
   "execution_count": 7,
   "id": "4f68ac1e",
   "metadata": {},
   "outputs": [
    {
     "name": "stdout",
     "output_type": "stream",
     "text": [
      "[7, 6, 5, 4, 3, 2, 1]\n"
     ]
    }
   ],
   "source": [
    "x = [1,2,3,4,5,6,7]\n",
    "x.reverse()\n",
    "print(x)"
   ]
  },
  {
   "cell_type": "code",
   "execution_count": 12,
   "id": "34afe48a",
   "metadata": {},
   "outputs": [
    {
     "name": "stdout",
     "output_type": "stream",
     "text": [
      "['研究-----', '生命-----', '的-----', '起源-----']\n",
      "None\n"
     ]
    }
   ],
   "source": [
    "class RMM:\n",
    "    def __init__(self):\n",
    "        self.window_size = 3\n",
    "    def cut(self,text):\n",
    "        result = []\n",
    "        index = 0\n",
    "        dic = [\"研究\",\"研究生\",\"生命\",\"命\",\"的\",\"起源\"]\n",
    "        while index > 0:\n",
    "            for size in range(index+self.window_size,index,-1):\n",
    "                piece = text[size:index]\n",
    "                if piece in dic:\n",
    "                    index = size+1\n",
    "                    break\n",
    "            index = index - 1\n",
    "            result.append(piece+\"-----\")\n",
    "        #result.reverse()\n",
    "        print(result)\n",
    "            \n",
    "    if __name__ == \"__main__\":\n",
    "        text = \"研究生命的起源\"\n",
    "        tokenizer = RMM()\n",
    "        print(tokenizer.cut(text))"
   ]
  },
  {
   "cell_type": "code",
   "execution_count": 15,
   "id": "605925b1",
   "metadata": {},
   "outputs": [
    {
     "data": {
      "text/plain": [
       "range(5, 0, -1)"
      ]
     },
     "execution_count": 15,
     "metadata": {},
     "output_type": "execute_result"
    }
   ],
   "source": [
    "index = 0\n",
    "range(5,index,-1)\n"
   ]
  },
  {
   "cell_type": "code",
   "execution_count": 1,
   "id": "2a43e6df",
   "metadata": {},
   "outputs": [
    {
     "data": {
      "text/plain": [
       "'研'"
      ]
     },
     "execution_count": 1,
     "metadata": {},
     "output_type": "execute_result"
    }
   ],
   "source": [
    "text = \"研究生命的起源\"\n",
    "text[0:1]"
   ]
  },
  {
   "cell_type": "code",
   "execution_count": 7,
   "id": "58d1275e",
   "metadata": {},
   "outputs": [
    {
     "data": {
      "text/plain": [
       "'命'"
      ]
     },
     "execution_count": 7,
     "metadata": {},
     "output_type": "execute_result"
    }
   ],
   "source": [
    "text[3:4]"
   ]
  },
  {
   "cell_type": "code",
   "execution_count": 21,
   "id": "990e4a3e",
   "metadata": {},
   "outputs": [
    {
     "name": "stdout",
     "output_type": "stream",
     "text": [
      "['研究生---', '命---', '的---', '起源---']\n",
      "None\n"
     ]
    }
   ],
   "source": [
    "class MM(object):\n",
    "    def __init__(self):\n",
    "        self.window_size = 3\n",
    "    def cut(self,text):\n",
    "        result = []\n",
    "        index = 0\n",
    "        text_length = len(text)\n",
    "        dic = [\"研究\",\"研究生\",\"生命\",\"命\",\"的\",\"起源\"]\n",
    "        while text_length > index:\n",
    "            for size in range(self.window_size+index,index,-1):\n",
    "                piece = text[index:size]\n",
    "                if piece in dic:\n",
    "                    index = size\n",
    "                    break\n",
    "            #index = index+1    \n",
    "            result.append(piece+\"---\")\n",
    "        print(result)\n",
    "            \n",
    "if __name__ == \"__main__\":\n",
    "    text = \"研究生命的起源\"\n",
    "    exp = MM()\n",
    "    print(exp.cut(text))\n",
    "    \n",
    "                    \n",
    "                    \n",
    "                "
   ]
  },
  {
   "cell_type": "code",
   "execution_count": 1,
   "id": "5d1db72b",
   "metadata": {},
   "outputs": [],
   "source": [
    "import jieba"
   ]
  },
  {
   "cell_type": "code",
   "execution_count": 2,
   "id": "e8fcd411",
   "metadata": {},
   "outputs": [
    {
     "name": "stderr",
     "output_type": "stream",
     "text": [
      "Building prefix dict from the default dictionary ...\n",
      "Dumping model to file cache C:\\Users\\59972\\AppData\\Local\\Temp\\jieba.cache\n",
      "Loading model cost 1.052 seconds.\n",
      "Prefix dict has been built successfully.\n"
     ]
    },
    {
     "name": "stdout",
     "output_type": "stream",
     "text": [
      "全模式: 中文/分词/是/文本/文本处理/本处/处理/不可/不可或缺/或缺/的/一步/。\n"
     ]
    }
   ],
   "source": [
    "sent = \"中文分词是文本处理不可或缺的一步。\"\n",
    "\n",
    "seg_list = jieba.cut(sent,cut_all=True)\n",
    "print(\"全模式:\",\"/\".join(seg_list))"
   ]
  },
  {
   "cell_type": "code",
   "execution_count": 6,
   "id": "2bb06c9a",
   "metadata": {},
   "outputs": [
    {
     "name": "stdout",
     "output_type": "stream",
     "text": [
      "精确模式： 中文/分词/是/文本处理/不可或缺/的/一步/。\n"
     ]
    }
   ],
   "source": [
    "seg_list = jieba.cut(sent,cut_all=False)\n",
    "print(\"精确模式：\",\"/\".join(seg_list))\n"
   ]
  },
  {
   "cell_type": "code",
   "execution_count": 7,
   "id": "62ed4fe0",
   "metadata": {},
   "outputs": [
    {
     "name": "stdout",
     "output_type": "stream",
     "text": [
      "默认精确模式： 中文/分词/是/文本处理/不可或缺/的/一步/。\n"
     ]
    }
   ],
   "source": [
    "seg_list = jieba.cut(sent)\n",
    "print(\"默认精确模式：\",\"/\".join(seg_list))"
   ]
  },
  {
   "cell_type": "code",
   "execution_count": null,
   "id": "7ba9a26d",
   "metadata": {},
   "outputs": [],
   "source": []
  }
 ],
 "metadata": {
  "kernelspec": {
   "display_name": "Python 3 (ipykernel)",
   "language": "python",
   "name": "python3"
  },
  "language_info": {
   "codemirror_mode": {
    "name": "ipython",
    "version": 3
   },
   "file_extension": ".py",
   "mimetype": "text/x-python",
   "name": "python",
   "nbconvert_exporter": "python",
   "pygments_lexer": "ipython3",
   "version": "3.9.7"
  }
 },
 "nbformat": 4,
 "nbformat_minor": 5
}
