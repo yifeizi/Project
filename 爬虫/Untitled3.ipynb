{
 "cells": [
  {
   "cell_type": "code",
   "execution_count": 7,
   "id": "09ec4a94",
   "metadata": {},
   "outputs": [
    {
     "ename": "SyntaxError",
     "evalue": "invalid syntax (Temp/ipykernel_14224/3005571977.py, line 1)",
     "output_type": "error",
     "traceback": [
      "\u001b[1;36m  File \u001b[1;32m\"C:\\Users\\59972\\AppData\\Local\\Temp/ipykernel_14224/3005571977.py\"\u001b[1;36m, line \u001b[1;32m1\u001b[0m\n\u001b[1;33m    scrapy startproject mySpider\u001b[0m\n\u001b[1;37m           ^\u001b[0m\n\u001b[1;31mSyntaxError\u001b[0m\u001b[1;31m:\u001b[0m invalid syntax\n"
     ]
    }
   ],
   "source": [
    "scrapy startproject mySpider"
   ]
  },
  {
   "cell_type": "code",
   "execution_count": 5,
   "id": "ed8bc509",
   "metadata": {},
   "outputs": [],
   "source": [
    "import scrapy\n",
    "\n",
    "class ItcastItem(scrapy.Item):\n",
    "   name = scrapy.Field()\n",
    "   title = scrapy.Field()\n",
    "   info = scrapy.Field()"
   ]
  },
  {
   "cell_type": "code",
   "execution_count": 3,
   "id": "9013bd34",
   "metadata": {},
   "outputs": [
    {
     "name": "stdout",
     "output_type": "stream",
     "text": [
      "Collecting Scrapy\n",
      "  Downloading Scrapy-2.6.1-py2.py3-none-any.whl (264 kB)\n",
      "Collecting tldextract\n",
      "  Downloading tldextract-3.3.0-py3-none-any.whl (93 kB)\n",
      "Collecting itemadapter>=0.1.0\n",
      "  Downloading itemadapter-0.6.0-py3-none-any.whl (10 kB)\n",
      "Collecting w3lib>=1.17.0\n",
      "  Using cached w3lib-1.22.0-py2.py3-none-any.whl (20 kB)\n",
      "Requirement already satisfied: zope.interface>=4.1.3 in f:\\program files (x86)\\anacoda\\lib\\site-packages (from Scrapy) (5.4.0)\n",
      "Requirement already satisfied: cryptography>=2.0 in f:\\program files (x86)\\anacoda\\lib\\site-packages (from Scrapy) (3.4.8)\n",
      "Collecting Twisted>=17.9.0\n",
      "  Downloading Twisted-22.4.0-py3-none-any.whl (3.1 MB)\n",
      "Collecting protego>=0.1.15\n",
      "  Using cached Protego-0.2.1-py2.py3-none-any.whl (8.2 kB)\n",
      "Requirement already satisfied: lxml>=3.5.0 in f:\\program files (x86)\\anacoda\\lib\\site-packages (from Scrapy) (4.6.3)\n",
      "Requirement already satisfied: setuptools in f:\\program files (x86)\\anacoda\\lib\\site-packages (from Scrapy) (58.0.4)\n",
      "Collecting itemloaders>=1.0.1\n",
      "  Using cached itemloaders-1.0.4-py3-none-any.whl (11 kB)\n",
      "Collecting service-identity>=16.0.0\n",
      "  Using cached service_identity-21.1.0-py2.py3-none-any.whl (12 kB)\n",
      "Requirement already satisfied: pyOpenSSL>=16.2.0 in f:\\program files (x86)\\anacoda\\lib\\site-packages (from Scrapy) (21.0.0)\n",
      "Collecting PyDispatcher>=2.0.5\n",
      "  Using cached PyDispatcher-2.0.5-py3-none-any.whl\n",
      "Collecting queuelib>=1.4.2\n",
      "  Using cached queuelib-1.6.2-py2.py3-none-any.whl (13 kB)\n",
      "Collecting cssselect>=0.9.1\n",
      "  Using cached cssselect-1.1.0-py2.py3-none-any.whl (16 kB)\n",
      "Collecting parsel>=1.5.0\n",
      "  Using cached parsel-1.6.0-py2.py3-none-any.whl (13 kB)\n",
      "Requirement already satisfied: cffi>=1.12 in f:\\program files (x86)\\anacoda\\lib\\site-packages (from cryptography>=2.0->Scrapy) (1.14.6)\n",
      "Requirement already satisfied: pycparser in f:\\program files (x86)\\anacoda\\lib\\site-packages (from cffi>=1.12->cryptography>=2.0->Scrapy) (2.20)\n",
      "Collecting jmespath>=0.9.5\n",
      "  Using cached jmespath-1.0.0-py3-none-any.whl (23 kB)\n",
      "Requirement already satisfied: six>=1.6.0 in f:\\program files (x86)\\anacoda\\lib\\site-packages (from parsel>=1.5.0->Scrapy) (1.16.0)\n",
      "Collecting pyasn1-modules\n",
      "  Using cached pyasn1_modules-0.2.8-py2.py3-none-any.whl (155 kB)\n",
      "Requirement already satisfied: attrs>=19.1.0 in f:\\program files (x86)\\anacoda\\lib\\site-packages (from service-identity>=16.0.0->Scrapy) (21.2.0)\n",
      "Collecting pyasn1\n",
      "  Using cached pyasn1-0.4.8-py2.py3-none-any.whl (77 kB)\n",
      "Collecting hyperlink>=17.1.1\n",
      "  Using cached hyperlink-21.0.0-py2.py3-none-any.whl (74 kB)\n",
      "Collecting Automat>=0.8.0\n",
      "  Using cached Automat-20.2.0-py2.py3-none-any.whl (31 kB)\n",
      "Collecting twisted-iocpsupport<2,>=1.0.2\n",
      "  Using cached twisted_iocpsupport-1.0.2-cp39-cp39-win_amd64.whl (45 kB)\n",
      "Collecting constantly>=15.1\n",
      "  Using cached constantly-15.1.0-py2.py3-none-any.whl (7.9 kB)\n",
      "Collecting incremental>=21.3.0\n",
      "  Using cached incremental-21.3.0-py2.py3-none-any.whl (15 kB)\n",
      "Requirement already satisfied: typing-extensions>=3.6.5 in f:\\program files (x86)\\anacoda\\lib\\site-packages (from Twisted>=17.9.0->Scrapy) (3.10.0.2)\n",
      "Requirement already satisfied: idna>=2.5 in f:\\program files (x86)\\anacoda\\lib\\site-packages (from hyperlink>=17.1.1->Twisted>=17.9.0->Scrapy) (3.2)\n",
      "Requirement already satisfied: requests>=2.1.0 in f:\\program files (x86)\\anacoda\\lib\\site-packages (from tldextract->Scrapy) (2.26.0)\n",
      "Requirement already satisfied: filelock>=3.0.8 in f:\\program files (x86)\\anacoda\\lib\\site-packages (from tldextract->Scrapy) (3.3.1)\n",
      "Note: you may need to restart the kernel to use updated packages.\n",
      "Collecting requests-file>=1.4\n",
      "  Using cached requests_file-1.5.1-py2.py3-none-any.whl (3.7 kB)\n",
      "Requirement already satisfied: charset-normalizer~=2.0.0 in f:\\program files (x86)\\anacoda\\lib\\site-packages (from requests>=2.1.0->tldextract->Scrapy) (2.0.4)\n",
      "Requirement already satisfied: urllib3<1.27,>=1.21.1 in f:\\program files (x86)\\anacoda\\lib\\site-packages (from requests>=2.1.0->tldextract->Scrapy) (1.26.7)\n",
      "Requirement already satisfied: certifi>=2017.4.17 in f:\\program files (x86)\\anacoda\\lib\\site-packages (from requests>=2.1.0->tldextract->Scrapy) (2021.10.8)\n",
      "Installing collected packages: w3lib, pyasn1, cssselect, twisted-iocpsupport, requests-file, pyasn1-modules, parsel, jmespath, itemadapter, incremental, hyperlink, constantly, Automat, Twisted, tldextract, service-identity, queuelib, PyDispatcher, protego, itemloaders, Scrapy\n",
      "Successfully installed Automat-20.2.0 PyDispatcher-2.0.5 Scrapy-2.6.1 Twisted-22.4.0 constantly-15.1.0 cssselect-1.1.0 hyperlink-21.0.0 incremental-21.3.0 itemadapter-0.6.0 itemloaders-1.0.4 jmespath-1.0.0 parsel-1.6.0 protego-0.2.1 pyasn1-0.4.8 pyasn1-modules-0.2.8 queuelib-1.6.2 requests-file-1.5.1 service-identity-21.1.0 tldextract-3.3.0 twisted-iocpsupport-1.0.2 w3lib-1.22.0\n"
     ]
    }
   ],
   "source": [
    "pip install Scrapy"
   ]
  },
  {
   "cell_type": "code",
   "execution_count": 8,
   "id": "b29a6059",
   "metadata": {},
   "outputs": [
    {
     "ename": "SyntaxError",
     "evalue": "invalid syntax (Temp/ipykernel_14224/1772747172.py, line 1)",
     "output_type": "error",
     "traceback": [
      "\u001b[1;36m  File \u001b[1;32m\"C:\\Users\\59972\\AppData\\Local\\Temp/ipykernel_14224/1772747172.py\"\u001b[1;36m, line \u001b[1;32m1\u001b[0m\n\u001b[1;33m    scrapy genspider itcast \"itcast.cn\"\u001b[0m\n\u001b[1;37m           ^\u001b[0m\n\u001b[1;31mSyntaxError\u001b[0m\u001b[1;31m:\u001b[0m invalid syntax\n"
     ]
    }
   ],
   "source": [
    "scrapy genspider itcast \"itcast.cn\""
   ]
  },
  {
   "cell_type": "code",
   "execution_count": 9,
   "id": "bd43fe56",
   "metadata": {},
   "outputs": [],
   "source": [
    "import scrapy\n",
    "\n",
    "class ItcastSpider(scrapy.Spider):\n",
    "    name = \"itcast\"\n",
    "    allowed_domains = [\"itcast.cn\"]\n",
    "    start_urls = (\n",
    "        'http://www.itcast.cn/',\n",
    "    )\n",
    "\n",
    "    def parse(self, response):\n",
    "        pass"
   ]
  },
  {
   "cell_type": "code",
   "execution_count": 10,
   "id": "3690186f",
   "metadata": {},
   "outputs": [],
   "source": [
    "start_urls = (\"http://www.itcast.cn/channel/teacher.shtml\",)"
   ]
  },
  {
   "cell_type": "code",
   "execution_count": 11,
   "id": "44891daf",
   "metadata": {},
   "outputs": [],
   "source": [
    "def parse(self, response):\n",
    "    filename = \"teacher.html\"\n",
    "    open(filename, 'w').write(response.body)"
   ]
  },
  {
   "cell_type": "code",
   "execution_count": 12,
   "id": "18e209d2",
   "metadata": {},
   "outputs": [
    {
     "ename": "SyntaxError",
     "evalue": "invalid syntax (Temp/ipykernel_14224/275969405.py, line 1)",
     "output_type": "error",
     "traceback": [
      "\u001b[1;36m  File \u001b[1;32m\"C:\\Users\\59972\\AppData\\Local\\Temp/ipykernel_14224/275969405.py\"\u001b[1;36m, line \u001b[1;32m1\u001b[0m\n\u001b[1;33m    scrapy crawl itcast\u001b[0m\n\u001b[1;37m           ^\u001b[0m\n\u001b[1;31mSyntaxError\u001b[0m\u001b[1;31m:\u001b[0m invalid syntax\n"
     ]
    }
   ],
   "source": [
    "scrapy crawl itcast"
   ]
  },
  {
   "cell_type": "code",
   "execution_count": null,
   "id": "4297c26f",
   "metadata": {},
   "outputs": [],
   "source": []
  }
 ],
 "metadata": {
  "kernelspec": {
   "display_name": "Python 3 (ipykernel)",
   "language": "python",
   "name": "python3"
  },
  "language_info": {
   "codemirror_mode": {
    "name": "ipython",
    "version": 3
   },
   "file_extension": ".py",
   "mimetype": "text/x-python",
   "name": "python",
   "nbconvert_exporter": "python",
   "pygments_lexer": "ipython3",
   "version": "3.9.7"
  }
 },
 "nbformat": 4,
 "nbformat_minor": 5
}
