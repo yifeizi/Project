{
 "cells": [
  {
   "cell_type": "markdown",
   "id": "0403d2fd",
   "metadata": {},
   "source": [
    "# pandas 用户指南\n",
    "\n",
    "## 10分钟了解pandas\n",
    "\n",
    "### 创建对象"
   ]
  },
  {
   "cell_type": "code",
   "execution_count": 1,
   "id": "c835a5a2",
   "metadata": {},
   "outputs": [],
   "source": [
    "import numpy as np\n",
    "import pandas as pd\n",
    "import matplotlib.pyplot as plt\n",
    "\n"
   ]
  },
  {
   "cell_type": "markdown",
   "id": "3679f064",
   "metadata": {},
   "source": [
    "### 创建对象\n",
    "通过传递值列表创建序列，并创建默认整数索引："
   ]
  },
  {
   "cell_type": "code",
   "execution_count": 2,
   "id": "8c3428a0",
   "metadata": {},
   "outputs": [
    {
     "data": {
      "text/plain": [
       "0     1.0\n",
       "1     3.0\n",
       "2     5.0\n",
       "3     NaN\n",
       "4     6.0\n",
       "5     8.0\n",
       "6    10.0\n",
       "dtype: float64"
      ]
     },
     "execution_count": 2,
     "metadata": {},
     "output_type": "execute_result"
    }
   ],
   "source": [
    "s = pd.Series([1,3,5,np.nan,6,8,10])\n",
    "s"
   ]
  },
  {
   "cell_type": "markdown",
   "id": "515d6883",
   "metadata": {},
   "source": [
    "通过传递带有日期时间索引和标记列的NumPy数组来创建数据帧："
   ]
  },
  {
   "cell_type": "code",
   "execution_count": 3,
   "id": "07f0e830",
   "metadata": {},
   "outputs": [
    {
     "data": {
      "text/plain": [
       "<AxesSubplot:>"
      ]
     },
     "execution_count": 3,
     "metadata": {},
     "output_type": "execute_result"
    },
    {
     "data": {
      "image/png": "[encoded data removed]",
      "text/plain": [
       "<Figure size 432x288 with 1 Axes>"
      ]
     },
     "metadata": {
      "needs_background": "light"
     },
     "output_type": "display_data"
    }
   ],
   "source": [
    "dates = pd.date_range('20130101',periods=6)\n",
    "dates\n",
    "df = pd.DataFrame(np.random.randn(6,4),index=dates,columns=list('ABCD'))\n",
    "df\n",
    "df.plot()"
   ]
  },
  {
   "cell_type": "markdown",
   "id": "46c7a385",
   "metadata": {},
   "source": [
    "通过传递dict对象来创建一个数据帧，这些对象可以转换为类似于的系列。"
   ]
  },
  {
   "cell_type": "code",
   "execution_count": 4,
   "id": "75bad8e3",
   "metadata": {},
   "outputs": [
    {
     "data": {
      "text/html": [
       "<div>\n",
       "<style scoped>\n",
       "    .dataframe tbody tr th:only-of-type {\n",
       "        vertical-align: middle;\n",
       "    }\n",
       "\n",
       "    .dataframe tbody tr th {\n",
       "        vertical-align: top;\n",
       "    }\n",
       "\n",
       "    .dataframe thead th {\n",
       "        text-align: right;\n",
       "    }\n",
       "</style>\n",
       "<table border=\"1\" class=\"dataframe\">\n",
       "  <thead>\n",
       "    <tr style=\"text-align: right;\">\n",
       "      <th></th>\n",
       "      <th>A</th>\n",
       "      <th>B</th>\n",
       "      <th>C</th>\n",
       "      <th>D</th>\n",
       "      <th>E</th>\n",
       "      <th>F</th>\n",
       "    </tr>\n",
       "  </thead>\n",
       "  <tbody>\n",
       "    <tr>\n",
       "      <th>0</th>\n",
       "      <td>1.0</td>\n",
       "      <td>2013-01-02</td>\n",
       "      <td>1.0</td>\n",
       "      <td>3</td>\n",
       "      <td>test</td>\n",
       "      <td>foo</td>\n",
       "    </tr>\n",
       "    <tr>\n",
       "      <th>1</th>\n",
       "      <td>1.0</td>\n",
       "      <td>2013-01-02</td>\n",
       "      <td>1.0</td>\n",
       "      <td>3</td>\n",
       "      <td>train</td>\n",
       "      <td>foo</td>\n",
       "    </tr>\n",
       "    <tr>\n",
       "      <th>2</th>\n",
       "      <td>1.0</td>\n",
       "      <td>2013-01-02</td>\n",
       "      <td>1.0</td>\n",
       "      <td>3</td>\n",
       "      <td>test</td>\n",
       "      <td>foo</td>\n",
       "    </tr>\n",
       "    <tr>\n",
       "      <th>3</th>\n",
       "      <td>1.0</td>\n",
       "      <td>2013-01-02</td>\n",
       "      <td>1.0</td>\n",
       "      <td>3</td>\n",
       "      <td>train</td>\n",
       "      <td>foo</td>\n",
       "    </tr>\n",
       "  </tbody>\n",
       "</table>\n",
       "</div>"
      ],
      "text/plain": [
       "     A          B    C  D      E    F\n",
       "0  1.0 2013-01-02  1.0  3   test  foo\n",
       "1  1.0 2013-01-02  1.0  3  train  foo\n",
       "2  1.0 2013-01-02  1.0  3   test  foo\n",
       "3  1.0 2013-01-02  1.0  3  train  foo"
      ]
     },
     "execution_count": 4,
     "metadata": {},
     "output_type": "execute_result"
    }
   ],
   "source": [
    "df2 = pd.DataFrame(\n",
    "    {\n",
    "        'A':1.0,\n",
    "        'B':pd.Timestamp(\"20130102\"),\n",
    "        'C':pd.Series(1,index=list(range(4)),dtype=\"float32\"),\n",
    "        'D':np.array([3]*4,dtype='int32'),\n",
    "        \"E\":pd.Categorical([\"test\",\"train\",\"test\",\"train\"]),\n",
    "        \"F\":\"foo\"\n",
    "    }\n",
    ")\n",
    "df2\n",
    "#df2.dtypes"
   ]
  },
  {
   "cell_type": "code",
   "execution_count": 6,
   "id": "d081a52e",
   "metadata": {},
   "outputs": [
    {
     "ename": "SyntaxError",
     "evalue": "invalid syntax (Temp/ipykernel_9264/1931971987.py, line 1)",
     "output_type": "error",
     "traceback": [
      "\u001b[1;36m  File \u001b[1;32m\"C:\\Users\\59972\\AppData\\Local\\Temp/ipykernel_9264/1931971987.py\"\u001b[1;36m, line \u001b[1;32m1\u001b[0m\n\u001b[1;33m    df2.<Tab>\u001b[0m\n\u001b[1;37m        ^\u001b[0m\n\u001b[1;31mSyntaxError\u001b[0m\u001b[1;31m:\u001b[0m invalid syntax\n"
     ]
    }
   ],
   "source": [
    "df2.<Tab>"
   ]
  },
  {
   "cell_type": "markdown",
   "id": "e8c1106f",
   "metadata": {},
   "source": [
    "### 查看数据\n",
    "查看数据的开头和结尾几行、索引、行标题"
   ]
  },
  {
   "cell_type": "code",
   "execution_count": 5,
   "id": "ac718d65",
   "metadata": {},
   "outputs": [
    {
     "data": {
      "text/html": [
       "<div>\n",
       "<style scoped>\n",
       "    .dataframe tbody tr th:only-of-type {\n",
       "        vertical-align: middle;\n",
       "    }\n",
       "\n",
       "    .dataframe tbody tr th {\n",
       "        vertical-align: top;\n",
       "    }\n",
       "\n",
       "    .dataframe thead th {\n",
       "        text-align: right;\n",
       "    }\n",
       "</style>\n",
       "<table border=\"1\" class=\"dataframe\">\n",
       "  <thead>\n",
       "    <tr style=\"text-align: right;\">\n",
       "      <th></th>\n",
       "      <th>A</th>\n",
       "      <th>B</th>\n",
       "      <th>C</th>\n",
       "      <th>D</th>\n",
       "    </tr>\n",
       "  </thead>\n",
       "  <tbody>\n",
       "    <tr>\n",
       "      <th>2013-01-01</th>\n",
       "      <td>2.176314</td>\n",
       "      <td>-0.382406</td>\n",
       "      <td>1.287819</td>\n",
       "      <td>1.690855</td>\n",
       "    </tr>\n",
       "    <tr>\n",
       "      <th>2013-01-02</th>\n",
       "      <td>-0.981540</td>\n",
       "      <td>0.883018</td>\n",
       "      <td>1.017908</td>\n",
       "      <td>-0.989202</td>\n",
       "    </tr>\n",
       "    <tr>\n",
       "      <th>2013-01-03</th>\n",
       "      <td>1.102573</td>\n",
       "      <td>-0.791200</td>\n",
       "      <td>-2.792990</td>\n",
       "      <td>-1.108704</td>\n",
       "    </tr>\n",
       "    <tr>\n",
       "      <th>2013-01-04</th>\n",
       "      <td>0.311264</td>\n",
       "      <td>1.617584</td>\n",
       "      <td>0.256735</td>\n",
       "      <td>-1.254294</td>\n",
       "    </tr>\n",
       "    <tr>\n",
       "      <th>2013-01-05</th>\n",
       "      <td>0.499373</td>\n",
       "      <td>1.059543</td>\n",
       "      <td>0.409307</td>\n",
       "      <td>0.469002</td>\n",
       "    </tr>\n",
       "  </tbody>\n",
       "</table>\n",
       "</div>"
      ],
      "text/plain": [
       "                   A         B         C         D\n",
       "2013-01-01  2.176314 -0.382406  1.287819  1.690855\n",
       "2013-01-02 -0.981540  0.883018  1.017908 -0.989202\n",
       "2013-01-03  1.102573 -0.791200 -2.792990 -1.108704\n",
       "2013-01-04  0.311264  1.617584  0.256735 -1.254294\n",
       "2013-01-05  0.499373  1.059543  0.409307  0.469002"
      ]
     },
     "execution_count": 5,
     "metadata": {},
     "output_type": "execute_result"
    }
   ],
   "source": [
    "df.head()"
   ]
  },
  {
   "cell_type": "code",
   "execution_count": 6,
   "id": "ab86c154",
   "metadata": {},
   "outputs": [
    {
     "data": {
      "text/html": [
       "<div>\n",
       "<style scoped>\n",
       "    .dataframe tbody tr th:only-of-type {\n",
       "        vertical-align: middle;\n",
       "    }\n",
       "\n",
       "    .dataframe tbody tr th {\n",
       "        vertical-align: top;\n",
       "    }\n",
       "\n",
       "    .dataframe thead th {\n",
       "        text-align: right;\n",
       "    }\n",
       "</style>\n",
       "<table border=\"1\" class=\"dataframe\">\n",
       "  <thead>\n",
       "    <tr style=\"text-align: right;\">\n",
       "      <th></th>\n",
       "      <th>A</th>\n",
       "      <th>B</th>\n",
       "      <th>C</th>\n",
       "      <th>D</th>\n",
       "    </tr>\n",
       "  </thead>\n",
       "  <tbody>\n",
       "    <tr>\n",
       "      <th>2013-01-05</th>\n",
       "      <td>0.499373</td>\n",
       "      <td>1.059543</td>\n",
       "      <td>0.409307</td>\n",
       "      <td>0.469002</td>\n",
       "    </tr>\n",
       "    <tr>\n",
       "      <th>2013-01-06</th>\n",
       "      <td>-0.329948</td>\n",
       "      <td>0.184958</td>\n",
       "      <td>-0.469824</td>\n",
       "      <td>1.271965</td>\n",
       "    </tr>\n",
       "  </tbody>\n",
       "</table>\n",
       "</div>"
      ],
      "text/plain": [
       "                   A         B         C         D\n",
       "2013-01-05  0.499373  1.059543  0.409307  0.469002\n",
       "2013-01-06 -0.329948  0.184958 -0.469824  1.271965"
      ]
     },
     "execution_count": 6,
     "metadata": {},
     "output_type": "execute_result"
    }
   ],
   "source": [
    "df.tail(2)"
   ]
  },
  {
   "cell_type": "code",
   "execution_count": 7,
   "id": "e8f35202",
   "metadata": {},
   "outputs": [
    {
     "data": {
      "text/plain": [
       "DatetimeIndex(['2013-01-01', '2013-01-02', '2013-01-03', '2013-01-04',\n",
       "               '2013-01-05', '2013-01-06'],\n",
       "              dtype='datetime64[ns]', freq='D')"
      ]
     },
     "execution_count": 7,
     "metadata": {},
     "output_type": "execute_result"
    }
   ],
   "source": [
    "df.index"
   ]
  },
  {
   "cell_type": "code",
   "execution_count": 8,
   "id": "b87d95a5",
   "metadata": {},
   "outputs": [
    {
     "data": {
      "text/plain": [
       "Index(['A', 'B', 'C', 'D'], dtype='object')"
      ]
     },
     "execution_count": 8,
     "metadata": {},
     "output_type": "execute_result"
    }
   ],
   "source": [
    "df.columns"
   ]
  },
  {
   "cell_type": "markdown",
   "id": "b72e1f4b",
   "metadata": {},
   "source": [
    "DataFrame.to_numpy（）提供基础数据的numpy表示。请注意，当您的DataFrame具有具有不同数据类型的列时，这可能是一个昂贵的操作，这可以归结为一个根本性的差异,在pandas和NumPy之间：NumPy数组对整个数组有一个数据类型，而pandas数据帧有一个数据类型每列一个数据类型。当您调用DataFram.to_numpy（），pandas将找到可以保存所有数据的numpy数据类型数据帧中的数据类型。这可能最终成为一个对象，这需要将每个值强制转换为Python对象。对于df，所有浮点值的DataFrame，DataFrame.to_numpy（）速度快，不需要复制数据。"
   ]
  },
  {
   "cell_type": "code",
   "execution_count": 9,
   "id": "d6a176ba",
   "metadata": {},
   "outputs": [
    {
     "data": {
      "text/plain": [
       "array([[ 2.17631386, -0.38240633,  1.28781918,  1.69085511],\n",
       "       [-0.98154021,  0.88301836,  1.01790776, -0.98920241],\n",
       "       [ 1.10257317, -0.79119952, -2.79298968, -1.1087039 ],\n",
       "       [ 0.31126407,  1.61758385,  0.25673452, -1.25429433],\n",
       "       [ 0.49937343,  1.05954291,  0.40930725,  0.46900171],\n",
       "       [-0.32994799,  0.18495836, -0.46982383,  1.27196485]])"
      ]
     },
     "execution_count": 9,
     "metadata": {},
     "output_type": "execute_result"
    }
   ],
   "source": [
    "df.to_numpy()"
   ]
  },
  {
   "cell_type": "markdown",
   "id": "4ecd1304",
   "metadata": {},
   "source": [
    "对于df2DataFrame有多种数据类型，所以这种转换的代价是很高的。\n",
    "\n",
    "·注意：DataFrame.to_numpy（）在输出中不包括索引或列标签。"
   ]
  },
  {
   "cell_type": "code",
   "execution_count": 10,
   "id": "370c7823",
   "metadata": {},
   "outputs": [
    {
     "data": {
      "text/plain": [
       "array([[1.0, Timestamp('2013-01-02 00:00:00'), 1.0, 3, 'test', 'foo'],\n",
       "       [1.0, Timestamp('2013-01-02 00:00:00'), 1.0, 3, 'train', 'foo'],\n",
       "       [1.0, Timestamp('2013-01-02 00:00:00'), 1.0, 3, 'test', 'foo'],\n",
       "       [1.0, Timestamp('2013-01-02 00:00:00'), 1.0, 3, 'train', 'foo']],\n",
       "      dtype=object)"
      ]
     },
     "execution_count": 10,
     "metadata": {},
     "output_type": "execute_result"
    }
   ],
   "source": [
    "df2.to_numpy()"
   ]
  },
  {
   "cell_type": "markdown",
   "id": "bba69667",
   "metadata": {},
   "source": [
    "dedcribe()显示数据的快速统计摘要："
   ]
  },
  {
   "cell_type": "code",
   "execution_count": 11,
   "id": "e0f52127",
   "metadata": {},
   "outputs": [
    {
     "data": {
      "text/html": [
       "<div>\n",
       "<style scoped>\n",
       "    .dataframe tbody tr th:only-of-type {\n",
       "        vertical-align: middle;\n",
       "    }\n",
       "\n",
       "    .dataframe tbody tr th {\n",
       "        vertical-align: top;\n",
       "    }\n",
       "\n",
       "    .dataframe thead th {\n",
       "        text-align: right;\n",
       "    }\n",
       "</style>\n",
       "<table border=\"1\" class=\"dataframe\">\n",
       "  <thead>\n",
       "    <tr style=\"text-align: right;\">\n",
       "      <th></th>\n",
       "      <th>A</th>\n",
       "      <th>B</th>\n",
       "      <th>C</th>\n",
       "      <th>D</th>\n",
       "    </tr>\n",
       "  </thead>\n",
       "  <tbody>\n",
       "    <tr>\n",
       "      <th>count</th>\n",
       "      <td>6.000000</td>\n",
       "      <td>6.000000</td>\n",
       "      <td>6.000000</td>\n",
       "      <td>6.000000</td>\n",
       "    </tr>\n",
       "    <tr>\n",
       "      <th>mean</th>\n",
       "      <td>0.463006</td>\n",
       "      <td>0.428583</td>\n",
       "      <td>-0.048507</td>\n",
       "      <td>0.013270</td>\n",
       "    </tr>\n",
       "    <tr>\n",
       "      <th>std</th>\n",
       "      <td>1.103114</td>\n",
       "      <td>0.919051</td>\n",
       "      <td>1.478883</td>\n",
       "      <td>1.302059</td>\n",
       "    </tr>\n",
       "    <tr>\n",
       "      <th>min</th>\n",
       "      <td>-0.981540</td>\n",
       "      <td>-0.791200</td>\n",
       "      <td>-2.792990</td>\n",
       "      <td>-1.254294</td>\n",
       "    </tr>\n",
       "    <tr>\n",
       "      <th>25%</th>\n",
       "      <td>-0.169645</td>\n",
       "      <td>-0.240565</td>\n",
       "      <td>-0.288184</td>\n",
       "      <td>-1.078829</td>\n",
       "    </tr>\n",
       "    <tr>\n",
       "      <th>50%</th>\n",
       "      <td>0.405319</td>\n",
       "      <td>0.533988</td>\n",
       "      <td>0.333021</td>\n",
       "      <td>-0.260100</td>\n",
       "    </tr>\n",
       "    <tr>\n",
       "      <th>75%</th>\n",
       "      <td>0.951773</td>\n",
       "      <td>1.015412</td>\n",
       "      <td>0.865758</td>\n",
       "      <td>1.071224</td>\n",
       "    </tr>\n",
       "    <tr>\n",
       "      <th>max</th>\n",
       "      <td>2.176314</td>\n",
       "      <td>1.617584</td>\n",
       "      <td>1.287819</td>\n",
       "      <td>1.690855</td>\n",
       "    </tr>\n",
       "  </tbody>\n",
       "</table>\n",
       "</div>"
      ],
      "text/plain": [
       "              A         B         C         D\n",
       "count  6.000000  6.000000  6.000000  6.000000\n",
       "mean   0.463006  0.428583 -0.048507  0.013270\n",
       "std    1.103114  0.919051  1.478883  1.302059\n",
       "min   -0.981540 -0.791200 -2.792990 -1.254294\n",
       "25%   -0.169645 -0.240565 -0.288184 -1.078829\n",
       "50%    0.405319  0.533988  0.333021 -0.260100\n",
       "75%    0.951773  1.015412  0.865758  1.071224\n",
       "max    2.176314  1.617584  1.287819  1.690855"
      ]
     },
     "execution_count": 11,
     "metadata": {},
     "output_type": "execute_result"
    }
   ],
   "source": [
    "df.describe()"
   ]
  },
  {
   "cell_type": "markdown",
   "id": "bbca6995",
   "metadata": {},
   "source": [
    "对矩阵进行转置"
   ]
  },
  {
   "cell_type": "code",
   "execution_count": 12,
   "id": "2410cfb1",
   "metadata": {},
   "outputs": [
    {
     "data": {
      "text/html": [
       "<div>\n",
       "<style scoped>\n",
       "    .dataframe tbody tr th:only-of-type {\n",
       "        vertical-align: middle;\n",
       "    }\n",
       "\n",
       "    .dataframe tbody tr th {\n",
       "        vertical-align: top;\n",
       "    }\n",
       "\n",
       "    .dataframe thead th {\n",
       "        text-align: right;\n",
       "    }\n",
       "</style>\n",
       "<table border=\"1\" class=\"dataframe\">\n",
       "  <thead>\n",
       "    <tr style=\"text-align: right;\">\n",
       "      <th></th>\n",
       "      <th>2013-01-01</th>\n",
       "      <th>2013-01-02</th>\n",
       "      <th>2013-01-03</th>\n",
       "      <th>2013-01-04</th>\n",
       "      <th>2013-01-05</th>\n",
       "      <th>2013-01-06</th>\n",
       "    </tr>\n",
       "  </thead>\n",
       "  <tbody>\n",
       "    <tr>\n",
       "      <th>A</th>\n",
       "      <td>2.176314</td>\n",
       "      <td>-0.981540</td>\n",
       "      <td>1.102573</td>\n",
       "      <td>0.311264</td>\n",
       "      <td>0.499373</td>\n",
       "      <td>-0.329948</td>\n",
       "    </tr>\n",
       "    <tr>\n",
       "      <th>B</th>\n",
       "      <td>-0.382406</td>\n",
       "      <td>0.883018</td>\n",
       "      <td>-0.791200</td>\n",
       "      <td>1.617584</td>\n",
       "      <td>1.059543</td>\n",
       "      <td>0.184958</td>\n",
       "    </tr>\n",
       "    <tr>\n",
       "      <th>C</th>\n",
       "      <td>1.287819</td>\n",
       "      <td>1.017908</td>\n",
       "      <td>-2.792990</td>\n",
       "      <td>0.256735</td>\n",
       "      <td>0.409307</td>\n",
       "      <td>-0.469824</td>\n",
       "    </tr>\n",
       "    <tr>\n",
       "      <th>D</th>\n",
       "      <td>1.690855</td>\n",
       "      <td>-0.989202</td>\n",
       "      <td>-1.108704</td>\n",
       "      <td>-1.254294</td>\n",
       "      <td>0.469002</td>\n",
       "      <td>1.271965</td>\n",
       "    </tr>\n",
       "  </tbody>\n",
       "</table>\n",
       "</div>"
      ],
      "text/plain": [
       "   2013-01-01  2013-01-02  2013-01-03  2013-01-04  2013-01-05  2013-01-06\n",
       "A    2.176314   -0.981540    1.102573    0.311264    0.499373   -0.329948\n",
       "B   -0.382406    0.883018   -0.791200    1.617584    1.059543    0.184958\n",
       "C    1.287819    1.017908   -2.792990    0.256735    0.409307   -0.469824\n",
       "D    1.690855   -0.989202   -1.108704   -1.254294    0.469002    1.271965"
      ]
     },
     "execution_count": 12,
     "metadata": {},
     "output_type": "execute_result"
    }
   ],
   "source": [
    "df.T"
   ]
  },
  {
   "cell_type": "markdown",
   "id": "fc3bc87a",
   "metadata": {},
   "source": [
    "分类与排序"
   ]
  },
  {
   "cell_type": "code",
   "execution_count": 13,
   "id": "ff8fb89d",
   "metadata": {},
   "outputs": [
    {
     "data": {
      "text/html": [
       "<div>\n",
       "<style scoped>\n",
       "    .dataframe tbody tr th:only-of-type {\n",
       "        vertical-align: middle;\n",
       "    }\n",
       "\n",
       "    .dataframe tbody tr th {\n",
       "        vertical-align: top;\n",
       "    }\n",
       "\n",
       "    .dataframe thead th {\n",
       "        text-align: right;\n",
       "    }\n",
       "</style>\n",
       "<table border=\"1\" class=\"dataframe\">\n",
       "  <thead>\n",
       "    <tr style=\"text-align: right;\">\n",
       "      <th></th>\n",
       "      <th>D</th>\n",
       "      <th>C</th>\n",
       "      <th>B</th>\n",
       "      <th>A</th>\n",
       "    </tr>\n",
       "  </thead>\n",
       "  <tbody>\n",
       "    <tr>\n",
       "      <th>2013-01-01</th>\n",
       "      <td>1.690855</td>\n",
       "      <td>1.287819</td>\n",
       "      <td>-0.382406</td>\n",
       "      <td>2.176314</td>\n",
       "    </tr>\n",
       "    <tr>\n",
       "      <th>2013-01-02</th>\n",
       "      <td>-0.989202</td>\n",
       "      <td>1.017908</td>\n",
       "      <td>0.883018</td>\n",
       "      <td>-0.981540</td>\n",
       "    </tr>\n",
       "    <tr>\n",
       "      <th>2013-01-03</th>\n",
       "      <td>-1.108704</td>\n",
       "      <td>-2.792990</td>\n",
       "      <td>-0.791200</td>\n",
       "      <td>1.102573</td>\n",
       "    </tr>\n",
       "    <tr>\n",
       "      <th>2013-01-04</th>\n",
       "      <td>-1.254294</td>\n",
       "      <td>0.256735</td>\n",
       "      <td>1.617584</td>\n",
       "      <td>0.311264</td>\n",
       "    </tr>\n",
       "    <tr>\n",
       "      <th>2013-01-05</th>\n",
       "      <td>0.469002</td>\n",
       "      <td>0.409307</td>\n",
       "      <td>1.059543</td>\n",
       "      <td>0.499373</td>\n",
       "    </tr>\n",
       "    <tr>\n",
       "      <th>2013-01-06</th>\n",
       "      <td>1.271965</td>\n",
       "      <td>-0.469824</td>\n",
       "      <td>0.184958</td>\n",
       "      <td>-0.329948</td>\n",
       "    </tr>\n",
       "  </tbody>\n",
       "</table>\n",
       "</div>"
      ],
      "text/plain": [
       "                   D         C         B         A\n",
       "2013-01-01  1.690855  1.287819 -0.382406  2.176314\n",
       "2013-01-02 -0.989202  1.017908  0.883018 -0.981540\n",
       "2013-01-03 -1.108704 -2.792990 -0.791200  1.102573\n",
       "2013-01-04 -1.254294  0.256735  1.617584  0.311264\n",
       "2013-01-05  0.469002  0.409307  1.059543  0.499373\n",
       "2013-01-06  1.271965 -0.469824  0.184958 -0.329948"
      ]
     },
     "execution_count": 13,
     "metadata": {},
     "output_type": "execute_result"
    }
   ],
   "source": [
    "df.sort_index(axis=1,ascending=False)"
   ]
  },
  {
   "cell_type": "code",
   "execution_count": 14,
   "id": "a2eb7bf6",
   "metadata": {},
   "outputs": [
    {
     "data": {
      "text/html": [
       "<div>\n",
       "<style scoped>\n",
       "    .dataframe tbody tr th:only-of-type {\n",
       "        vertical-align: middle;\n",
       "    }\n",
       "\n",
       "    .dataframe tbody tr th {\n",
       "        vertical-align: top;\n",
       "    }\n",
       "\n",
       "    .dataframe thead th {\n",
       "        text-align: right;\n",
       "    }\n",
       "</style>\n",
       "<table border=\"1\" class=\"dataframe\">\n",
       "  <thead>\n",
       "    <tr style=\"text-align: right;\">\n",
       "      <th></th>\n",
       "      <th>A</th>\n",
       "      <th>B</th>\n",
       "      <th>C</th>\n",
       "      <th>D</th>\n",
       "    </tr>\n",
       "  </thead>\n",
       "  <tbody>\n",
       "    <tr>\n",
       "      <th>2013-01-03</th>\n",
       "      <td>1.102573</td>\n",
       "      <td>-0.791200</td>\n",
       "      <td>-2.792990</td>\n",
       "      <td>-1.108704</td>\n",
       "    </tr>\n",
       "    <tr>\n",
       "      <th>2013-01-01</th>\n",
       "      <td>2.176314</td>\n",
       "      <td>-0.382406</td>\n",
       "      <td>1.287819</td>\n",
       "      <td>1.690855</td>\n",
       "    </tr>\n",
       "    <tr>\n",
       "      <th>2013-01-06</th>\n",
       "      <td>-0.329948</td>\n",
       "      <td>0.184958</td>\n",
       "      <td>-0.469824</td>\n",
       "      <td>1.271965</td>\n",
       "    </tr>\n",
       "    <tr>\n",
       "      <th>2013-01-02</th>\n",
       "      <td>-0.981540</td>\n",
       "      <td>0.883018</td>\n",
       "      <td>1.017908</td>\n",
       "      <td>-0.989202</td>\n",
       "    </tr>\n",
       "    <tr>\n",
       "      <th>2013-01-05</th>\n",
       "      <td>0.499373</td>\n",
       "      <td>1.059543</td>\n",
       "      <td>0.409307</td>\n",
       "      <td>0.469002</td>\n",
       "    </tr>\n",
       "    <tr>\n",
       "      <th>2013-01-04</th>\n",
       "      <td>0.311264</td>\n",
       "      <td>1.617584</td>\n",
       "      <td>0.256735</td>\n",
       "      <td>-1.254294</td>\n",
       "    </tr>\n",
       "  </tbody>\n",
       "</table>\n",
       "</div>"
      ],
      "text/plain": [
       "                   A         B         C         D\n",
       "2013-01-03  1.102573 -0.791200 -2.792990 -1.108704\n",
       "2013-01-01  2.176314 -0.382406  1.287819  1.690855\n",
       "2013-01-06 -0.329948  0.184958 -0.469824  1.271965\n",
       "2013-01-02 -0.981540  0.883018  1.017908 -0.989202\n",
       "2013-01-05  0.499373  1.059543  0.409307  0.469002\n",
       "2013-01-04  0.311264  1.617584  0.256735 -1.254294"
      ]
     },
     "execution_count": 14,
     "metadata": {},
     "output_type": "execute_result"
    }
   ],
   "source": [
    "df.sort_values(by=\"B\",ascending=True)"
   ]
  },
  {
   "cell_type": "markdown",
   "id": "71ece576",
   "metadata": {},
   "source": [
    "### 选择\n",
    "·注意：虽然用于选择和设置的标准Python/NumPy表达式直观，便于交互工作，但对于生产代码，我们建议使用优化的pandas数据访问方法，.at, .iat, .loc and .iloc.\n",
    "#### Getting\n",
    "选择单列，产生一个序列，相当于df.A:"
   ]
  },
  {
   "cell_type": "code",
   "execution_count": 15,
   "id": "9cf274ee",
   "metadata": {},
   "outputs": [
    {
     "data": {
      "text/plain": [
       "2013-01-01    2.176314\n",
       "2013-01-02   -0.981540\n",
       "2013-01-03    1.102573\n",
       "2013-01-04    0.311264\n",
       "2013-01-05    0.499373\n",
       "2013-01-06   -0.329948\n",
       "Freq: D, Name: A, dtype: float64"
      ]
     },
     "execution_count": 15,
     "metadata": {},
     "output_type": "execute_result"
    }
   ],
   "source": [
    "df[\"A\"]"
   ]
  },
  {
   "cell_type": "markdown",
   "id": "6723048a",
   "metadata": {},
   "source": [
    "用列表符[]，来选择会产生行的切片。"
   ]
  },
  {
   "cell_type": "code",
   "execution_count": 16,
   "id": "5e0c3c0c",
   "metadata": {},
   "outputs": [
    {
     "data": {
      "text/html": [
       "<div>\n",
       "<style scoped>\n",
       "    .dataframe tbody tr th:only-of-type {\n",
       "        vertical-align: middle;\n",
       "    }\n",
       "\n",
       "    .dataframe tbody tr th {\n",
       "        vertical-align: top;\n",
       "    }\n",
       "\n",
       "    .dataframe thead th {\n",
       "        text-align: right;\n",
       "    }\n",
       "</style>\n",
       "<table border=\"1\" class=\"dataframe\">\n",
       "  <thead>\n",
       "    <tr style=\"text-align: right;\">\n",
       "      <th></th>\n",
       "      <th>A</th>\n",
       "      <th>B</th>\n",
       "      <th>C</th>\n",
       "      <th>D</th>\n",
       "    </tr>\n",
       "  </thead>\n",
       "  <tbody>\n",
       "    <tr>\n",
       "      <th>2013-01-01</th>\n",
       "      <td>2.176314</td>\n",
       "      <td>-0.382406</td>\n",
       "      <td>1.287819</td>\n",
       "      <td>1.690855</td>\n",
       "    </tr>\n",
       "    <tr>\n",
       "      <th>2013-01-02</th>\n",
       "      <td>-0.981540</td>\n",
       "      <td>0.883018</td>\n",
       "      <td>1.017908</td>\n",
       "      <td>-0.989202</td>\n",
       "    </tr>\n",
       "    <tr>\n",
       "      <th>2013-01-03</th>\n",
       "      <td>1.102573</td>\n",
       "      <td>-0.791200</td>\n",
       "      <td>-2.792990</td>\n",
       "      <td>-1.108704</td>\n",
       "    </tr>\n",
       "  </tbody>\n",
       "</table>\n",
       "</div>"
      ],
      "text/plain": [
       "                   A         B         C         D\n",
       "2013-01-01  2.176314 -0.382406  1.287819  1.690855\n",
       "2013-01-02 -0.981540  0.883018  1.017908 -0.989202\n",
       "2013-01-03  1.102573 -0.791200 -2.792990 -1.108704"
      ]
     },
     "execution_count": 16,
     "metadata": {},
     "output_type": "execute_result"
    }
   ],
   "source": [
    "df[0:2]\n",
    "df[\"20130101\":\"20130103\"]"
   ]
  },
  {
   "cell_type": "markdown",
   "id": "eb80cc71",
   "metadata": {},
   "source": [
    "#### 通过标签来选择\n",
    "要使用标签获取横截面，请执行以下操作："
   ]
  },
  {
   "cell_type": "code",
   "execution_count": 17,
   "id": "6ea4a94a",
   "metadata": {},
   "outputs": [
    {
     "data": {
      "text/plain": [
       "A    2.176314\n",
       "B   -0.382406\n",
       "C    1.287819\n",
       "D    1.690855\n",
       "Name: 2013-01-01 00:00:00, dtype: float64"
      ]
     },
     "execution_count": 17,
     "metadata": {},
     "output_type": "execute_result"
    }
   ],
   "source": [
    "df.loc[dates[0]]"
   ]
  },
  {
   "cell_type": "markdown",
   "id": "9ddcf3fb",
   "metadata": {},
   "source": [
    "按标签在多轴上选择："
   ]
  },
  {
   "cell_type": "code",
   "execution_count": 18,
   "id": "a260f0d0",
   "metadata": {},
   "outputs": [
    {
     "data": {
      "text/html": [
       "<div>\n",
       "<style scoped>\n",
       "    .dataframe tbody tr th:only-of-type {\n",
       "        vertical-align: middle;\n",
       "    }\n",
       "\n",
       "    .dataframe tbody tr th {\n",
       "        vertical-align: top;\n",
       "    }\n",
       "\n",
       "    .dataframe thead th {\n",
       "        text-align: right;\n",
       "    }\n",
       "</style>\n",
       "<table border=\"1\" class=\"dataframe\">\n",
       "  <thead>\n",
       "    <tr style=\"text-align: right;\">\n",
       "      <th></th>\n",
       "      <th>A</th>\n",
       "      <th>B</th>\n",
       "      <th>C</th>\n",
       "    </tr>\n",
       "  </thead>\n",
       "  <tbody>\n",
       "    <tr>\n",
       "      <th>2013-01-02</th>\n",
       "      <td>-0.981540</td>\n",
       "      <td>0.883018</td>\n",
       "      <td>1.017908</td>\n",
       "    </tr>\n",
       "    <tr>\n",
       "      <th>2013-01-03</th>\n",
       "      <td>1.102573</td>\n",
       "      <td>-0.791200</td>\n",
       "      <td>-2.792990</td>\n",
       "    </tr>\n",
       "  </tbody>\n",
       "</table>\n",
       "</div>"
      ],
      "text/plain": [
       "                   A         B         C\n",
       "2013-01-02 -0.981540  0.883018  1.017908\n",
       "2013-01-03  1.102573 -0.791200 -2.792990"
      ]
     },
     "execution_count": 18,
     "metadata": {},
     "output_type": "execute_result"
    }
   ],
   "source": [
    "#df.loc[:,[\"A\",\"B\"]]\n",
    "df.loc[\"20130102\":\"20130103\",[\"A\",\"B\",\"C\"]]"
   ]
  },
  {
   "cell_type": "markdown",
   "id": "9f392780",
   "metadata": {},
   "source": [
    "减少返回对象的维度"
   ]
  },
  {
   "cell_type": "code",
   "execution_count": 19,
   "id": "a8510d2e",
   "metadata": {},
   "outputs": [
    {
     "data": {
      "text/plain": [
       "A   -0.981540\n",
       "B    0.883018\n",
       "Name: 2013-01-02 00:00:00, dtype: float64"
      ]
     },
     "execution_count": 19,
     "metadata": {},
     "output_type": "execute_result"
    }
   ],
   "source": [
    "df.loc[\"20130102\",[\"A\",\"B\"]]"
   ]
  },
  {
   "cell_type": "markdown",
   "id": "1d67f925",
   "metadata": {},
   "source": [
    "要获取标量值，请执行以下操作：\n",
    "快速访问标量（相当于前面的方法）："
   ]
  },
  {
   "cell_type": "code",
   "execution_count": 20,
   "id": "ab9e1884",
   "metadata": {},
   "outputs": [
    {
     "data": {
      "text/plain": [
       "-0.9815402129675085"
      ]
     },
     "execution_count": 20,
     "metadata": {},
     "output_type": "execute_result"
    }
   ],
   "source": [
    "#df.loc[dates[0],\"A\"]\n",
    "df.at[dates[1],\"A\"]"
   ]
  },
  {
   "cell_type": "code",
   "execution_count": 21,
   "id": "759611fc",
   "metadata": {},
   "outputs": [
    {
     "data": {
      "text/plain": [
       "DatetimeIndex(['2013-01-01', '2013-01-02', '2013-01-03', '2013-01-04',\n",
       "               '2013-01-05', '2013-01-06'],\n",
       "              dtype='datetime64[ns]', freq='D')"
      ]
     },
     "execution_count": 21,
     "metadata": {},
     "output_type": "execute_result"
    }
   ],
   "source": [
    "dates[:]"
   ]
  },
  {
   "cell_type": "code",
   "execution_count": 22,
   "id": "7de35f53",
   "metadata": {},
   "outputs": [
    {
     "data": {
      "text/plain": [
       "2013-01-01    2.176314\n",
       "2013-01-02   -0.981540\n",
       "2013-01-03    1.102573\n",
       "2013-01-04    0.311264\n",
       "2013-01-05    0.499373\n",
       "2013-01-06   -0.329948\n",
       "Freq: D, Name: A, dtype: float64"
      ]
     },
     "execution_count": 22,
     "metadata": {},
     "output_type": "execute_result"
    }
   ],
   "source": [
    "df.A"
   ]
  },
  {
   "cell_type": "markdown",
   "id": "073eaa6b",
   "metadata": {},
   "source": [
    "### 通过位置来选择\n",
    "通过传递的整数的位置选择："
   ]
  },
  {
   "cell_type": "code",
   "execution_count": 23,
   "id": "5d9f180e",
   "metadata": {},
   "outputs": [
    {
     "data": {
      "text/plain": [
       "A    0.311264\n",
       "B    1.617584\n",
       "C    0.256735\n",
       "D   -1.254294\n",
       "Name: 2013-01-04 00:00:00, dtype: float64"
      ]
     },
     "execution_count": 23,
     "metadata": {},
     "output_type": "execute_result"
    }
   ],
   "source": [
    "df.iloc[3]"
   ]
  },
  {
   "cell_type": "markdown",
   "id": "b4b84735",
   "metadata": {},
   "source": [
    "通过整数列表来传递位置参数"
   ]
  },
  {
   "cell_type": "code",
   "execution_count": 24,
   "id": "70222b33",
   "metadata": {},
   "outputs": [
    {
     "data": {
      "text/html": [
       "<div>\n",
       "<style scoped>\n",
       "    .dataframe tbody tr th:only-of-type {\n",
       "        vertical-align: middle;\n",
       "    }\n",
       "\n",
       "    .dataframe tbody tr th {\n",
       "        vertical-align: top;\n",
       "    }\n",
       "\n",
       "    .dataframe thead th {\n",
       "        text-align: right;\n",
       "    }\n",
       "</style>\n",
       "<table border=\"1\" class=\"dataframe\">\n",
       "  <thead>\n",
       "    <tr style=\"text-align: right;\">\n",
       "      <th></th>\n",
       "      <th>A</th>\n",
       "      <th>C</th>\n",
       "    </tr>\n",
       "  </thead>\n",
       "  <tbody>\n",
       "    <tr>\n",
       "      <th>2013-01-02</th>\n",
       "      <td>-0.981540</td>\n",
       "      <td>1.017908</td>\n",
       "    </tr>\n",
       "    <tr>\n",
       "      <th>2013-01-03</th>\n",
       "      <td>1.102573</td>\n",
       "      <td>-2.792990</td>\n",
       "    </tr>\n",
       "    <tr>\n",
       "      <th>2013-01-04</th>\n",
       "      <td>0.311264</td>\n",
       "      <td>0.256735</td>\n",
       "    </tr>\n",
       "  </tbody>\n",
       "</table>\n",
       "</div>"
      ],
      "text/plain": [
       "                   A         C\n",
       "2013-01-02 -0.981540  1.017908\n",
       "2013-01-03  1.102573 -2.792990\n",
       "2013-01-04  0.311264  0.256735"
      ]
     },
     "execution_count": 24,
     "metadata": {},
     "output_type": "execute_result"
    }
   ],
   "source": [
    "df.iloc[[1,2,3],[0,2]]"
   ]
  },
  {
   "cell_type": "code",
   "execution_count": 25,
   "id": "8f1ae5e9",
   "metadata": {},
   "outputs": [
    {
     "data": {
      "text/html": [
       "<div>\n",
       "<style scoped>\n",
       "    .dataframe tbody tr th:only-of-type {\n",
       "        vertical-align: middle;\n",
       "    }\n",
       "\n",
       "    .dataframe tbody tr th {\n",
       "        vertical-align: top;\n",
       "    }\n",
       "\n",
       "    .dataframe thead th {\n",
       "        text-align: right;\n",
       "    }\n",
       "</style>\n",
       "<table border=\"1\" class=\"dataframe\">\n",
       "  <thead>\n",
       "    <tr style=\"text-align: right;\">\n",
       "      <th></th>\n",
       "      <th>A</th>\n",
       "      <th>B</th>\n",
       "      <th>C</th>\n",
       "      <th>D</th>\n",
       "    </tr>\n",
       "  </thead>\n",
       "  <tbody>\n",
       "    <tr>\n",
       "      <th>2013-01-02</th>\n",
       "      <td>-0.981540</td>\n",
       "      <td>0.883018</td>\n",
       "      <td>1.017908</td>\n",
       "      <td>-0.989202</td>\n",
       "    </tr>\n",
       "    <tr>\n",
       "      <th>2013-01-03</th>\n",
       "      <td>1.102573</td>\n",
       "      <td>-0.791200</td>\n",
       "      <td>-2.792990</td>\n",
       "      <td>-1.108704</td>\n",
       "    </tr>\n",
       "  </tbody>\n",
       "</table>\n",
       "</div>"
      ],
      "text/plain": [
       "                   A         B         C         D\n",
       "2013-01-02 -0.981540  0.883018  1.017908 -0.989202\n",
       "2013-01-03  1.102573 -0.791200 -2.792990 -1.108704"
      ]
     },
     "execution_count": 25,
     "metadata": {},
     "output_type": "execute_result"
    }
   ],
   "source": [
    "df.iloc[1:3,:]"
   ]
  },
  {
   "cell_type": "code",
   "execution_count": 26,
   "id": "c3a41829",
   "metadata": {},
   "outputs": [
    {
     "data": {
      "text/html": [
       "<div>\n",
       "<style scoped>\n",
       "    .dataframe tbody tr th:only-of-type {\n",
       "        vertical-align: middle;\n",
       "    }\n",
       "\n",
       "    .dataframe tbody tr th {\n",
       "        vertical-align: top;\n",
       "    }\n",
       "\n",
       "    .dataframe thead th {\n",
       "        text-align: right;\n",
       "    }\n",
       "</style>\n",
       "<table border=\"1\" class=\"dataframe\">\n",
       "  <thead>\n",
       "    <tr style=\"text-align: right;\">\n",
       "      <th></th>\n",
       "      <th>B</th>\n",
       "      <th>C</th>\n",
       "    </tr>\n",
       "  </thead>\n",
       "  <tbody>\n",
       "    <tr>\n",
       "      <th>2013-01-01</th>\n",
       "      <td>-0.382406</td>\n",
       "      <td>1.287819</td>\n",
       "    </tr>\n",
       "    <tr>\n",
       "      <th>2013-01-02</th>\n",
       "      <td>0.883018</td>\n",
       "      <td>1.017908</td>\n",
       "    </tr>\n",
       "    <tr>\n",
       "      <th>2013-01-03</th>\n",
       "      <td>-0.791200</td>\n",
       "      <td>-2.792990</td>\n",
       "    </tr>\n",
       "    <tr>\n",
       "      <th>2013-01-04</th>\n",
       "      <td>1.617584</td>\n",
       "      <td>0.256735</td>\n",
       "    </tr>\n",
       "    <tr>\n",
       "      <th>2013-01-05</th>\n",
       "      <td>1.059543</td>\n",
       "      <td>0.409307</td>\n",
       "    </tr>\n",
       "    <tr>\n",
       "      <th>2013-01-06</th>\n",
       "      <td>0.184958</td>\n",
       "      <td>-0.469824</td>\n",
       "    </tr>\n",
       "  </tbody>\n",
       "</table>\n",
       "</div>"
      ],
      "text/plain": [
       "                   B         C\n",
       "2013-01-01 -0.382406  1.287819\n",
       "2013-01-02  0.883018  1.017908\n",
       "2013-01-03 -0.791200 -2.792990\n",
       "2013-01-04  1.617584  0.256735\n",
       "2013-01-05  1.059543  0.409307\n",
       "2013-01-06  0.184958 -0.469824"
      ]
     },
     "execution_count": 26,
     "metadata": {},
     "output_type": "execute_result"
    }
   ],
   "source": [
    "df.iloc[:,1:3]"
   ]
  },
  {
   "cell_type": "code",
   "execution_count": 27,
   "id": "a524f112",
   "metadata": {},
   "outputs": [
    {
     "data": {
      "text/plain": [
       "0.8830183562020788"
      ]
     },
     "execution_count": 27,
     "metadata": {},
     "output_type": "execute_result"
    }
   ],
   "source": [
    "#df.iloc[1,1]\n",
    "df.iat[1,1]"
   ]
  },
  {
   "cell_type": "markdown",
   "id": "ba2b5f13",
   "metadata": {},
   "source": [
    "### 布尔索引\n",
    "使用单个列的值来选择数据。\n",
    "从满足布尔条件的DataFrame中选择值。"
   ]
  },
  {
   "cell_type": "code",
   "execution_count": 28,
   "id": "88a1e020",
   "metadata": {},
   "outputs": [
    {
     "data": {
      "text/html": [
       "<div>\n",
       "<style scoped>\n",
       "    .dataframe tbody tr th:only-of-type {\n",
       "        vertical-align: middle;\n",
       "    }\n",
       "\n",
       "    .dataframe tbody tr th {\n",
       "        vertical-align: top;\n",
       "    }\n",
       "\n",
       "    .dataframe thead th {\n",
       "        text-align: right;\n",
       "    }\n",
       "</style>\n",
       "<table border=\"1\" class=\"dataframe\">\n",
       "  <thead>\n",
       "    <tr style=\"text-align: right;\">\n",
       "      <th></th>\n",
       "      <th>A</th>\n",
       "      <th>B</th>\n",
       "      <th>C</th>\n",
       "      <th>D</th>\n",
       "    </tr>\n",
       "  </thead>\n",
       "  <tbody>\n",
       "    <tr>\n",
       "      <th>2013-01-01</th>\n",
       "      <td>2.176314</td>\n",
       "      <td>-0.382406</td>\n",
       "      <td>1.287819</td>\n",
       "      <td>1.690855</td>\n",
       "    </tr>\n",
       "    <tr>\n",
       "      <th>2013-01-03</th>\n",
       "      <td>1.102573</td>\n",
       "      <td>-0.791200</td>\n",
       "      <td>-2.792990</td>\n",
       "      <td>-1.108704</td>\n",
       "    </tr>\n",
       "    <tr>\n",
       "      <th>2013-01-04</th>\n",
       "      <td>0.311264</td>\n",
       "      <td>1.617584</td>\n",
       "      <td>0.256735</td>\n",
       "      <td>-1.254294</td>\n",
       "    </tr>\n",
       "    <tr>\n",
       "      <th>2013-01-05</th>\n",
       "      <td>0.499373</td>\n",
       "      <td>1.059543</td>\n",
       "      <td>0.409307</td>\n",
       "      <td>0.469002</td>\n",
       "    </tr>\n",
       "  </tbody>\n",
       "</table>\n",
       "</div>"
      ],
      "text/plain": [
       "                   A         B         C         D\n",
       "2013-01-01  2.176314 -0.382406  1.287819  1.690855\n",
       "2013-01-03  1.102573 -0.791200 -2.792990 -1.108704\n",
       "2013-01-04  0.311264  1.617584  0.256735 -1.254294\n",
       "2013-01-05  0.499373  1.059543  0.409307  0.469002"
      ]
     },
     "execution_count": 28,
     "metadata": {},
     "output_type": "execute_result"
    }
   ],
   "source": [
    "df[df[\"A\"]>0]"
   ]
  },
  {
   "cell_type": "code",
   "execution_count": 29,
   "id": "6c91fbf6",
   "metadata": {},
   "outputs": [
    {
     "data": {
      "text/html": [
       "<div>\n",
       "<style scoped>\n",
       "    .dataframe tbody tr th:only-of-type {\n",
       "        vertical-align: middle;\n",
       "    }\n",
       "\n",
       "    .dataframe tbody tr th {\n",
       "        vertical-align: top;\n",
       "    }\n",
       "\n",
       "    .dataframe thead th {\n",
       "        text-align: right;\n",
       "    }\n",
       "</style>\n",
       "<table border=\"1\" class=\"dataframe\">\n",
       "  <thead>\n",
       "    <tr style=\"text-align: right;\">\n",
       "      <th></th>\n",
       "      <th>A</th>\n",
       "      <th>B</th>\n",
       "      <th>C</th>\n",
       "      <th>D</th>\n",
       "    </tr>\n",
       "  </thead>\n",
       "  <tbody>\n",
       "    <tr>\n",
       "      <th>2013-01-01</th>\n",
       "      <td>2.176314</td>\n",
       "      <td>NaN</td>\n",
       "      <td>1.287819</td>\n",
       "      <td>1.690855</td>\n",
       "    </tr>\n",
       "    <tr>\n",
       "      <th>2013-01-02</th>\n",
       "      <td>NaN</td>\n",
       "      <td>0.883018</td>\n",
       "      <td>1.017908</td>\n",
       "      <td>NaN</td>\n",
       "    </tr>\n",
       "    <tr>\n",
       "      <th>2013-01-03</th>\n",
       "      <td>1.102573</td>\n",
       "      <td>NaN</td>\n",
       "      <td>NaN</td>\n",
       "      <td>NaN</td>\n",
       "    </tr>\n",
       "    <tr>\n",
       "      <th>2013-01-04</th>\n",
       "      <td>0.311264</td>\n",
       "      <td>1.617584</td>\n",
       "      <td>0.256735</td>\n",
       "      <td>NaN</td>\n",
       "    </tr>\n",
       "    <tr>\n",
       "      <th>2013-01-05</th>\n",
       "      <td>0.499373</td>\n",
       "      <td>1.059543</td>\n",
       "      <td>0.409307</td>\n",
       "      <td>0.469002</td>\n",
       "    </tr>\n",
       "    <tr>\n",
       "      <th>2013-01-06</th>\n",
       "      <td>NaN</td>\n",
       "      <td>0.184958</td>\n",
       "      <td>NaN</td>\n",
       "      <td>1.271965</td>\n",
       "    </tr>\n",
       "  </tbody>\n",
       "</table>\n",
       "</div>"
      ],
      "text/plain": [
       "                   A         B         C         D\n",
       "2013-01-01  2.176314       NaN  1.287819  1.690855\n",
       "2013-01-02       NaN  0.883018  1.017908       NaN\n",
       "2013-01-03  1.102573       NaN       NaN       NaN\n",
       "2013-01-04  0.311264  1.617584  0.256735       NaN\n",
       "2013-01-05  0.499373  1.059543  0.409307  0.469002\n",
       "2013-01-06       NaN  0.184958       NaN  1.271965"
      ]
     },
     "execution_count": 29,
     "metadata": {},
     "output_type": "execute_result"
    }
   ],
   "source": [
    "df[df>0]"
   ]
  },
  {
   "cell_type": "markdown",
   "id": "5b9aa4dc",
   "metadata": {},
   "source": [
    "使用isin（）方法进行筛选："
   ]
  },
  {
   "cell_type": "code",
   "execution_count": 30,
   "id": "2d57a50f",
   "metadata": {},
   "outputs": [
    {
     "data": {
      "text/html": [
       "<div>\n",
       "<style scoped>\n",
       "    .dataframe tbody tr th:only-of-type {\n",
       "        vertical-align: middle;\n",
       "    }\n",
       "\n",
       "    .dataframe tbody tr th {\n",
       "        vertical-align: top;\n",
       "    }\n",
       "\n",
       "    .dataframe thead th {\n",
       "        text-align: right;\n",
       "    }\n",
       "</style>\n",
       "<table border=\"1\" class=\"dataframe\">\n",
       "  <thead>\n",
       "    <tr style=\"text-align: right;\">\n",
       "      <th></th>\n",
       "      <th>A</th>\n",
       "      <th>B</th>\n",
       "      <th>C</th>\n",
       "      <th>D</th>\n",
       "      <th>E</th>\n",
       "    </tr>\n",
       "  </thead>\n",
       "  <tbody>\n",
       "    <tr>\n",
       "      <th>2013-01-01</th>\n",
       "      <td>2.176314</td>\n",
       "      <td>-0.382406</td>\n",
       "      <td>1.287819</td>\n",
       "      <td>1.690855</td>\n",
       "      <td>one</td>\n",
       "    </tr>\n",
       "    <tr>\n",
       "      <th>2013-01-02</th>\n",
       "      <td>-0.981540</td>\n",
       "      <td>0.883018</td>\n",
       "      <td>1.017908</td>\n",
       "      <td>-0.989202</td>\n",
       "      <td>one</td>\n",
       "    </tr>\n",
       "    <tr>\n",
       "      <th>2013-01-03</th>\n",
       "      <td>1.102573</td>\n",
       "      <td>-0.791200</td>\n",
       "      <td>-2.792990</td>\n",
       "      <td>-1.108704</td>\n",
       "      <td>two</td>\n",
       "    </tr>\n",
       "    <tr>\n",
       "      <th>2013-01-04</th>\n",
       "      <td>0.311264</td>\n",
       "      <td>1.617584</td>\n",
       "      <td>0.256735</td>\n",
       "      <td>-1.254294</td>\n",
       "      <td>three</td>\n",
       "    </tr>\n",
       "    <tr>\n",
       "      <th>2013-01-05</th>\n",
       "      <td>0.499373</td>\n",
       "      <td>1.059543</td>\n",
       "      <td>0.409307</td>\n",
       "      <td>0.469002</td>\n",
       "      <td>four</td>\n",
       "    </tr>\n",
       "    <tr>\n",
       "      <th>2013-01-06</th>\n",
       "      <td>-0.329948</td>\n",
       "      <td>0.184958</td>\n",
       "      <td>-0.469824</td>\n",
       "      <td>1.271965</td>\n",
       "      <td>three</td>\n",
       "    </tr>\n",
       "  </tbody>\n",
       "</table>\n",
       "</div>"
      ],
      "text/plain": [
       "                   A         B         C         D      E\n",
       "2013-01-01  2.176314 -0.382406  1.287819  1.690855    one\n",
       "2013-01-02 -0.981540  0.883018  1.017908 -0.989202    one\n",
       "2013-01-03  1.102573 -0.791200 -2.792990 -1.108704    two\n",
       "2013-01-04  0.311264  1.617584  0.256735 -1.254294  three\n",
       "2013-01-05  0.499373  1.059543  0.409307  0.469002   four\n",
       "2013-01-06 -0.329948  0.184958 -0.469824  1.271965  three"
      ]
     },
     "execution_count": 30,
     "metadata": {},
     "output_type": "execute_result"
    }
   ],
   "source": [
    "df2 = df.copy()\n",
    "df2[\"E\"] = [\"one\",\"one\",\"two\",\"three\",\"four\",\"three\"]\n",
    "df2"
   ]
  },
  {
   "cell_type": "code",
   "execution_count": 31,
   "id": "52b3db59",
   "metadata": {},
   "outputs": [
    {
     "data": {
      "text/html": [
       "<div>\n",
       "<style scoped>\n",
       "    .dataframe tbody tr th:only-of-type {\n",
       "        vertical-align: middle;\n",
       "    }\n",
       "\n",
       "    .dataframe tbody tr th {\n",
       "        vertical-align: top;\n",
       "    }\n",
       "\n",
       "    .dataframe thead th {\n",
       "        text-align: right;\n",
       "    }\n",
       "</style>\n",
       "<table border=\"1\" class=\"dataframe\">\n",
       "  <thead>\n",
       "    <tr style=\"text-align: right;\">\n",
       "      <th></th>\n",
       "      <th>A</th>\n",
       "      <th>B</th>\n",
       "      <th>C</th>\n",
       "      <th>D</th>\n",
       "      <th>E</th>\n",
       "    </tr>\n",
       "  </thead>\n",
       "  <tbody>\n",
       "    <tr>\n",
       "      <th>2013-01-03</th>\n",
       "      <td>1.102573</td>\n",
       "      <td>-0.791200</td>\n",
       "      <td>-2.792990</td>\n",
       "      <td>-1.108704</td>\n",
       "      <td>two</td>\n",
       "    </tr>\n",
       "    <tr>\n",
       "      <th>2013-01-05</th>\n",
       "      <td>0.499373</td>\n",
       "      <td>1.059543</td>\n",
       "      <td>0.409307</td>\n",
       "      <td>0.469002</td>\n",
       "      <td>four</td>\n",
       "    </tr>\n",
       "  </tbody>\n",
       "</table>\n",
       "</div>"
      ],
      "text/plain": [
       "                   A         B         C         D     E\n",
       "2013-01-03  1.102573 -0.791200 -2.792990 -1.108704   two\n",
       "2013-01-05  0.499373  1.059543  0.409307  0.469002  four"
      ]
     },
     "execution_count": 31,
     "metadata": {},
     "output_type": "execute_result"
    }
   ],
   "source": [
    "df2[df2[\"E\"].isin([\"two\",\"four\"])]"
   ]
  },
  {
   "cell_type": "markdown",
   "id": "0a61835d",
   "metadata": {},
   "source": [
    "### 设置\n",
    "设置新列会自动按索引对齐数据。"
   ]
  },
  {
   "cell_type": "code",
   "execution_count": 32,
   "id": "bb87a59d",
   "metadata": {},
   "outputs": [
    {
     "data": {
      "text/plain": [
       "2013-01-02    1\n",
       "2013-01-03    2\n",
       "2013-01-04    3\n",
       "2013-01-05    4\n",
       "2013-01-06    5\n",
       "2013-01-07    6\n",
       "Freq: D, dtype: int64"
      ]
     },
     "execution_count": 32,
     "metadata": {},
     "output_type": "execute_result"
    }
   ],
   "source": [
    "s1 = pd.Series([1,2,3,4,5,6],index=pd.date_range(\"20130102\",periods=6))\n",
    "s1"
   ]
  },
  {
   "cell_type": "code",
   "execution_count": 33,
   "id": "c4e8e5a6",
   "metadata": {},
   "outputs": [
    {
     "data": {
      "text/html": [
       "<div>\n",
       "<style scoped>\n",
       "    .dataframe tbody tr th:only-of-type {\n",
       "        vertical-align: middle;\n",
       "    }\n",
       "\n",
       "    .dataframe tbody tr th {\n",
       "        vertical-align: top;\n",
       "    }\n",
       "\n",
       "    .dataframe thead th {\n",
       "        text-align: right;\n",
       "    }\n",
       "</style>\n",
       "<table border=\"1\" class=\"dataframe\">\n",
       "  <thead>\n",
       "    <tr style=\"text-align: right;\">\n",
       "      <th></th>\n",
       "      <th>A</th>\n",
       "      <th>B</th>\n",
       "      <th>C</th>\n",
       "      <th>D</th>\n",
       "      <th>F</th>\n",
       "    </tr>\n",
       "  </thead>\n",
       "  <tbody>\n",
       "    <tr>\n",
       "      <th>2013-01-01</th>\n",
       "      <td>2.176314</td>\n",
       "      <td>-0.382406</td>\n",
       "      <td>1.287819</td>\n",
       "      <td>1.690855</td>\n",
       "      <td>NaN</td>\n",
       "    </tr>\n",
       "    <tr>\n",
       "      <th>2013-01-02</th>\n",
       "      <td>-0.981540</td>\n",
       "      <td>0.883018</td>\n",
       "      <td>1.017908</td>\n",
       "      <td>-0.989202</td>\n",
       "      <td>1.0</td>\n",
       "    </tr>\n",
       "    <tr>\n",
       "      <th>2013-01-03</th>\n",
       "      <td>1.102573</td>\n",
       "      <td>-0.791200</td>\n",
       "      <td>-2.792990</td>\n",
       "      <td>-1.108704</td>\n",
       "      <td>2.0</td>\n",
       "    </tr>\n",
       "    <tr>\n",
       "      <th>2013-01-04</th>\n",
       "      <td>0.311264</td>\n",
       "      <td>1.617584</td>\n",
       "      <td>0.256735</td>\n",
       "      <td>-1.254294</td>\n",
       "      <td>3.0</td>\n",
       "    </tr>\n",
       "    <tr>\n",
       "      <th>2013-01-05</th>\n",
       "      <td>0.499373</td>\n",
       "      <td>1.059543</td>\n",
       "      <td>0.409307</td>\n",
       "      <td>0.469002</td>\n",
       "      <td>4.0</td>\n",
       "    </tr>\n",
       "    <tr>\n",
       "      <th>2013-01-06</th>\n",
       "      <td>-0.329948</td>\n",
       "      <td>0.184958</td>\n",
       "      <td>-0.469824</td>\n",
       "      <td>1.271965</td>\n",
       "      <td>5.0</td>\n",
       "    </tr>\n",
       "  </tbody>\n",
       "</table>\n",
       "</div>"
      ],
      "text/plain": [
       "                   A         B         C         D    F\n",
       "2013-01-01  2.176314 -0.382406  1.287819  1.690855  NaN\n",
       "2013-01-02 -0.981540  0.883018  1.017908 -0.989202  1.0\n",
       "2013-01-03  1.102573 -0.791200 -2.792990 -1.108704  2.0\n",
       "2013-01-04  0.311264  1.617584  0.256735 -1.254294  3.0\n",
       "2013-01-05  0.499373  1.059543  0.409307  0.469002  4.0\n",
       "2013-01-06 -0.329948  0.184958 -0.469824  1.271965  5.0"
      ]
     },
     "execution_count": 33,
     "metadata": {},
     "output_type": "execute_result"
    }
   ],
   "source": [
    "df[\"F\"] = s1\n",
    "df"
   ]
  },
  {
   "cell_type": "code",
   "execution_count": 34,
   "id": "c886a8bb",
   "metadata": {},
   "outputs": [],
   "source": [
    "#通过标签来设置值\n",
    "df.at[dates[0],\"A\"] = 0\n",
    "#通过位置来设置值\n",
    "df.iat[0,1] = 0\n",
    "#通过使用NumPy数组指定来设置：\n",
    "df.loc[:,\"D\"] = np.array([5]*len(df))"
   ]
  },
  {
   "cell_type": "code",
   "execution_count": 35,
   "id": "901957c3",
   "metadata": {},
   "outputs": [
    {
     "data": {
      "text/html": [
       "<div>\n",
       "<style scoped>\n",
       "    .dataframe tbody tr th:only-of-type {\n",
       "        vertical-align: middle;\n",
       "    }\n",
       "\n",
       "    .dataframe tbody tr th {\n",
       "        vertical-align: top;\n",
       "    }\n",
       "\n",
       "    .dataframe thead th {\n",
       "        text-align: right;\n",
       "    }\n",
       "</style>\n",
       "<table border=\"1\" class=\"dataframe\">\n",
       "  <thead>\n",
       "    <tr style=\"text-align: right;\">\n",
       "      <th></th>\n",
       "      <th>A</th>\n",
       "      <th>B</th>\n",
       "      <th>C</th>\n",
       "      <th>D</th>\n",
       "      <th>F</th>\n",
       "    </tr>\n",
       "  </thead>\n",
       "  <tbody>\n",
       "    <tr>\n",
       "      <th>2013-01-01</th>\n",
       "      <td>0.000000</td>\n",
       "      <td>0.000000</td>\n",
       "      <td>1.287819</td>\n",
       "      <td>5</td>\n",
       "      <td>NaN</td>\n",
       "    </tr>\n",
       "    <tr>\n",
       "      <th>2013-01-02</th>\n",
       "      <td>-0.981540</td>\n",
       "      <td>0.883018</td>\n",
       "      <td>1.017908</td>\n",
       "      <td>5</td>\n",
       "      <td>1.0</td>\n",
       "    </tr>\n",
       "    <tr>\n",
       "      <th>2013-01-03</th>\n",
       "      <td>1.102573</td>\n",
       "      <td>-0.791200</td>\n",
       "      <td>-2.792990</td>\n",
       "      <td>5</td>\n",
       "      <td>2.0</td>\n",
       "    </tr>\n",
       "    <tr>\n",
       "      <th>2013-01-04</th>\n",
       "      <td>0.311264</td>\n",
       "      <td>1.617584</td>\n",
       "      <td>0.256735</td>\n",
       "      <td>5</td>\n",
       "      <td>3.0</td>\n",
       "    </tr>\n",
       "    <tr>\n",
       "      <th>2013-01-05</th>\n",
       "      <td>0.499373</td>\n",
       "      <td>1.059543</td>\n",
       "      <td>0.409307</td>\n",
       "      <td>5</td>\n",
       "      <td>4.0</td>\n",
       "    </tr>\n",
       "    <tr>\n",
       "      <th>2013-01-06</th>\n",
       "      <td>-0.329948</td>\n",
       "      <td>0.184958</td>\n",
       "      <td>-0.469824</td>\n",
       "      <td>5</td>\n",
       "      <td>5.0</td>\n",
       "    </tr>\n",
       "  </tbody>\n",
       "</table>\n",
       "</div>"
      ],
      "text/plain": [
       "                   A         B         C  D    F\n",
       "2013-01-01  0.000000  0.000000  1.287819  5  NaN\n",
       "2013-01-02 -0.981540  0.883018  1.017908  5  1.0\n",
       "2013-01-03  1.102573 -0.791200 -2.792990  5  2.0\n",
       "2013-01-04  0.311264  1.617584  0.256735  5  3.0\n",
       "2013-01-05  0.499373  1.059543  0.409307  5  4.0\n",
       "2013-01-06 -0.329948  0.184958 -0.469824  5  5.0"
      ]
     },
     "execution_count": 35,
     "metadata": {},
     "output_type": "execute_result"
    }
   ],
   "source": [
    "df"
   ]
  },
  {
   "cell_type": "code",
   "execution_count": 36,
   "id": "1f6c144a",
   "metadata": {},
   "outputs": [
    {
     "data": {
      "text/html": [
       "<div>\n",
       "<style scoped>\n",
       "    .dataframe tbody tr th:only-of-type {\n",
       "        vertical-align: middle;\n",
       "    }\n",
       "\n",
       "    .dataframe tbody tr th {\n",
       "        vertical-align: top;\n",
       "    }\n",
       "\n",
       "    .dataframe thead th {\n",
       "        text-align: right;\n",
       "    }\n",
       "</style>\n",
       "<table border=\"1\" class=\"dataframe\">\n",
       "  <thead>\n",
       "    <tr style=\"text-align: right;\">\n",
       "      <th></th>\n",
       "      <th>A</th>\n",
       "      <th>B</th>\n",
       "      <th>C</th>\n",
       "      <th>D</th>\n",
       "      <th>F</th>\n",
       "    </tr>\n",
       "  </thead>\n",
       "  <tbody>\n",
       "    <tr>\n",
       "      <th>2013-01-01</th>\n",
       "      <td>0.000000</td>\n",
       "      <td>0.000000</td>\n",
       "      <td>-1.287819</td>\n",
       "      <td>-5</td>\n",
       "      <td>NaN</td>\n",
       "    </tr>\n",
       "    <tr>\n",
       "      <th>2013-01-02</th>\n",
       "      <td>-0.981540</td>\n",
       "      <td>-0.883018</td>\n",
       "      <td>-1.017908</td>\n",
       "      <td>-5</td>\n",
       "      <td>-1.0</td>\n",
       "    </tr>\n",
       "    <tr>\n",
       "      <th>2013-01-03</th>\n",
       "      <td>-1.102573</td>\n",
       "      <td>-0.791200</td>\n",
       "      <td>-2.792990</td>\n",
       "      <td>-5</td>\n",
       "      <td>-2.0</td>\n",
       "    </tr>\n",
       "    <tr>\n",
       "      <th>2013-01-04</th>\n",
       "      <td>-0.311264</td>\n",
       "      <td>-1.617584</td>\n",
       "      <td>-0.256735</td>\n",
       "      <td>-5</td>\n",
       "      <td>-3.0</td>\n",
       "    </tr>\n",
       "    <tr>\n",
       "      <th>2013-01-05</th>\n",
       "      <td>-0.499373</td>\n",
       "      <td>-1.059543</td>\n",
       "      <td>-0.409307</td>\n",
       "      <td>-5</td>\n",
       "      <td>-4.0</td>\n",
       "    </tr>\n",
       "    <tr>\n",
       "      <th>2013-01-06</th>\n",
       "      <td>-0.329948</td>\n",
       "      <td>-0.184958</td>\n",
       "      <td>-0.469824</td>\n",
       "      <td>-5</td>\n",
       "      <td>-5.0</td>\n",
       "    </tr>\n",
       "  </tbody>\n",
       "</table>\n",
       "</div>"
      ],
      "text/plain": [
       "                   A         B         C  D    F\n",
       "2013-01-01  0.000000  0.000000 -1.287819 -5  NaN\n",
       "2013-01-02 -0.981540 -0.883018 -1.017908 -5 -1.0\n",
       "2013-01-03 -1.102573 -0.791200 -2.792990 -5 -2.0\n",
       "2013-01-04 -0.311264 -1.617584 -0.256735 -5 -3.0\n",
       "2013-01-05 -0.499373 -1.059543 -0.409307 -5 -4.0\n",
       "2013-01-06 -0.329948 -0.184958 -0.469824 -5 -5.0"
      ]
     },
     "execution_count": 36,
     "metadata": {},
     "output_type": "execute_result"
    }
   ],
   "source": [
    "#具有设置的where操作。\n",
    "df2 = df.copy()\n",
    "df2[df2>0] = -df2\n",
    "df2"
   ]
  },
  {
   "cell_type": "markdown",
   "id": "4b00589c",
   "metadata": {},
   "source": [
    "## 缺失数据\n",
    "pandas主要使用np.nan表示缺少的数据。默认情况下，它不包括在计算中。请参阅缺失数据部分。\n",
    "重新索引允许您更改/添加/删除指定轴上的索引。这将返回数据的副本。"
   ]
  },
  {
   "cell_type": "code",
   "execution_count": 37,
   "id": "80510457",
   "metadata": {},
   "outputs": [
    {
     "data": {
      "text/html": [
       "<div>\n",
       "<style scoped>\n",
       "    .dataframe tbody tr th:only-of-type {\n",
       "        vertical-align: middle;\n",
       "    }\n",
       "\n",
       "    .dataframe tbody tr th {\n",
       "        vertical-align: top;\n",
       "    }\n",
       "\n",
       "    .dataframe thead th {\n",
       "        text-align: right;\n",
       "    }\n",
       "</style>\n",
       "<table border=\"1\" class=\"dataframe\">\n",
       "  <thead>\n",
       "    <tr style=\"text-align: right;\">\n",
       "      <th></th>\n",
       "      <th>A</th>\n",
       "      <th>B</th>\n",
       "      <th>C</th>\n",
       "      <th>D</th>\n",
       "      <th>F</th>\n",
       "      <th>E</th>\n",
       "    </tr>\n",
       "  </thead>\n",
       "  <tbody>\n",
       "    <tr>\n",
       "      <th>2013-01-01</th>\n",
       "      <td>0.000000</td>\n",
       "      <td>0.000000</td>\n",
       "      <td>1.287819</td>\n",
       "      <td>5</td>\n",
       "      <td>NaN</td>\n",
       "      <td>1.0</td>\n",
       "    </tr>\n",
       "    <tr>\n",
       "      <th>2013-01-02</th>\n",
       "      <td>-0.981540</td>\n",
       "      <td>0.883018</td>\n",
       "      <td>1.017908</td>\n",
       "      <td>5</td>\n",
       "      <td>1.0</td>\n",
       "      <td>1.0</td>\n",
       "    </tr>\n",
       "    <tr>\n",
       "      <th>2013-01-03</th>\n",
       "      <td>1.102573</td>\n",
       "      <td>-0.791200</td>\n",
       "      <td>-2.792990</td>\n",
       "      <td>5</td>\n",
       "      <td>2.0</td>\n",
       "      <td>NaN</td>\n",
       "    </tr>\n",
       "    <tr>\n",
       "      <th>2013-01-04</th>\n",
       "      <td>0.311264</td>\n",
       "      <td>1.617584</td>\n",
       "      <td>0.256735</td>\n",
       "      <td>5</td>\n",
       "      <td>3.0</td>\n",
       "      <td>NaN</td>\n",
       "    </tr>\n",
       "  </tbody>\n",
       "</table>\n",
       "</div>"
      ],
      "text/plain": [
       "                   A         B         C  D    F    E\n",
       "2013-01-01  0.000000  0.000000  1.287819  5  NaN  1.0\n",
       "2013-01-02 -0.981540  0.883018  1.017908  5  1.0  1.0\n",
       "2013-01-03  1.102573 -0.791200 -2.792990  5  2.0  NaN\n",
       "2013-01-04  0.311264  1.617584  0.256735  5  3.0  NaN"
      ]
     },
     "execution_count": 37,
     "metadata": {},
     "output_type": "execute_result"
    }
   ],
   "source": [
    "df1 = df.reindex(index=dates[0:4],columns=list(df.columns)+[\"E\"])\n",
    "df1.loc[dates[0]:dates[1],\"E\"] = 1\n",
    "df1"
   ]
  },
  {
   "cell_type": "code",
   "execution_count": 38,
   "id": "cbb44647",
   "metadata": {},
   "outputs": [
    {
     "data": {
      "text/html": [
       "<div>\n",
       "<style scoped>\n",
       "    .dataframe tbody tr th:only-of-type {\n",
       "        vertical-align: middle;\n",
       "    }\n",
       "\n",
       "    .dataframe tbody tr th {\n",
       "        vertical-align: top;\n",
       "    }\n",
       "\n",
       "    .dataframe thead th {\n",
       "        text-align: right;\n",
       "    }\n",
       "</style>\n",
       "<table border=\"1\" class=\"dataframe\">\n",
       "  <thead>\n",
       "    <tr style=\"text-align: right;\">\n",
       "      <th></th>\n",
       "      <th>A</th>\n",
       "      <th>B</th>\n",
       "      <th>C</th>\n",
       "      <th>D</th>\n",
       "      <th>F</th>\n",
       "      <th>E</th>\n",
       "    </tr>\n",
       "  </thead>\n",
       "  <tbody>\n",
       "    <tr>\n",
       "      <th>2013-01-02</th>\n",
       "      <td>-0.98154</td>\n",
       "      <td>0.883018</td>\n",
       "      <td>1.017908</td>\n",
       "      <td>5</td>\n",
       "      <td>1.0</td>\n",
       "      <td>1.0</td>\n",
       "    </tr>\n",
       "  </tbody>\n",
       "</table>\n",
       "</div>"
      ],
      "text/plain": [
       "                  A         B         C  D    F    E\n",
       "2013-01-02 -0.98154  0.883018  1.017908  5  1.0  1.0"
      ]
     },
     "execution_count": 38,
     "metadata": {},
     "output_type": "execute_result"
    }
   ],
   "source": [
    "#删除丢失数据的任何行。\n",
    "df1.dropna(how=\"any\")"
   ]
  },
  {
   "cell_type": "code",
   "execution_count": 39,
   "id": "99788519",
   "metadata": {},
   "outputs": [
    {
     "data": {
      "text/html": [
       "<div>\n",
       "<style scoped>\n",
       "    .dataframe tbody tr th:only-of-type {\n",
       "        vertical-align: middle;\n",
       "    }\n",
       "\n",
       "    .dataframe tbody tr th {\n",
       "        vertical-align: top;\n",
       "    }\n",
       "\n",
       "    .dataframe thead th {\n",
       "        text-align: right;\n",
       "    }\n",
       "</style>\n",
       "<table border=\"1\" class=\"dataframe\">\n",
       "  <thead>\n",
       "    <tr style=\"text-align: right;\">\n",
       "      <th></th>\n",
       "      <th>A</th>\n",
       "      <th>B</th>\n",
       "      <th>C</th>\n",
       "      <th>D</th>\n",
       "      <th>F</th>\n",
       "      <th>E</th>\n",
       "    </tr>\n",
       "  </thead>\n",
       "  <tbody>\n",
       "    <tr>\n",
       "      <th>2013-01-01</th>\n",
       "      <td>0.000000</td>\n",
       "      <td>0.000000</td>\n",
       "      <td>1.287819</td>\n",
       "      <td>5</td>\n",
       "      <td>5.0</td>\n",
       "      <td>1.0</td>\n",
       "    </tr>\n",
       "    <tr>\n",
       "      <th>2013-01-02</th>\n",
       "      <td>-0.981540</td>\n",
       "      <td>0.883018</td>\n",
       "      <td>1.017908</td>\n",
       "      <td>5</td>\n",
       "      <td>1.0</td>\n",
       "      <td>1.0</td>\n",
       "    </tr>\n",
       "    <tr>\n",
       "      <th>2013-01-03</th>\n",
       "      <td>1.102573</td>\n",
       "      <td>-0.791200</td>\n",
       "      <td>-2.792990</td>\n",
       "      <td>5</td>\n",
       "      <td>2.0</td>\n",
       "      <td>5.0</td>\n",
       "    </tr>\n",
       "    <tr>\n",
       "      <th>2013-01-04</th>\n",
       "      <td>0.311264</td>\n",
       "      <td>1.617584</td>\n",
       "      <td>0.256735</td>\n",
       "      <td>5</td>\n",
       "      <td>3.0</td>\n",
       "      <td>5.0</td>\n",
       "    </tr>\n",
       "  </tbody>\n",
       "</table>\n",
       "</div>"
      ],
      "text/plain": [
       "                   A         B         C  D    F    E\n",
       "2013-01-01  0.000000  0.000000  1.287819  5  5.0  1.0\n",
       "2013-01-02 -0.981540  0.883018  1.017908  5  1.0  1.0\n",
       "2013-01-03  1.102573 -0.791200 -2.792990  5  2.0  5.0\n",
       "2013-01-04  0.311264  1.617584  0.256735  5  3.0  5.0"
      ]
     },
     "execution_count": 39,
     "metadata": {},
     "output_type": "execute_result"
    }
   ],
   "source": [
    "#填充缺失数据\n",
    "df1.fillna(value=5)"
   ]
  },
  {
   "cell_type": "code",
   "execution_count": 40,
   "id": "3eda118d",
   "metadata": {},
   "outputs": [
    {
     "data": {
      "text/html": [
       "<div>\n",
       "<style scoped>\n",
       "    .dataframe tbody tr th:only-of-type {\n",
       "        vertical-align: middle;\n",
       "    }\n",
       "\n",
       "    .dataframe tbody tr th {\n",
       "        vertical-align: top;\n",
       "    }\n",
       "\n",
       "    .dataframe thead th {\n",
       "        text-align: right;\n",
       "    }\n",
       "</style>\n",
       "<table border=\"1\" class=\"dataframe\">\n",
       "  <thead>\n",
       "    <tr style=\"text-align: right;\">\n",
       "      <th></th>\n",
       "      <th>A</th>\n",
       "      <th>B</th>\n",
       "      <th>C</th>\n",
       "      <th>D</th>\n",
       "      <th>F</th>\n",
       "      <th>E</th>\n",
       "    </tr>\n",
       "  </thead>\n",
       "  <tbody>\n",
       "    <tr>\n",
       "      <th>2013-01-01</th>\n",
       "      <td>False</td>\n",
       "      <td>False</td>\n",
       "      <td>False</td>\n",
       "      <td>False</td>\n",
       "      <td>True</td>\n",
       "      <td>False</td>\n",
       "    </tr>\n",
       "    <tr>\n",
       "      <th>2013-01-02</th>\n",
       "      <td>False</td>\n",
       "      <td>False</td>\n",
       "      <td>False</td>\n",
       "      <td>False</td>\n",
       "      <td>False</td>\n",
       "      <td>False</td>\n",
       "    </tr>\n",
       "    <tr>\n",
       "      <th>2013-01-03</th>\n",
       "      <td>False</td>\n",
       "      <td>False</td>\n",
       "      <td>False</td>\n",
       "      <td>False</td>\n",
       "      <td>False</td>\n",
       "      <td>True</td>\n",
       "    </tr>\n",
       "    <tr>\n",
       "      <th>2013-01-04</th>\n",
       "      <td>False</td>\n",
       "      <td>False</td>\n",
       "      <td>False</td>\n",
       "      <td>False</td>\n",
       "      <td>False</td>\n",
       "      <td>True</td>\n",
       "    </tr>\n",
       "  </tbody>\n",
       "</table>\n",
       "</div>"
      ],
      "text/plain": [
       "                A      B      C      D      F      E\n",
       "2013-01-01  False  False  False  False   True  False\n",
       "2013-01-02  False  False  False  False  False  False\n",
       "2013-01-03  False  False  False  False  False   True\n",
       "2013-01-04  False  False  False  False  False   True"
      ]
     },
     "execution_count": 40,
     "metadata": {},
     "output_type": "execute_result"
    }
   ],
   "source": [
    "#获取值为nan的布尔掩码。\n",
    "pd.isna(df1)"
   ]
  },
  {
   "cell_type": "markdown",
   "id": "879bad2e",
   "metadata": {},
   "source": [
    "### 操作\n",
    "#### 统计数据\n",
    "操作通常排除丢失的数据。\n",
    "执行描述性统计："
   ]
  },
  {
   "cell_type": "code",
   "execution_count": 41,
   "id": "a351f057",
   "metadata": {},
   "outputs": [
    {
     "data": {
      "text/plain": [
       "A    0.100287\n",
       "B    0.492317\n",
       "C   -0.048507\n",
       "D    5.000000\n",
       "F    3.000000\n",
       "dtype: float64"
      ]
     },
     "execution_count": 41,
     "metadata": {},
     "output_type": "execute_result"
    }
   ],
   "source": [
    "df.mean()"
   ]
  },
  {
   "cell_type": "code",
   "execution_count": 42,
   "id": "8bdb0f77",
   "metadata": {},
   "outputs": [
    {
     "data": {
      "text/plain": [
       "2013-01-01    1.571955\n",
       "2013-01-02    1.383877\n",
       "2013-01-03    0.903677\n",
       "2013-01-04    2.037116\n",
       "2013-01-05    2.193645\n",
       "2013-01-06    1.877037\n",
       "Freq: D, dtype: float64"
      ]
     },
     "execution_count": 42,
     "metadata": {},
     "output_type": "execute_result"
    }
   ],
   "source": [
    "df.mean(1)"
   ]
  },
  {
   "cell_type": "markdown",
   "id": "992cf202",
   "metadata": {},
   "source": [
    "操作具有不同维度且需要对齐的对象。此外，pandas还会沿指定的维度自动广播。"
   ]
  },
  {
   "cell_type": "code",
   "execution_count": 43,
   "id": "66c6b55d",
   "metadata": {},
   "outputs": [
    {
     "data": {
      "text/plain": [
       "2013-01-01    NaN\n",
       "2013-01-02    NaN\n",
       "2013-01-03    1.0\n",
       "2013-01-04    3.0\n",
       "2013-01-05    5.0\n",
       "2013-01-06    NaN\n",
       "Freq: D, dtype: float64"
      ]
     },
     "execution_count": 43,
     "metadata": {},
     "output_type": "execute_result"
    }
   ],
   "source": [
    "s = pd.Series([1,3,5,np.nan,6,8],index=dates).shift(2)\n",
    "#DataFrame.shift(periods=1, freq=None, axis=0)\n",
    "#period表示移动的幅度可以是正数也可以是负数\n",
    "s"
   ]
  },
  {
   "cell_type": "code",
   "execution_count": 45,
   "id": "704e2898",
   "metadata": {},
   "outputs": [
    {
     "data": {
      "text/html": [
       "<div>\n",
       "<style scoped>\n",
       "    .dataframe tbody tr th:only-of-type {\n",
       "        vertical-align: middle;\n",
       "    }\n",
       "\n",
       "    .dataframe tbody tr th {\n",
       "        vertical-align: top;\n",
       "    }\n",
       "\n",
       "    .dataframe thead th {\n",
       "        text-align: right;\n",
       "    }\n",
       "</style>\n",
       "<table border=\"1\" class=\"dataframe\">\n",
       "  <thead>\n",
       "    <tr style=\"text-align: right;\">\n",
       "      <th></th>\n",
       "      <th>A</th>\n",
       "      <th>B</th>\n",
       "      <th>C</th>\n",
       "      <th>D</th>\n",
       "      <th>F</th>\n",
       "    </tr>\n",
       "  </thead>\n",
       "  <tbody>\n",
       "    <tr>\n",
       "      <th>2013-01-01</th>\n",
       "      <td>NaN</td>\n",
       "      <td>NaN</td>\n",
       "      <td>NaN</td>\n",
       "      <td>NaN</td>\n",
       "      <td>NaN</td>\n",
       "    </tr>\n",
       "    <tr>\n",
       "      <th>2013-01-02</th>\n",
       "      <td>NaN</td>\n",
       "      <td>NaN</td>\n",
       "      <td>NaN</td>\n",
       "      <td>NaN</td>\n",
       "      <td>NaN</td>\n",
       "    </tr>\n",
       "    <tr>\n",
       "      <th>2013-01-03</th>\n",
       "      <td>0.102573</td>\n",
       "      <td>-1.791200</td>\n",
       "      <td>-3.792990</td>\n",
       "      <td>4.0</td>\n",
       "      <td>1.0</td>\n",
       "    </tr>\n",
       "    <tr>\n",
       "      <th>2013-01-04</th>\n",
       "      <td>-2.688736</td>\n",
       "      <td>-1.382416</td>\n",
       "      <td>-2.743265</td>\n",
       "      <td>2.0</td>\n",
       "      <td>0.0</td>\n",
       "    </tr>\n",
       "    <tr>\n",
       "      <th>2013-01-05</th>\n",
       "      <td>-4.500627</td>\n",
       "      <td>-3.940457</td>\n",
       "      <td>-4.590693</td>\n",
       "      <td>0.0</td>\n",
       "      <td>-1.0</td>\n",
       "    </tr>\n",
       "    <tr>\n",
       "      <th>2013-01-06</th>\n",
       "      <td>NaN</td>\n",
       "      <td>NaN</td>\n",
       "      <td>NaN</td>\n",
       "      <td>NaN</td>\n",
       "      <td>NaN</td>\n",
       "    </tr>\n",
       "  </tbody>\n",
       "</table>\n",
       "</div>"
      ],
      "text/plain": [
       "                   A         B         C    D    F\n",
       "2013-01-01       NaN       NaN       NaN  NaN  NaN\n",
       "2013-01-02       NaN       NaN       NaN  NaN  NaN\n",
       "2013-01-03  0.102573 -1.791200 -3.792990  4.0  1.0\n",
       "2013-01-04 -2.688736 -1.382416 -2.743265  2.0  0.0\n",
       "2013-01-05 -4.500627 -3.940457 -4.590693  0.0 -1.0\n",
       "2013-01-06       NaN       NaN       NaN  NaN  NaN"
      ]
     },
     "execution_count": 45,
     "metadata": {},
     "output_type": "execute_result"
    }
   ],
   "source": [
    "df.sub(s,axis=0)\n",
    "#用法：DataFrame.sub(other, axis=’columns’, level=None, fill_value=None)\n",
    "#Pandas dataframe.sub()函数用于查找数据帧和其他逐元素的减法。此功能与执行 dataframe - other 但支持替换其中一个输入中的丢失数据。\n",
    "#other:系列，DataFrame或常量\n",
    "#axis:对于系列输入，轴与系列索引匹配\n",
    "#level:在一个级别上广播，在传递的MultiIndex级别上匹配Index值\n",
    "#fill_value:在计算之前，请使用此值填充现有的缺失(NaN)值以及成功完成DataFrame对齐所需的任何新元素。如果两个对应的DataFrame位置中的数据均丢失，则结果将丢失。"
   ]
  },
  {
   "cell_type": "code",
   "execution_count": null,
   "id": "25d8edbb",
   "metadata": {},
   "outputs": [],
   "source": []
  },
  {
   "cell_type": "code",
   "execution_count": null,
   "id": "b51a1850",
   "metadata": {},
   "outputs": [],
   "source": []
  }
 ],
 "metadata": {
  "kernelspec": {
   "display_name": "Python 3 (ipykernel)",
   "language": "python",
   "name": "python3"
  },
  "language_info": {
   "codemirror_mode": {
    "name": "ipython",
    "version": 3
   },
   "file_extension": ".py",
   "mimetype": "text/x-python",
   "name": "python",
   "nbconvert_exporter": "python",
   "pygments_lexer": "ipython3",
   "version": "3.9.7"
  }
 },
 "nbformat": 4,
 "nbformat_minor": 5
}
