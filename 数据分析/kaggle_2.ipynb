{
 "cells": [
  {
   "cell_type": "code",
   "execution_count": 1,
   "id": "22d90ca3",
   "metadata": {},
   "outputs": [],
   "source": [
    "import pandas as pd\n",
    "import numpy as np\n",
    "import matplotlib.pyplot as plt\n",
    "import seaborn as sns\n",
    "import os\n",
    "import gc"
   ]
  },
  {
   "cell_type": "code",
   "execution_count": null,
   "id": "1c2f7f87",
   "metadata": {},
   "outputs": [],
   "source": [
    "marchants = pd.read_csv(r\"F:\\BaiduNetdiskDownload\\案例一【Elo用户忠诚度预测】\\Part 1\\数据\\原始数据\\merchants.csv\")\n",
    "h_transactions = pd.read_csv(r\"F:\\BaiduNetdiskDownload\\案例一【Elo用户忠诚度预测】\\Part 1\\数据\\原始数据\\historical_transactions.csv\")\n",
    "n_transactions = pd.read_csv(r\"F:\\BaiduNetdiskDownload\\案例一【Elo用户忠诚度预测】\\Part 1\\数据\\原始数据\\new_merchant_transactions.csv\")\n",
    "dd = pd.read_excel(r\"F:\\BaiduNetdiskDownload\\案例一【Elo用户忠诚度预测】\\Part 1\\数据\\原始数据\\Data_Dictionary.xlsx\")"
   ]
  },
  {
   "cell_type": "code",
   "execution_count": null,
   "id": "352a8ee5",
   "metadata": {},
   "outputs": [],
   "source": [
    "merchants.info()"
   ]
  },
  {
   "cell_type": "code",
   "execution_count": null,
   "id": "20ca30f7",
   "metadata": {},
   "outputs": [],
   "source": []
  }
 ],
 "metadata": {
  "kernelspec": {
   "display_name": "Python 3 (ipykernel)",
   "language": "python",
   "name": "python3"
  },
  "language_info": {
   "codemirror_mode": {
    "name": "ipython",
    "version": 3
   },
   "file_extension": ".py",
   "mimetype": "text/x-python",
   "name": "python",
   "nbconvert_exporter": "python",
   "pygments_lexer": "ipython3",
   "version": "3.9.7"
  }
 },
 "nbformat": 4,
 "nbformat_minor": 5
}
