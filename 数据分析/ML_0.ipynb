{
 "cells": [
  {
   "cell_type": "markdown",
   "id": "3f7eb4dc",
   "metadata": {},
   "source": [
    "# 机器学习\n",
    "本质：借助数据模型理解数据。一旦模型可以拟合旧的观测数据，那么他们就可以预测并解释新的观测数据。\n",
    "从数据创建模型的学问。\n",
    "## 机器学习的分类\n",
    "（1）有监督学习\n",
    "是指对数据的若干特征与若干标签之间的关联性进行建模的过程；只要模型被确定，就可以应用到新的未知数据上。\n",
    "分类任务（classification）：标签都是离散值\n",
    "回归任务（regression）：标签都是连续值\n",
    "（2）无监督学习\n",
    "是指对于不带任何标签的数据特征进行建模，通常是被看成是一种“让数据自己介绍自己”的过程。\n",
    "聚类（clustering）：将数据分为不同的组别\n",
    "降维（dimensionality reduction）：追求用更简洁的方式表现数据\n",
    "（3）半监督学习\n",
    "在标签数据不完整时使用。\n",
    "## 机器学习的应用\n",
    "1. 分类：预测离散标签\n",
    "2. 回归：预测连续标签\n",
    "线性回归、支持向量机、随机森林回归\n",
    "3. 聚类：为无标签数据添加标签\n",
    "K-means聚类算法、高斯混合模型、谱聚类\n",
    "4. 降维：推断无标签数据的结构\n",
    "在保证高维数据质量的条件下从中抽取出一个低维数据集\n",
    "主成分分析、流形学习算法、isomap算法、局部线性嵌入算法"
   ]
  },
  {
   "cell_type": "code",
   "execution_count": 6,
   "id": "c4495800",
   "metadata": {},
   "outputs": [
    {
     "ename": "ValueError",
     "evalue": "'F:\\BaiduNetdiskDownload\\案例一【Elo用户忠诚度预测】\\Part 1\\数据\\原始数据\\train.csv' is not one of the example datasets.",
     "output_type": "error",
     "traceback": [
      "\u001b[1;31m---------------------------------------------------------------------------\u001b[0m",
      "\u001b[1;31mValueError\u001b[0m                                Traceback (most recent call last)",
      "\u001b[1;32m~\\AppData\\Local\\Temp/ipykernel_5772/1244250449.py\u001b[0m in \u001b[0;36m<module>\u001b[1;34m\u001b[0m\n\u001b[0;32m      1\u001b[0m \u001b[1;32mimport\u001b[0m \u001b[0mseaborn\u001b[0m \u001b[1;32mas\u001b[0m \u001b[0msns\u001b[0m\u001b[1;33m\u001b[0m\u001b[1;33m\u001b[0m\u001b[0m\n\u001b[0;32m      2\u001b[0m \u001b[1;33m\u001b[0m\u001b[0m\n\u001b[1;32m----> 3\u001b[1;33m \u001b[0mtrain\u001b[0m \u001b[1;33m=\u001b[0m \u001b[0msns\u001b[0m\u001b[1;33m.\u001b[0m\u001b[0mload_dataset\u001b[0m\u001b[1;33m(\u001b[0m\u001b[1;34mr\"F:\\BaiduNetdiskDownload\\案例一【Elo用户忠诚度预测】\\Part 1\\数据\\原始数据\\train.csv\"\u001b[0m\u001b[1;33m)\u001b[0m\u001b[1;33m\u001b[0m\u001b[1;33m\u001b[0m\u001b[0m\n\u001b[0m",
      "\u001b[1;32mF:\\Program Files (x86)\\anacoda\\lib\\site-packages\\seaborn\\utils.py\u001b[0m in \u001b[0;36mload_dataset\u001b[1;34m(name, cache, data_home, **kws)\u001b[0m\n\u001b[0;32m    593\u001b[0m         \u001b[1;32mif\u001b[0m \u001b[1;32mnot\u001b[0m \u001b[0mos\u001b[0m\u001b[1;33m.\u001b[0m\u001b[0mpath\u001b[0m\u001b[1;33m.\u001b[0m\u001b[0mexists\u001b[0m\u001b[1;33m(\u001b[0m\u001b[0mcache_path\u001b[0m\u001b[1;33m)\u001b[0m\u001b[1;33m:\u001b[0m\u001b[1;33m\u001b[0m\u001b[1;33m\u001b[0m\u001b[0m\n\u001b[0;32m    594\u001b[0m             \u001b[1;32mif\u001b[0m \u001b[0mname\u001b[0m \u001b[1;32mnot\u001b[0m \u001b[1;32min\u001b[0m \u001b[0mget_dataset_names\u001b[0m\u001b[1;33m(\u001b[0m\u001b[1;33m)\u001b[0m\u001b[1;33m:\u001b[0m\u001b[1;33m\u001b[0m\u001b[1;33m\u001b[0m\u001b[0m\n\u001b[1;32m--> 595\u001b[1;33m                 \u001b[1;32mraise\u001b[0m \u001b[0mValueError\u001b[0m\u001b[1;33m(\u001b[0m\u001b[1;34mf\"'{name}' is not one of the example datasets.\"\u001b[0m\u001b[1;33m)\u001b[0m\u001b[1;33m\u001b[0m\u001b[1;33m\u001b[0m\u001b[0m\n\u001b[0m\u001b[0;32m    596\u001b[0m             \u001b[0murlretrieve\u001b[0m\u001b[1;33m(\u001b[0m\u001b[0murl\u001b[0m\u001b[1;33m,\u001b[0m \u001b[0mcache_path\u001b[0m\u001b[1;33m)\u001b[0m\u001b[1;33m\u001b[0m\u001b[1;33m\u001b[0m\u001b[0m\n\u001b[0;32m    597\u001b[0m         \u001b[0mfull_path\u001b[0m \u001b[1;33m=\u001b[0m \u001b[0mcache_path\u001b[0m\u001b[1;33m\u001b[0m\u001b[1;33m\u001b[0m\u001b[0m\n",
      "\u001b[1;31mValueError\u001b[0m: 'F:\\BaiduNetdiskDownload\\案例一【Elo用户忠诚度预测】\\Part 1\\数据\\原始数据\\train.csv' is not one of the example datasets."
     ]
    }
   ],
   "source": [
    "import seaborn as sns\n",
    "\n",
    "train = sns.load_dataset(r\"F:\\BaiduNetdiskDownload\\案例一【Elo用户忠诚度预测】\\Part 1\\数据\\原始数据\\train.csv\")"
   ]
  },
  {
   "cell_type": "code",
   "execution_count": null,
   "id": "acbe756b",
   "metadata": {},
   "outputs": [],
   "source": [
    "train.head()"
   ]
  }
 ],
 "metadata": {
  "kernelspec": {
   "display_name": "Python 3 (ipykernel)",
   "language": "python",
   "name": "python3"
  },
  "language_info": {
   "codemirror_mode": {
    "name": "ipython",
    "version": 3
   },
   "file_extension": ".py",
   "mimetype": "text/x-python",
   "name": "python",
   "nbconvert_exporter": "python",
   "pygments_lexer": "ipython3",
   "version": "3.9.7"
  }
 },
 "nbformat": 4,
 "nbformat_minor": 5
}
