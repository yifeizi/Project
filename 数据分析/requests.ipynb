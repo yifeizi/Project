{
 "cells": [
  {
   "cell_type": "code",
   "execution_count": 1,
   "id": "393ae3e0",
   "metadata": {},
   "outputs": [
    {
     "ename": "AttributeError",
     "evalue": "'HTTPResponse' object has no attribute 'html'",
     "output_type": "error",
     "traceback": [
      "\u001b[1;31m---------------------------------------------------------------------------\u001b[0m",
      "\u001b[1;31mAttributeError\u001b[0m                            Traceback (most recent call last)",
      "\u001b[1;32m~\\AppData\\Local\\Temp/ipykernel_8696/3457401733.py\u001b[0m in \u001b[0;36m<module>\u001b[1;34m\u001b[0m\n\u001b[0;32m     25\u001b[0m \u001b[1;33m\u001b[0m\u001b[0m\n\u001b[0;32m     26\u001b[0m \u001b[1;32mwith\u001b[0m \u001b[0mopen\u001b[0m\u001b[1;33m(\u001b[0m\u001b[1;34m\"file_gb2312.txt\"\u001b[0m\u001b[1;33m,\u001b[0m\u001b[0mmode\u001b[0m\u001b[1;33m=\u001b[0m\u001b[1;34m\"wb\"\u001b[0m\u001b[1;33m)\u001b[0m \u001b[1;32mas\u001b[0m \u001b[0mf_h\u001b[0m\u001b[1;33m:\u001b[0m\u001b[1;33m\u001b[0m\u001b[1;33m\u001b[0m\u001b[0m\n\u001b[1;32m---> 27\u001b[1;33m     \u001b[0mf_h\u001b[0m\u001b[1;33m.\u001b[0m\u001b[0mwrite\u001b[0m\u001b[1;33m(\u001b[0m\u001b[0mhtml\u001b[0m\u001b[1;33m.\u001b[0m\u001b[0mhtml\u001b[0m\u001b[1;33m)\u001b[0m\u001b[1;33m\u001b[0m\u001b[1;33m\u001b[0m\u001b[0m\n\u001b[0m\u001b[0;32m     28\u001b[0m \u001b[1;33m\u001b[0m\u001b[0m\n\u001b[0;32m     29\u001b[0m \u001b[1;33m\u001b[0m\u001b[0m\n",
      "\u001b[1;31mAttributeError\u001b[0m: 'HTTPResponse' object has no attribute 'html'"
     ]
    }
   ],
   "source": [
    "from urllib.request import urlopen\n",
    "from bs4 import BeautifulSoup\n",
    "import requests\n",
    "\n",
    "url_1 = \"https://www.51test.net/show/10298926.html\"\n",
    "url_2 = \"https://www.51test.net/show/10302706.html\"\n",
    "url_3 = \"https://movie.douban.com/\"\n",
    "url_4 = \"http://c.justwin.cn/Custom/JWWebsite/JWView/005Analysis/005_619.html\"\n",
    "headers = {\n",
    "    \"User-Agent\": \"Mozilla/5.0 (Linux; Android 6.0; Nexus 5 Build/MRA58N) AppleWebKit/537.36 (KHTML, like Gecko) Chrome/93.0.4577.82 Mobile Safari/537.36 Edg/93.0.961.52\"\n",
    "\n",
    "\n",
    "}\n",
    "\n",
    "#html = requests.get(url = url_3,headers = headers)\n",
    "\n",
    "html = urlopen(url_4)\n",
    "\n",
    "data_1 = html.read()\n",
    "#lprint(data_1)\n",
    "#data = html.read().decode('gb2312')\n",
    "\n",
    "#print(data)\n",
    "#print(html.read())\n",
    "\n",
    "with open(\"file_gb2312.txt\",mode=\"wb\") as f_h:\n",
    "    f_h.write(html.html)\n",
    "      \n",
    "\n",
    "#写入文件\n",
    "#with open(\"take_part_in.txt\",mode = \"w\",encoding = \"utf-8\") as f:\n",
    " #   f.write(data)\n",
    "\n",
    "#with open('take_part_in.html') as f:\n",
    " #   f1 = f.read().decode('gb2312')\n",
    "      \n",
    "\n",
    "      \n",
    "\n"
   ]
  },
  {
   "cell_type": "code",
   "execution_count": 46,
   "id": "bb80e1c9",
   "metadata": {},
   "outputs": [],
   "source": [
    "import pandas as pd\n",
    "\n",
    "test_file = \"take_part_in.csv\"\n",
    "out_put_file = \"out.csv\"\n",
    "#print(data)\n",
    "\n",
    "#print(html.read())\n",
    "\n",
    "#with open(\"take_part_in.txt\",\"w\") as f:\n",
    " #   f.write(data)\n",
    "    \n",
    "#f = open(\"test_file\")\n",
    "#data_frame = pd.read_csv(f)\n",
    "#print(data_frame)\n",
    "#data_frame.to_csv(out_put_file,index=False)\n",
    "\n",
    "\n",
    "\n",
    "#bsobj = BeautifulSoup(data.read())\n",
    "bsobj = BeautifulSoup(data_1)\n",
    "contexts = bsobj.findAll(\"p\")\n",
    "\n",
    "with open(\"requests.txt\",mode=\"a\",encoding=\"utf-8\") as f_r: \n",
    "    for context in contexts:\n",
    "        #print(context.get_text())\n",
    "        f_r.write(\"\\r\\n\")\n",
    "        f_r.write(context.get_text())\n",
    "    \n",
    "\n",
    "#print(content)\n",
    "      "
   ]
  },
  {
   "cell_type": "code",
   "execution_count": 40,
   "id": "9031a15b",
   "metadata": {},
   "outputs": [],
   "source": [
    "from docx import Document\n",
    "\n",
    "Doc = Document()\n",
    "\n",
    "Doc.add_heading(\"入党申请书\")\n",
    "\n",
    "A = Doc.add_paragraph(\"以下是正文\")\n",
    "for context in contexts:\n",
    "    A.add_run(\"^l^p\")\n",
    "    A.add_run(context.get_text())\n",
    "\n",
    "Doc.save(\"入党生情书.docx\")"
   ]
  },
  {
   "cell_type": "code",
   "execution_count": 10,
   "id": "abba0145",
   "metadata": {},
   "outputs": [
    {
     "ename": "SyntaxError",
     "evalue": "invalid syntax (Temp/ipykernel_4332/1697230466.py, line 2)",
     "output_type": "error",
     "traceback": [
      "\u001b[1;36m  File \u001b[1;32m\"C:\\Users\\59972\\AppData\\Local\\Temp/ipykernel_4332/1697230466.py\"\u001b[1;36m, line \u001b[1;32m2\u001b[0m\n\u001b[1;33m    pattern = re.compile(ur'^[\\u4e00-\\u9fa5]{0,}$')\u001b[0m\n\u001b[1;37m                           ^\u001b[0m\n\u001b[1;31mSyntaxError\u001b[0m\u001b[1;31m:\u001b[0m invalid syntax\n"
     ]
    }
   ],
   "source": [
    "import re\n",
    "\n",
    "pattern = re.compile(ur'^[\\u4e00-\\u9fa5]{0,}$')\n",
    "\n",
    "str = u'汉字'\n",
    "print(pattern.search(str))"
   ]
  },
  {
   "cell_type": "code",
   "execution_count": null,
   "id": "0888fdba",
   "metadata": {},
   "outputs": [],
   "source": []
  },
  {
   "cell_type": "code",
   "execution_count": null,
   "id": "8f9b9a2d",
   "metadata": {},
   "outputs": [],
   "source": []
  }
 ],
 "metadata": {
  "kernelspec": {
   "display_name": "Python 3 (ipykernel)",
   "language": "python",
   "name": "python3"
  },
  "language_info": {
   "codemirror_mode": {
    "name": "ipython",
    "version": 3
   },
   "file_extension": ".py",
   "mimetype": "text/x-python",
   "name": "python",
   "nbconvert_exporter": "python",
   "pygments_lexer": "ipython3",
   "version": "3.9.5"
  }
 },
 "nbformat": 4,
 "nbformat_minor": 5
}
