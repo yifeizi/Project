{
 "cells": [
  {
   "cell_type": "code",
   "execution_count": 1,
   "id": "c4c0bc84",
   "metadata": {},
   "outputs": [],
   "source": [
    "import numpy as np\n",
    "import pandas as pd\n",
    "import matplotlib.pyplot as plt\n",
    "import seaborn as sns"
   ]
  },
  {
   "cell_type": "code",
   "execution_count": 3,
   "id": "83324d29",
   "metadata": {},
   "outputs": [
    {
     "data": {
      "text/html": [
       "<div>\n",
       "<style scoped>\n",
       "    .dataframe tbody tr th:only-of-type {\n",
       "        vertical-align: middle;\n",
       "    }\n",
       "\n",
       "    .dataframe tbody tr th {\n",
       "        vertical-align: top;\n",
       "    }\n",
       "\n",
       "    .dataframe thead th {\n",
       "        text-align: right;\n",
       "    }\n",
       "</style>\n",
       "<table border=\"1\" class=\"dataframe\">\n",
       "  <thead>\n",
       "    <tr style=\"text-align: right;\">\n",
       "      <th></th>\n",
       "      <th>A</th>\n",
       "      <th>B</th>\n",
       "      <th>C</th>\n",
       "    </tr>\n",
       "  </thead>\n",
       "  <tbody>\n",
       "    <tr>\n",
       "      <th>2000-01-01</th>\n",
       "      <td>-1.881430</td>\n",
       "      <td>-0.392217</td>\n",
       "      <td>-0.522163</td>\n",
       "    </tr>\n",
       "    <tr>\n",
       "      <th>2000-01-02</th>\n",
       "      <td>0.558646</td>\n",
       "      <td>0.324320</td>\n",
       "      <td>-0.042122</td>\n",
       "    </tr>\n",
       "    <tr>\n",
       "      <th>2000-01-03</th>\n",
       "      <td>0.993604</td>\n",
       "      <td>-1.048631</td>\n",
       "      <td>0.267917</td>\n",
       "    </tr>\n",
       "    <tr>\n",
       "      <th>2000-01-04</th>\n",
       "      <td>-1.510632</td>\n",
       "      <td>0.529988</td>\n",
       "      <td>0.003094</td>\n",
       "    </tr>\n",
       "    <tr>\n",
       "      <th>2000-01-05</th>\n",
       "      <td>1.350998</td>\n",
       "      <td>2.025135</td>\n",
       "      <td>1.816401</td>\n",
       "    </tr>\n",
       "    <tr>\n",
       "      <th>2000-01-06</th>\n",
       "      <td>0.031871</td>\n",
       "      <td>-1.187144</td>\n",
       "      <td>-0.106590</td>\n",
       "    </tr>\n",
       "    <tr>\n",
       "      <th>2000-01-07</th>\n",
       "      <td>-0.327940</td>\n",
       "      <td>0.053134</td>\n",
       "      <td>-0.622494</td>\n",
       "    </tr>\n",
       "    <tr>\n",
       "      <th>2000-01-08</th>\n",
       "      <td>-0.173572</td>\n",
       "      <td>-1.706154</td>\n",
       "      <td>-0.635202</td>\n",
       "    </tr>\n",
       "  </tbody>\n",
       "</table>\n",
       "</div>"
      ],
      "text/plain": [
       "                   A         B         C\n",
       "2000-01-01 -1.881430 -0.392217 -0.522163\n",
       "2000-01-02  0.558646  0.324320 -0.042122\n",
       "2000-01-03  0.993604 -1.048631  0.267917\n",
       "2000-01-04 -1.510632  0.529988  0.003094\n",
       "2000-01-05  1.350998  2.025135  1.816401\n",
       "2000-01-06  0.031871 -1.187144 -0.106590\n",
       "2000-01-07 -0.327940  0.053134 -0.622494\n",
       "2000-01-08 -0.173572 -1.706154 -0.635202"
      ]
     },
     "execution_count": 3,
     "metadata": {},
     "output_type": "execute_result"
    }
   ],
   "source": [
    "index = pd.date_range(\"1/1/2000\", periods=8)\n",
    "s = pd.Series(np.random.randn(5), index=[\"a\", \"b\", \"c\", \"d\", \"e\"])\n",
    "df = pd.DataFrame(np.random.randn(8, 3), index=index, columns=[\"A\", \"B\", \"C\"])\n",
    "#s\n",
    "df"
   ]
  },
  {
   "cell_type": "markdown",
   "id": "d00b4588",
   "metadata": {},
   "source": [
    "## Head and tail\n",
    "To view a small sample of a Series or DataFrame object, use the head() and tail() methods. The default number of elements to display is five, but you may pass a custom number."
   ]
  },
  {
   "cell_type": "code",
   "execution_count": 4,
   "id": "bb119dec",
   "metadata": {},
   "outputs": [
    {
     "data": {
      "text/plain": [
       "0    0.176950\n",
       "1    0.125018\n",
       "2    1.090972\n",
       "3   -1.323822\n",
       "4   -1.205144\n",
       "dtype: float64"
      ]
     },
     "execution_count": 4,
     "metadata": {},
     "output_type": "execute_result"
    }
   ],
   "source": [
    "long_series = pd.Series(np.random.randn(1000))\n",
    "long_series.head()"
   ]
  },
  {
   "cell_type": "code",
   "execution_count": 5,
   "id": "86d936ae",
   "metadata": {},
   "outputs": [
    {
     "data": {
      "text/plain": [
       "997    1.347451\n",
       "998    0.552855\n",
       "999   -0.064144\n",
       "dtype: float64"
      ]
     },
     "execution_count": 5,
     "metadata": {},
     "output_type": "execute_result"
    }
   ],
   "source": [
    "long_series.tail(3)"
   ]
  },
  {
   "cell_type": "markdown",
   "id": "7878379d",
   "metadata": {},
   "source": [
    "## 属性和基础数据\n",
    "pandas objects have a number of attributes enabling you to access the metadata\n",
    "\n",
    "• shape: gives the axis dimensions of the object, consistent with ndarray\n",
    "\n",
    "• Axis labels\n",
    "\n",
    "– Series: index (only axis)\n",
    "\n",
    "– DataFrame: index (rows) and columns\n",
    "\n",
    "Note, these attributes can be safely assigned to!"
   ]
  },
  {
   "cell_type": "code",
   "execution_count": 6,
   "id": "6c45a5a9",
   "metadata": {},
   "outputs": [
    {
     "data": {
      "text/html": [
       "<div>\n",
       "<style scoped>\n",
       "    .dataframe tbody tr th:only-of-type {\n",
       "        vertical-align: middle;\n",
       "    }\n",
       "\n",
       "    .dataframe tbody tr th {\n",
       "        vertical-align: top;\n",
       "    }\n",
       "\n",
       "    .dataframe thead th {\n",
       "        text-align: right;\n",
       "    }\n",
       "</style>\n",
       "<table border=\"1\" class=\"dataframe\">\n",
       "  <thead>\n",
       "    <tr style=\"text-align: right;\">\n",
       "      <th></th>\n",
       "      <th>A</th>\n",
       "      <th>B</th>\n",
       "      <th>C</th>\n",
       "    </tr>\n",
       "  </thead>\n",
       "  <tbody>\n",
       "    <tr>\n",
       "      <th>2000-01-01</th>\n",
       "      <td>-1.881430</td>\n",
       "      <td>-0.392217</td>\n",
       "      <td>-0.522163</td>\n",
       "    </tr>\n",
       "    <tr>\n",
       "      <th>2000-01-02</th>\n",
       "      <td>0.558646</td>\n",
       "      <td>0.324320</td>\n",
       "      <td>-0.042122</td>\n",
       "    </tr>\n",
       "  </tbody>\n",
       "</table>\n",
       "</div>"
      ],
      "text/plain": [
       "                   A         B         C\n",
       "2000-01-01 -1.881430 -0.392217 -0.522163\n",
       "2000-01-02  0.558646  0.324320 -0.042122"
      ]
     },
     "execution_count": 6,
     "metadata": {},
     "output_type": "execute_result"
    }
   ],
   "source": [
    "df[:2]"
   ]
  },
  {
   "cell_type": "code",
   "execution_count": 8,
   "id": "99a90ae5",
   "metadata": {},
   "outputs": [
    {
     "data": {
      "text/html": [
       "<div>\n",
       "<style scoped>\n",
       "    .dataframe tbody tr th:only-of-type {\n",
       "        vertical-align: middle;\n",
       "    }\n",
       "\n",
       "    .dataframe tbody tr th {\n",
       "        vertical-align: top;\n",
       "    }\n",
       "\n",
       "    .dataframe thead th {\n",
       "        text-align: right;\n",
       "    }\n",
       "</style>\n",
       "<table border=\"1\" class=\"dataframe\">\n",
       "  <thead>\n",
       "    <tr style=\"text-align: right;\">\n",
       "      <th></th>\n",
       "      <th>a</th>\n",
       "      <th>b</th>\n",
       "      <th>c</th>\n",
       "    </tr>\n",
       "  </thead>\n",
       "  <tbody>\n",
       "    <tr>\n",
       "      <th>2000-01-01</th>\n",
       "      <td>-1.881430</td>\n",
       "      <td>-0.392217</td>\n",
       "      <td>-0.522163</td>\n",
       "    </tr>\n",
       "    <tr>\n",
       "      <th>2000-01-02</th>\n",
       "      <td>0.558646</td>\n",
       "      <td>0.324320</td>\n",
       "      <td>-0.042122</td>\n",
       "    </tr>\n",
       "    <tr>\n",
       "      <th>2000-01-03</th>\n",
       "      <td>0.993604</td>\n",
       "      <td>-1.048631</td>\n",
       "      <td>0.267917</td>\n",
       "    </tr>\n",
       "    <tr>\n",
       "      <th>2000-01-04</th>\n",
       "      <td>-1.510632</td>\n",
       "      <td>0.529988</td>\n",
       "      <td>0.003094</td>\n",
       "    </tr>\n",
       "    <tr>\n",
       "      <th>2000-01-05</th>\n",
       "      <td>1.350998</td>\n",
       "      <td>2.025135</td>\n",
       "      <td>1.816401</td>\n",
       "    </tr>\n",
       "    <tr>\n",
       "      <th>2000-01-06</th>\n",
       "      <td>0.031871</td>\n",
       "      <td>-1.187144</td>\n",
       "      <td>-0.106590</td>\n",
       "    </tr>\n",
       "    <tr>\n",
       "      <th>2000-01-07</th>\n",
       "      <td>-0.327940</td>\n",
       "      <td>0.053134</td>\n",
       "      <td>-0.622494</td>\n",
       "    </tr>\n",
       "    <tr>\n",
       "      <th>2000-01-08</th>\n",
       "      <td>-0.173572</td>\n",
       "      <td>-1.706154</td>\n",
       "      <td>-0.635202</td>\n",
       "    </tr>\n",
       "  </tbody>\n",
       "</table>\n",
       "</div>"
      ],
      "text/plain": [
       "                   a         b         c\n",
       "2000-01-01 -1.881430 -0.392217 -0.522163\n",
       "2000-01-02  0.558646  0.324320 -0.042122\n",
       "2000-01-03  0.993604 -1.048631  0.267917\n",
       "2000-01-04 -1.510632  0.529988  0.003094\n",
       "2000-01-05  1.350998  2.025135  1.816401\n",
       "2000-01-06  0.031871 -1.187144 -0.106590\n",
       "2000-01-07 -0.327940  0.053134 -0.622494\n",
       "2000-01-08 -0.173572 -1.706154 -0.635202"
      ]
     },
     "execution_count": 8,
     "metadata": {},
     "output_type": "execute_result"
    }
   ],
   "source": [
    "df.columns = [x.lower() for x in df.columns]\n",
    "df"
   ]
  },
  {
   "cell_type": "markdown",
   "id": "268d9ea6",
   "metadata": {},
   "source": [
    "When the Series or Index is backed by an ExtensionArray, to_numpy() may involve copying data and coercing values. See dtypes for more.\n",
    "\n",
    "to_numpy() gives some control over the dtype of the resulting numpy.ndarray. For example, consider datetimes with timezones. NumPy doesn’t have a dtype to represent timezone-aware datetimes, so there are two possibly useful representations:\n",
    "\n",
    "1. An object-dtype numpy.ndarray with Timestamp objects, each with the correct tz\n",
    "2. A datetime64[ns] -dtype numpy.ndarray, where the values have been converted to UTC and the timezone discarded\n",
    "Timezones may be preserved with dtype=object"
   ]
  },
  {
   "cell_type": "code",
   "execution_count": 9,
   "id": "c70a92b4",
   "metadata": {},
   "outputs": [
    {
     "data": {
      "text/plain": [
       "array([ 0.27794708, -0.68244087,  1.70834729, -0.45712731,  1.08285889])"
      ]
     },
     "execution_count": 9,
     "metadata": {},
     "output_type": "execute_result"
    }
   ],
   "source": [
    "s.array\n",
    "s.index.array\n",
    "s.to_numpy()\n",
    "np.asarray(s)"
   ]
  },
  {
   "cell_type": "code",
   "execution_count": 10,
   "id": "b3976b24",
   "metadata": {},
   "outputs": [],
   "source": [
    "ser = pd.Series(pd.date_range(\"2000\", periods=2, tz=\"CET\"))"
   ]
  },
  {
   "cell_type": "code",
   "execution_count": 11,
   "id": "c7ef64a4",
   "metadata": {},
   "outputs": [
    {
     "data": {
      "text/plain": [
       "array([Timestamp('2000-01-01 00:00:00+0100', tz='CET'),\n",
       "       Timestamp('2000-01-02 00:00:00+0100', tz='CET')], dtype=object)"
      ]
     },
     "execution_count": 11,
     "metadata": {},
     "output_type": "execute_result"
    }
   ],
   "source": [
    "ser.to_numpy(dtype=object)"
   ]
  },
  {
   "cell_type": "code",
   "execution_count": 12,
   "id": "f99f10dc",
   "metadata": {},
   "outputs": [
    {
     "data": {
      "text/plain": [
       "array([[-1.88142965, -0.39221728, -0.52216327],\n",
       "       [ 0.55864584,  0.32432015, -0.04212173],\n",
       "       [ 0.99360435, -1.04863062,  0.2679172 ],\n",
       "       [-1.51063182,  0.52998817,  0.00309374],\n",
       "       [ 1.35099789,  2.0251351 ,  1.8164006 ],\n",
       "       [ 0.03187086, -1.18714367, -0.10659033],\n",
       "       [-0.32794046,  0.05313398, -0.62249353],\n",
       "       [-0.17357174, -1.70615434, -0.63520156]])"
      ]
     },
     "execution_count": 12,
     "metadata": {},
     "output_type": "execute_result"
    }
   ],
   "source": [
    "'''Getting the “raw data” inside a DataFrame is possibly a bit more complex. When your DataFrame only has a single\n",
    "data type for all the columns, DataFrame.to_numpy() will return the underlying data:'''\n",
    "df.to_numpy()"
   ]
  },
  {
   "cell_type": "markdown",
   "id": "44a48f8e",
   "metadata": {},
   "source": [
    "If a DataFrame contains homogeneously-typed data, the ndarray can actually be modified in-place, and the changes will be reflected in the data structure. For heterogeneous data (e.g. some of the DataFrame’s columns are not all the same dtype), this will not be the case. The values attribute itself, unlike the axis labels, cannot be assigned to.\n",
    "\n",
    "Note: When working with heterogeneous data, the dtype of the resulting ndarray will be chosen to accommodate all of the data involved. For example, if strings are involved, the result will be of object dtype. If there are only floats and integers, the resulting array will be of float dtype.\n",
    "\n",
    "In the past, pandas recommended Series.values or DataFrame.values for extracting the data from a Series or DataFrame. You’ll still find references to these in old code bases and online. Going forward, we recommend avoiding .values and using .array or .to_numpy(). .values has the following drawbacks:\n",
    "1. When your Series contains an extension type, it’s unclear whether Series.values returns a NumPy array or the extension array. Series.array will always return an ExtensionArray, and will never copy data. Series.to_numpy() will always return a NumPy array, potentially at the cost of copying / coercing values.\n",
    "2. When your DataFrame contains a mixture of data types, DataFrame.values may involve copying data and coercing values to a common dtype, a relatively expensive operation. DataFrame.to_numpy(), being a method, makes it clearer that the returned NumPy array may not be a view on the same data in the DataFrame."
   ]
  },
  {
   "cell_type": "code",
   "execution_count": null,
   "id": "51a1edc6",
   "metadata": {},
   "outputs": [],
   "source": []
  }
 ],
 "metadata": {
  "kernelspec": {
   "display_name": "Python 3 (ipykernel)",
   "language": "python",
   "name": "python3"
  },
  "language_info": {
   "codemirror_mode": {
    "name": "ipython",
    "version": 3
   },
   "file_extension": ".py",
   "mimetype": "text/x-python",
   "name": "python",
   "nbconvert_exporter": "python",
   "pygments_lexer": "ipython3",
   "version": "3.9.7"
  }
 },
 "nbformat": 4,
 "nbformat_minor": 5
}
