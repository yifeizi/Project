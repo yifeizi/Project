{
 "cells": [
  {
   "cell_type": "markdown",
   "id": "def3fdb0",
   "metadata": {},
   "source": [
    "# 初见网络爬虫\n",
    "\n",
    "爬取过程：\n",
    "通过网站域名获取HTML数据\n",
    "根据目标数据解析数据\n",
    "存储目标信息\n",
    "根据需要转移到另一个网页重复这个过程\n",
    "\n",
    "## 网络连接\n",
    "\n",
    "\n",
    "\n",
    "## BeautifulSoup"
   ]
  },
  {
   "cell_type": "code",
   "execution_count": 8,
   "id": "cef5ecf8",
   "metadata": {},
   "outputs": [
    {
     "name": "stdout",
     "output_type": "stream",
     "text": [
      "<div>\n",
      "Lorem ipsum dolor sit amet, consectetur adipisicing elit, sed do eiusmod tempor incididunt ut labore et dolore magna aliqua. Ut enim ad minim veniam, quis nostrud exercitation ullamco laboris nisi ut aliquip ex ea commodo consequat. Duis aute irure dolor in reprehenderit in voluptate velit esse cillum dolore eu fugiat nulla pariatur. Excepteur sint occaecat cupidatat non proident, sunt in culpa qui officia deserunt mollit anim id est laborum.\n",
      "</div>\n"
     ]
    }
   ],
   "source": [
    "from urllib.request import urlopen\n",
    "from bs4 import BeautifulSoup\n",
    "\n",
    "url = \"http://www.pythonscraping.com/pages/page1.html\"\n",
    "\n",
    "html = urlopen(url)\n",
    "\n",
    "#print(html.read())\n",
    "\n",
    "bsobj = BeautifulSoup(html.read())\n",
    "#use BeautifulSoup to analysis the html file\n",
    "\n",
    "print(bsobj.div)"
   ]
  },
  {
   "cell_type": "code",
   "execution_count": null,
   "id": "cb23bd37",
   "metadata": {},
   "outputs": [],
   "source": []
  }
 ],
 "metadata": {
  "kernelspec": {
   "display_name": "Python 3 (ipykernel)",
   "language": "python",
   "name": "python3"
  },
  "language_info": {
   "codemirror_mode": {
    "name": "ipython",
    "version": 3
   },
   "file_extension": ".py",
   "mimetype": "text/x-python",
   "name": "python",
   "nbconvert_exporter": "python",
   "pygments_lexer": "ipython3",
   "version": "3.9.5"
  }
 },
 "nbformat": 4,
 "nbformat_minor": 5
}
