{
 "cells": [
  {
   "cell_type": "markdown",
   "id": "ae71bf8a",
   "metadata": {},
   "source": [
    "## 发送请求"
   ]
  },
  {
   "cell_type": "code",
   "execution_count": 14,
   "id": "2da62404",
   "metadata": {},
   "outputs": [],
   "source": [
    "from urllib.request import urlopen"
   ]
  },
  {
   "cell_type": "code",
   "execution_count": 18,
   "id": "dfa5bab0",
   "metadata": {},
   "outputs": [],
   "source": [
    "url = \"https://www.baidu.com/?tn=88093251_34_hao_pg\"\n",
    "\n",
    "resp = urlopen(url)"
   ]
  },
  {
   "cell_type": "code",
   "execution_count": 21,
   "id": "2e68ef09",
   "metadata": {},
   "outputs": [
    {
     "name": "stdout",
     "output_type": "stream",
     "text": [
      "\n"
     ]
    }
   ],
   "source": [
    "print(resp.read().decode('utf-8'))"
   ]
  },
  {
   "cell_type": "code",
   "execution_count": 22,
   "id": "2027347d",
   "metadata": {},
   "outputs": [
    {
     "name": "stdout",
     "output_type": "stream",
     "text": [
      "<class 'http.client.HTTPResponse'>\n"
     ]
    }
   ],
   "source": [
    "print(type(resp))"
   ]
  },
  {
   "cell_type": "code",
   "execution_count": 26,
   "id": "ded33cdb",
   "metadata": {},
   "outputs": [],
   "source": [
    "resp?"
   ]
  },
  {
   "cell_type": "code",
   "execution_count": 41,
   "id": "2c2b8d0a",
   "metadata": {},
   "outputs": [],
   "source": [
    "import urllib.request"
   ]
  },
  {
   "cell_type": "code",
   "execution_count": 30,
   "id": "3db6e498",
   "metadata": {},
   "outputs": [],
   "source": [
    "urllib.request.Request?"
   ]
  },
  {
   "cell_type": "code",
   "execution_count": 31,
   "id": "1c92ca63",
   "metadata": {},
   "outputs": [],
   "source": [
    "utl_1 = \"https://fanyi.baidu.com/sug\""
   ]
  },
  {
   "cell_type": "code",
   "execution_count": 46,
   "id": "8a9150f9",
   "metadata": {},
   "outputs": [
    {
     "name": "stdout",
     "output_type": "stream",
     "text": [
      "please enter a word:black\n"
     ]
    }
   ],
   "source": [
    "import urllib.parse\n",
    "\n",
    "word = input(\"please enter a word:\")\n",
    "\n",
    "dat = {\n",
    "    \"kw\":word\n",
    "}\n",
    "data = bytes(urllib.parse.urlencode(dat),encoding='utf-8')\n",
    "resp_1 = urllib.request.Request(utl_1,data=data,method=\"POST\")"
   ]
  },
  {
   "cell_type": "code",
   "execution_count": 48,
   "id": "ef3ae142",
   "metadata": {},
   "outputs": [
    {
     "name": "stdout",
     "output_type": "stream",
     "text": [
      "{\"errno\":0,\"data\":[{\"k\":\"black\",\"v\":\"adj. \\u9ed1\\uff08\\u8272\\uff09\\u7684; \\u9ed1\\u8272\\u4eba\\u79cd\\u7684; \\u9ed1\\u6697\\u7684; \\u4e0d\\u52a0\\u725b\\u5976\\u7684 n. \\u9ed1\\u8272; \\u9ed1\\u4eba; \\u9ed1\\u989c\\u6599; \\u9ed1\\u6697 v\"},{\"k\":\"Black\",\"v\":\"\\u5e03\\u83b1\\u514b\\uff08\\u59d3\\u6c0f\\uff1b Hugo La Fayette, 1886-1971\\uff0c\\u7f8e\\u56fd\\u6cd5\\u5b66\\u5bb6\\uff09\"},{\"k\":\"blacks\",\"v\":\"n. \\u9ed1\\u989c\\u6599( black\\u7684\\u540d\\u8bcd\\u590d\\u6570 ) v. \\u5f04\\u810f( black\\u7684\\u7b2c\\u4e09\\u4eba\\u79f0\\u5355\\u6570 ); \\u4f7f\\u53d8\\u9ed1; \\u62b5\"},{\"k\":\"blacked\",\"v\":\"v. \\u62b5\\u5236; \\u5f04\\u810f( black\\u7684\\u8fc7\\u53bb\\u5f0f\\u548c\\u8fc7\\u53bb\\u5206\\u8bcd ); \\u4f7f\\u53d8\\u9ed1; \\u628a\\u9ed1\\u6cb9\\u5f69\\u62b9\\u5728\\uff08\\u6f14\\u5458\\uff09\\u8138\\u4e0a\"},{\"k\":\"blacken\",\"v\":\"vt. \\u4f7f\\u53d8\\u9ed1\\uff0c\\u628a\\u2026\\u5f04\\u9ed1; \\u8bfd\\u8c24\\uff0c\\u8bcb\\u6bc1; \\u4e2d\\u4f24\\uff08\\u540d\\u8a89\\u7b49\\uff09 vi. \\u53d8\\u9ed1\"}]}\n"
     ]
    }
   ],
   "source": [
    "\n",
    "response = urlopen(resp_1)\n",
    "\n",
    "print(response.read().decode(\"utf-8\"))"
   ]
  },
  {
   "cell_type": "code",
   "execution_count": 45,
   "id": "c7103935",
   "metadata": {},
   "outputs": [
    {
     "name": "stdout",
     "output_type": "stream",
     "text": [
      "b''\n"
     ]
    }
   ],
   "source": [
    "print(response.read())"
   ]
  },
  {
   "cell_type": "code",
   "execution_count": null,
   "id": "f5fe23f1",
   "metadata": {},
   "outputs": [],
   "source": []
  }
 ],
 "metadata": {
  "kernelspec": {
   "display_name": "Python 3 (ipykernel)",
   "language": "python",
   "name": "python3"
  },
  "language_info": {
   "codemirror_mode": {
    "name": "ipython",
    "version": 3
   },
   "file_extension": ".py",
   "mimetype": "text/x-python",
   "name": "python",
   "nbconvert_exporter": "python",
   "pygments_lexer": "ipython3",
   "version": "3.9.7"
  }
 },
 "nbformat": 4,
 "nbformat_minor": 5
}
